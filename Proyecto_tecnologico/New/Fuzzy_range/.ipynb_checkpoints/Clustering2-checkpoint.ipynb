{
 "cells": [
  {
   "cell_type": "code",
   "execution_count": 1,
   "id": "09f9ace5",
   "metadata": {},
   "outputs": [],
   "source": [
    "import numpy as np \n",
    "from nltk.cluster import KMeansClusterer\n",
    "import nltk\n",
    "from sklearn.metrics import pairwise_distances"
   ]
  },
  {
   "cell_type": "code",
   "execution_count": 2,
   "id": "49f95826",
   "metadata": {},
   "outputs": [
    {
     "name": "stdout",
     "output_type": "stream",
     "text": [
      "Load_anorexia\n",
      "Load depression\n",
      "Load emotions\n",
      "Load pretrained\n"
     ]
    },
    {
     "name": "stderr",
     "output_type": "stream",
     "text": [
      "Warning : `load_model` does not return WordVectorModel or SupervisedModel any more, but a `FastText` object which is very similar.\n"
     ]
    }
   ],
   "source": [
    "from vec_function import *"
   ]
  },
  {
   "cell_type": "markdown",
   "id": "4402e825",
   "metadata": {},
   "source": [
    "# Dictionaries "
   ]
  },
  {
   "cell_type": "code",
   "execution_count": 3,
   "id": "0d941ecd",
   "metadata": {},
   "outputs": [],
   "source": [
    "#POST LEVEL DICTIONARIES \n",
    "#---------------------------ANOREXIA-------------------#\n",
    "#version 1\n",
    "post_pos_anxia1 = '/home/est_posgrado_maria.garcia/Tesis/Proyecto_tecnologico/New/Post_dictionary/post_level/anxia_pos_ver1key30'\n",
    "post_neg_anxia1 = '/home/est_posgrado_maria.garcia/Tesis/Proyecto_tecnologico/New/Post_dictionary/post_level/anxia_neg_ver1key30'\n",
    "#version 2\n",
    "post_pos_anxia2 = '/home/est_posgrado_maria.garcia/Tesis/Proyecto_tecnologico/New/Post_dictionary/post_level/anxia_pos_ver2key30'\n",
    "post_neg_anxia2 = '/home/est_posgrado_maria.garcia/Tesis/Proyecto_tecnologico/New/Post_dictionary/post_level/anxia_neg_ver2key30'\n",
    "\n",
    "#-------------------------DEPRESSION--------------------#\n",
    "#version 1 \n",
    "post_pos_dep1  =  '/home/est_posgrado_maria.garcia/Tesis/Proyecto_tecnologico/New/Post_dictionary/post_level/dep_pos_ver1key30'\n",
    "post_neg_dep1  =  '/home/est_posgrado_maria.garcia/Tesis/Proyecto_tecnologico/New/Post_dictionary/post_level/dep_neg_ver1key30'\n",
    "#version 2\n",
    "post_pos_dep2  =  '/home/est_posgrado_maria.garcia/Tesis/Proyecto_tecnologico/New/Post_dictionary/post_level/dep_pos_ver2key30'\n",
    "post_neg_dep2  =  '/home/est_posgrado_maria.garcia/Tesis/Proyecto_tecnologico/New/Post_dictionary/post_level/dep_neg_ver1key30'\n",
    "\n",
    "##                                         USER VERSION OF THE DICTIONARIES OF THE USERS                        #\n",
    "#---------------------------ANOREXIA-------------------#\n",
    "#version 1\n",
    "user_pos_anxia1 = '/home/est_posgrado_maria.garcia/Tesis/Proyecto_tecnologico/New/User_dictionary/anxia_pos_ver3'\n",
    "user_neg_anxia1 = '/home/est_posgrado_maria.garcia/Tesis/Proyecto_tecnologico/New/User_dictionary/anxia_neg_ver3'\n",
    "#version 2\n",
    "user_pos_anxia2 = '/home/est_posgrado_maria.garcia/Tesis/Proyecto_tecnologico/New/User_dictionary/anxia_pos_ver4'\n",
    "user_neg_anxia2 = '/home/est_posgrado_maria.garcia/Tesis/Proyecto_tecnologico/New/User_dictionary/anxia_neg_ver4'\n",
    "\n",
    "user_pos_anxia3 = '/home/est_posgrado_maria.garcia/Tesis/Proyecto_tecnologico/New/User_dictionary/anxia_pos_ver5'\n",
    "user_neg_anxia3 = '/home/est_posgrado_maria.garcia/Tesis/Proyecto_tecnologico/New/User_dictionary/anxia_neg_ver5'\n",
    "#version 2\n",
    "user_pos_anxia4 = '/home/est_posgrado_maria.garcia/Tesis/Proyecto_tecnologico/New/User_dictionary/anxia_pos_ver6'\n",
    "user_neg_anxia4 = '/home/est_posgrado_maria.garcia/Tesis/Proyecto_tecnologico/New/User_dictionary/anxia_neg_ver6'\n",
    "\n",
    "#---------------------------DEPRESSION-----------------#\n",
    "#version 1\n",
    "user_pos_dep1 = '/home/est_posgrado_maria.garcia/Tesis/Proyecto_tecnologico/New/User_dictionary/dep_pos_ver3'\n",
    "user_neg_dep1 = '/home/est_posgrado_maria.garcia/Tesis/Proyecto_tecnologico/New/User_dictionary/dep_neg_ver3'\n",
    "#version 2\n",
    "user_pos_dep2 = '/home/est_posgrado_maria.garcia/Tesis/Proyecto_tecnologico/New/User_dictionary/dep_pos_ver4'\n",
    "user_neg_dep2 = '/home/est_posgrado_maria.garcia/Tesis/Proyecto_tecnologico/New/User_dictionary/dep_neg_ver4'\n",
    "\n",
    "user_pos_dep3 = '/home/est_posgrado_maria.garcia/Tesis/Proyecto_tecnologico/New/User_dictionary/dep_pos_ver5'\n",
    "user_neg_dep3 = '/home/est_posgrado_maria.garcia/Tesis/Proyecto_tecnologico/New/User_dictionary/dep_neg_ver5'\n",
    "#version 2\n",
    "user_pos_dep4 = '/home/est_posgrado_maria.garcia/Tesis/Proyecto_tecnologico/New/User_dictionary/dep_pos_ver6'\n",
    "user_neg_dep4 = '/home/est_posgrado_maria.garcia/Tesis/Proyecto_tecnologico/New/User_dictionary/dep_neg_ver6'\n",
    "\n",
    "##                                                   CONCATANTE ALL THE TEXT \n",
    "#version 1\n",
    "con_pos_anxia1 = '/home/est_posgrado_maria.garcia/Tesis/Proyecto_tecnologico/New/Con_dictionary/anxia_pos_ver3'\n",
    "con_neg_anxia1 = '/home/est_posgrado_maria.garcia/Tesis/Proyecto_tecnologico/New/Con_dictionary/anxia_neg_ver3'\n",
    "#version 2\n",
    "con_pos_anxia2 = '/home/est_posgrado_maria.garcia/Tesis/Proyecto_tecnologico/New/Con_dictionary/anxia_pos_ver4'\n",
    "con_neg_anxia2 = '/home/est_posgrado_maria.garcia/Tesis/Proyecto_tecnologico/New/Con_dictionary/anxia_neg_ver4'\n",
    "\n",
    "con_pos_anxia3 = '/home/est_posgrado_maria.garcia/Tesis/Proyecto_tecnologico/New/Con_dictionary/anxia_pos_ver5'\n",
    "con_neg_anxia3 = '/home/est_posgrado_maria.garcia/Tesis/Proyecto_tecnologico/New/Con_dictionary/anxia_neg_ver5'\n",
    "#version 2\n",
    "con_pos_anxia4 = '/home/est_posgrado_maria.garcia/Tesis/Proyecto_tecnologico/New/Con_dictionary/anxia_pos_ver6'\n",
    "con_neg_anxia4 = '/home/est_posgrado_maria.garcia/Tesis/Proyecto_tecnologico/New/Con_dictionary/anxia_neg_ver6'\n",
    "\n",
    "#---------------------------DEPRESSION-----------------#\n",
    "#version 1\n",
    "con_pos_dep1 = '/home/est_posgrado_maria.garcia/Tesis/Proyecto_tecnologico/New/Con_dictionary/dep_pos_ver3'\n",
    "con_neg_dep1 = '/home/est_posgrado_maria.garcia/Tesis/Proyecto_tecnologico/New/Con_dictionary/dep_neg_ver3'\n",
    "#version 2\n",
    "con_pos_dep2 = '/home/est_posgrado_maria.garcia/Tesis/Proyecto_tecnologico/New/Con_dictionary/dep_pos_ver4'\n",
    "con_neg_dep2 = '/home/est_posgrado_maria.garcia/Tesis/Proyecto_tecnologico/New/Con_dictionary/dep_neg_ver4'\n",
    "\n",
    "con_pos_dep3 = '/home/est_posgrado_maria.garcia/Tesis/Proyecto_tecnologico/New/Con_dictionary/dep_pos_ver5'\n",
    "con_neg_dep3= '/home/est_posgrado_maria.garcia/Tesis/Proyecto_tecnologico/New/Con_dictionary/dep_neg_ver5'\n",
    "#version 2\n",
    "con_pos_dep4 = '/home/est_posgrado_maria.garcia/Tesis/Proyecto_tecnologico/New/Con_dictionary/dep_pos_ver6'\n",
    "con_neg_dep4 = '/home/est_posgrado_maria.garcia/Tesis/Proyecto_tecnologico/New/Con_dictionary/dep_neg_ver6'\n",
    "\n"
   ]
  },
  {
   "cell_type": "markdown",
   "id": "c6df75c2",
   "metadata": {},
   "source": [
    "# Functions "
   ]
  },
  {
   "cell_type": "code",
   "execution_count": 4,
   "id": "776dadbc",
   "metadata": {},
   "outputs": [],
   "source": [
    "def clustering_features(matrix_emb, num_cluster):\n",
    "    #convert the matrix_emb to a list of vectors\n",
    "    list_vectors = list(matrix_emb)\n",
    "\n",
    "    k_cluster = KMeansClusterer(num_cluster,\n",
    "                distance = nltk.cluster.util.cosine_distance,\n",
    "                repeats = 25,\n",
    "                avoid_empty_clusters = True)\n",
    "    #return a list with the cluster assign to each vector \n",
    "    assigned_clusters = k_cluster.cluster(list_vectors, assign_clusters = True)\n",
    "    centroids = k_cluster.means()\n",
    "\n",
    "    return np.array(assigned_clusters), np.array(centroids)"
   ]
  },
  {
   "cell_type": "markdown",
   "id": "c330a380",
   "metadata": {},
   "source": [
    "# Level post"
   ]
  },
  {
   "cell_type": "markdown",
   "id": "2171cbbb",
   "metadata": {},
   "source": [
    "## Anorexia"
   ]
  },
  {
   "cell_type": "markdown",
   "id": "514b1712",
   "metadata": {},
   "source": [
    "### Uppercase model embedding anxia"
   ]
  },
  {
   "cell_type": "code",
   "execution_count": 5,
   "id": "ac4048fe",
   "metadata": {},
   "outputs": [],
   "source": [
    "kw1 = get_list_key(post_pos_anxia1)\n",
    "kw2 = get_list_key(post_neg_anxia1)\n"
   ]
  },
  {
   "cell_type": "code",
   "execution_count": 6,
   "id": "4a6c14dd",
   "metadata": {},
   "outputs": [],
   "source": [
    "words_pos_anxia1 = get_words_from_kw(kw1)\n",
    "words_neg_anxia1 = get_words_from_kw(kw2)"
   ]
  },
  {
   "cell_type": "code",
   "execution_count": 7,
   "id": "76b18b34",
   "metadata": {},
   "outputs": [],
   "source": [
    "post_anxia_emb_matrix_pos1 = get_dictionary_matrix(words_pos_anxia1,1)\n",
    "post_anxia_emb_matrix_neg1 = get_dictionary_matrix(words_neg_anxia1,1)"
   ]
  },
  {
   "cell_type": "markdown",
   "id": "bf3b7121",
   "metadata": {},
   "source": [
    "### Uppercase model embedding pretrained"
   ]
  },
  {
   "cell_type": "code",
   "execution_count": 8,
   "id": "76e26e9f",
   "metadata": {},
   "outputs": [],
   "source": [
    "post_anxia_emb_matrix_pos2 = get_dictionary_matrix(words_pos_anxia1,3)\n",
    "post_anxia_emb_matrix_neg2 = get_dictionary_matrix(words_neg_anxia1,3)"
   ]
  },
  {
   "cell_type": "markdown",
   "id": "96a0c213",
   "metadata": {},
   "source": [
    "### Uppercase model embedding emotions"
   ]
  },
  {
   "cell_type": "code",
   "execution_count": 9,
   "id": "279f28aa",
   "metadata": {},
   "outputs": [],
   "source": [
    "post_anxia_emb_matrix_pos3 = get_dictionary_matrix(words_pos_anxia1,4)\n",
    "post_anxia_emb_matrix_neg3 = get_dictionary_matrix(words_neg_anxia1,4)"
   ]
  },
  {
   "cell_type": "markdown",
   "id": "a14439ea",
   "metadata": {},
   "source": [
    "### Lowercase model embedding anxia "
   ]
  },
  {
   "cell_type": "code",
   "execution_count": 10,
   "id": "c184b6f8",
   "metadata": {},
   "outputs": [],
   "source": [
    "kw3 = get_list_key(post_pos_anxia2)\n",
    "kw4 = get_list_key(post_neg_anxia2)\n"
   ]
  },
  {
   "cell_type": "code",
   "execution_count": 11,
   "id": "1ea9d9a2",
   "metadata": {},
   "outputs": [],
   "source": [
    "words_pos_anxia2 = get_words_from_kw(kw3)\n",
    "words_neg_anxia2 = get_words_from_kw(kw4)"
   ]
  },
  {
   "cell_type": "code",
   "execution_count": 12,
   "id": "540c055d",
   "metadata": {},
   "outputs": [],
   "source": [
    "post_anxia_emb_matrix_pos4 = get_dictionary_matrix(words_pos_anxia2,1)\n",
    "post_anxia_emb_matrix_neg4 = get_dictionary_matrix(words_neg_anxia2,1)"
   ]
  },
  {
   "cell_type": "markdown",
   "id": "36bbedcf",
   "metadata": {},
   "source": [
    "### Lowercase model embedding pre-trained "
   ]
  },
  {
   "cell_type": "code",
   "execution_count": 13,
   "id": "02a004fb",
   "metadata": {},
   "outputs": [],
   "source": [
    "post_anxia_emb_matrix_pos5 = get_dictionary_matrix(words_pos_anxia2,3)\n",
    "post_anxia_emb_matrix_neg5 = get_dictionary_matrix(words_neg_anxia2,3)"
   ]
  },
  {
   "cell_type": "markdown",
   "id": "b46c12a9",
   "metadata": {},
   "source": [
    "### Lowercase model embedding emotions"
   ]
  },
  {
   "cell_type": "code",
   "execution_count": 14,
   "id": "39ab7409",
   "metadata": {},
   "outputs": [],
   "source": [
    "post_anxia_emb_matrix_pos6 = get_dictionary_matrix(words_pos_anxia2,4)\n",
    "post_anxia_emb_matrix_neg6 = get_dictionary_matrix(words_neg_anxia2,4)"
   ]
  },
  {
   "cell_type": "markdown",
   "id": "ce4d023b",
   "metadata": {},
   "source": [
    "## Depression "
   ]
  },
  {
   "cell_type": "markdown",
   "id": "98d4da83",
   "metadata": {},
   "source": [
    "### Uppercase "
   ]
  },
  {
   "cell_type": "code",
   "execution_count": 15,
   "id": "9db724dd",
   "metadata": {},
   "outputs": [],
   "source": [
    "kw5 = get_list_key(post_pos_dep1)\n",
    "kw6 = get_list_key(post_neg_dep1)\n",
    "words_pos_dep1 = get_words_from_kw(kw5)\n",
    "words_neg_dep1 = get_words_from_kw(kw6)"
   ]
  },
  {
   "cell_type": "markdown",
   "id": "52a4bb5f",
   "metadata": {},
   "source": [
    "### Model embedding dep"
   ]
  },
  {
   "cell_type": "code",
   "execution_count": 16,
   "id": "7ddbf176",
   "metadata": {},
   "outputs": [],
   "source": [
    "post_dep_emb_matrix_pos1 = get_dictionary_matrix(words_pos_dep1,2)\n",
    "post_dep_emb_matrix_neg1 = get_dictionary_matrix(words_neg_dep1,2)"
   ]
  },
  {
   "cell_type": "markdown",
   "id": "19980bab",
   "metadata": {},
   "source": [
    "### Model embedding pre_trained "
   ]
  },
  {
   "cell_type": "code",
   "execution_count": 17,
   "id": "f1948249",
   "metadata": {},
   "outputs": [],
   "source": [
    "post_dep_emb_matrix_pos2 = get_dictionary_matrix(words_pos_dep1,3)\n",
    "post_dep_emb_matrix_neg2 = get_dictionary_matrix(words_neg_dep1,3)"
   ]
  },
  {
   "cell_type": "markdown",
   "id": "a63573f3",
   "metadata": {},
   "source": [
    "### Model embedding emotions "
   ]
  },
  {
   "cell_type": "code",
   "execution_count": 18,
   "id": "60fc650a",
   "metadata": {},
   "outputs": [],
   "source": [
    "post_dep_emb_matrix_pos3 = get_dictionary_matrix(words_pos_dep1,4)\n",
    "post_dep_emb_matrix_neg3 = get_dictionary_matrix(words_neg_dep1,4)"
   ]
  },
  {
   "cell_type": "markdown",
   "id": "10dc57cf",
   "metadata": {},
   "source": [
    "### Lowercase"
   ]
  },
  {
   "cell_type": "code",
   "execution_count": 19,
   "id": "bee0a2aa",
   "metadata": {},
   "outputs": [],
   "source": [
    "kw7 = get_list_key(post_pos_dep2)\n",
    "kw8 = get_list_key(post_neg_dep2)\n",
    "words_pos_dep2 = get_words_from_kw(kw7)\n",
    "words_neg_dep2 = get_words_from_kw(kw8)"
   ]
  },
  {
   "cell_type": "markdown",
   "id": "7c7b4007",
   "metadata": {},
   "source": [
    "### Model embedding dep"
   ]
  },
  {
   "cell_type": "code",
   "execution_count": 20,
   "id": "ec472395",
   "metadata": {},
   "outputs": [],
   "source": [
    "post_dep_emb_matrix_pos4 = get_dictionary_matrix(words_pos_dep2,2)\n",
    "post_dep_emb_matrix_neg4 = get_dictionary_matrix(words_neg_dep2,2)"
   ]
  },
  {
   "cell_type": "markdown",
   "id": "06f2974e",
   "metadata": {},
   "source": [
    "### Model embedding pre_trained"
   ]
  },
  {
   "cell_type": "code",
   "execution_count": 21,
   "id": "e4c451aa",
   "metadata": {},
   "outputs": [],
   "source": [
    "post_dep_emb_matrix_pos5 = get_dictionary_matrix(words_pos_dep2,3)\n",
    "post_dep_emb_matrix_neg5 = get_dictionary_matrix(words_neg_dep2,3)"
   ]
  },
  {
   "cell_type": "markdown",
   "id": "22b1f56e",
   "metadata": {},
   "source": [
    "### Model embedding emotions"
   ]
  },
  {
   "cell_type": "code",
   "execution_count": 22,
   "id": "9172f2f3",
   "metadata": {},
   "outputs": [],
   "source": [
    "post_dep_emb_matrix_pos6 = get_dictionary_matrix(words_pos_dep2,4)\n",
    "post_dep_emb_matrix_neg6 = get_dictionary_matrix(words_neg_dep2,4)"
   ]
  },
  {
   "cell_type": "markdown",
   "id": "e6ae7c6e",
   "metadata": {},
   "source": [
    "# Level user"
   ]
  },
  {
   "cell_type": "markdown",
   "id": "34826331",
   "metadata": {},
   "source": [
    "## Anorexia"
   ]
  },
  {
   "cell_type": "markdown",
   "id": "3ab22029",
   "metadata": {},
   "source": [
    " ### Uppercase"
   ]
  },
  {
   "cell_type": "code",
   "execution_count": 23,
   "id": "5dd76269",
   "metadata": {},
   "outputs": [],
   "source": [
    "kw9 = get_list_key(user_pos_anxia1)\n",
    "kw10 = get_list_key(user_neg_anxia1)\n",
    "words_pos_anxia3 = get_words_from_kw(kw9)\n",
    "words_neg_anxia3 = get_words_from_kw(kw10)"
   ]
  },
  {
   "cell_type": "markdown",
   "id": "d3e8aea5",
   "metadata": {},
   "source": [
    "### Embedding model anxia \n"
   ]
  },
  {
   "cell_type": "code",
   "execution_count": 24,
   "id": "f8c93d2d",
   "metadata": {},
   "outputs": [],
   "source": [
    "user_anxia_emb_matrix_pos1 = get_dictionary_matrix(words_pos_anxia3,1)\n",
    "user_anxia_emb_matrix_neg1 = get_dictionary_matrix(words_neg_anxia3,1)"
   ]
  },
  {
   "cell_type": "markdown",
   "id": "02d94455",
   "metadata": {},
   "source": [
    "### Embedding pretrained"
   ]
  },
  {
   "cell_type": "code",
   "execution_count": 25,
   "id": "61349f99",
   "metadata": {},
   "outputs": [],
   "source": [
    "user_anxia_emb_matrix_pos2 = get_dictionary_matrix(words_pos_anxia3,3)\n",
    "user_anxia_emb_matrix_neg2 = get_dictionary_matrix(words_neg_anxia3,3)"
   ]
  },
  {
   "cell_type": "markdown",
   "id": "da4f5b22",
   "metadata": {},
   "source": [
    "### Uppercase model embedding emotions"
   ]
  },
  {
   "cell_type": "code",
   "execution_count": 26,
   "id": "e27916fb",
   "metadata": {},
   "outputs": [],
   "source": [
    "user_anxia_emb_matrix_pos3 = get_dictionary_matrix(words_pos_anxia3,4)\n",
    "user_anxia_emb_matrix_neg3 = get_dictionary_matrix(words_neg_anxia3,4)"
   ]
  },
  {
   "cell_type": "markdown",
   "id": "fa59ccee",
   "metadata": {},
   "source": [
    "### Lowercase"
   ]
  },
  {
   "cell_type": "code",
   "execution_count": 27,
   "id": "eb60f898",
   "metadata": {},
   "outputs": [],
   "source": [
    "kw11 = get_list_key(user_pos_anxia2)\n",
    "kw12 = get_list_key(user_neg_anxia2)"
   ]
  },
  {
   "cell_type": "code",
   "execution_count": 28,
   "id": "266b97c8",
   "metadata": {},
   "outputs": [],
   "source": [
    "words_pos_anxia4 = get_words_from_kw(kw11)\n",
    "words_neg_anxia4 = get_words_from_kw(kw12)"
   ]
  },
  {
   "cell_type": "markdown",
   "id": "37975849",
   "metadata": {},
   "source": [
    "### Model embedding anxia "
   ]
  },
  {
   "cell_type": "code",
   "execution_count": 29,
   "id": "defe9abf",
   "metadata": {},
   "outputs": [],
   "source": [
    "user_anxia_emb_matrix_pos4 = get_dictionary_matrix(words_pos_anxia4,1)\n",
    "user_anxia_emb_matrix_neg4 = get_dictionary_matrix(words_neg_anxia4,1)"
   ]
  },
  {
   "cell_type": "markdown",
   "id": "f573e07c",
   "metadata": {},
   "source": [
    "### Lowercase model embedding pre-trained "
   ]
  },
  {
   "cell_type": "code",
   "execution_count": 30,
   "id": "d6f475ae",
   "metadata": {},
   "outputs": [],
   "source": [
    "user_anxia_emb_matrix_pos5 = get_dictionary_matrix(words_pos_anxia4,3)\n",
    "user_anxia_emb_matrix_neg5 = get_dictionary_matrix(words_neg_anxia4,3)"
   ]
  },
  {
   "cell_type": "markdown",
   "id": "1abc2f67",
   "metadata": {},
   "source": [
    "### Lowercase model embedding emotions"
   ]
  },
  {
   "cell_type": "code",
   "execution_count": 31,
   "id": "41e216dd",
   "metadata": {},
   "outputs": [],
   "source": [
    "user_anxia_emb_matrix_pos6 = get_dictionary_matrix(words_pos_anxia4,4)\n",
    "user_anxia_emb_matrix_neg6 = get_dictionary_matrix(words_neg_anxia4,4)"
   ]
  },
  {
   "cell_type": "markdown",
   "id": "6eb3661c",
   "metadata": {},
   "source": [
    "## Depression "
   ]
  },
  {
   "cell_type": "markdown",
   "id": "06893a8c",
   "metadata": {},
   "source": [
    "### Uppercase "
   ]
  },
  {
   "cell_type": "code",
   "execution_count": 32,
   "id": "4cc3864b",
   "metadata": {},
   "outputs": [],
   "source": [
    "kw13 = get_list_key(user_pos_dep1)\n",
    "kw14 = get_list_key(user_neg_dep1)\n",
    "words_pos_dep3 = get_words_from_kw(kw13)\n",
    "words_neg_dep3 = get_words_from_kw(kw14)"
   ]
  },
  {
   "cell_type": "markdown",
   "id": "82604942",
   "metadata": {},
   "source": [
    "### Model embedding dep"
   ]
  },
  {
   "cell_type": "code",
   "execution_count": 33,
   "id": "ea245180",
   "metadata": {},
   "outputs": [],
   "source": [
    "user_dep_emb_matrix_pos1 = get_dictionary_matrix(words_pos_dep3,2)\n",
    "user_dep_emb_matrix_neg1 = get_dictionary_matrix(words_neg_dep3,2)"
   ]
  },
  {
   "cell_type": "markdown",
   "id": "cb0f4594",
   "metadata": {},
   "source": [
    "### Model embedding pre_trained "
   ]
  },
  {
   "cell_type": "code",
   "execution_count": 34,
   "id": "3c8f5695",
   "metadata": {},
   "outputs": [],
   "source": [
    "user_dep_emb_matrix_pos2 = get_dictionary_matrix(words_pos_dep3,3)\n",
    "user_dep_emb_matrix_neg2 = get_dictionary_matrix(words_neg_dep3,3)"
   ]
  },
  {
   "cell_type": "markdown",
   "id": "9c220863",
   "metadata": {},
   "source": [
    "### Model embedding emotions "
   ]
  },
  {
   "cell_type": "code",
   "execution_count": 35,
   "id": "4e35655e",
   "metadata": {},
   "outputs": [],
   "source": [
    "user_dep_emb_matrix_pos3 = get_dictionary_matrix(words_pos_dep3,4)\n",
    "user_dep_emb_matrix_neg3 = get_dictionary_matrix(words_neg_dep3,4)"
   ]
  },
  {
   "cell_type": "markdown",
   "id": "7d34b7da",
   "metadata": {},
   "source": [
    "### Lowercase"
   ]
  },
  {
   "cell_type": "code",
   "execution_count": 36,
   "id": "e999bad3",
   "metadata": {},
   "outputs": [],
   "source": [
    "kw15 = get_list_key(user_pos_dep2)\n",
    "kw16 = get_list_key(user_neg_dep2)\n",
    "words_pos_dep4 = get_words_from_kw(kw15)\n",
    "words_neg_dep4 = get_words_from_kw(kw16)"
   ]
  },
  {
   "cell_type": "markdown",
   "id": "96ffb884",
   "metadata": {},
   "source": [
    "### Model embedding dep"
   ]
  },
  {
   "cell_type": "code",
   "execution_count": 37,
   "id": "46076887",
   "metadata": {},
   "outputs": [],
   "source": [
    "user_dep_emb_matrix_pos4 = get_dictionary_matrix(words_pos_dep4,2)\n",
    "user_dep_emb_matrix_neg4 = get_dictionary_matrix(words_neg_dep4,2)"
   ]
  },
  {
   "cell_type": "markdown",
   "id": "6405eeca",
   "metadata": {},
   "source": [
    "### Model embedding pre_trained"
   ]
  },
  {
   "cell_type": "code",
   "execution_count": 38,
   "id": "623e831f",
   "metadata": {},
   "outputs": [],
   "source": [
    "user_dep_emb_matrix_pos5 = get_dictionary_matrix(words_pos_dep4,3)\n",
    "user_dep_emb_matrix_neg5 = get_dictionary_matrix(words_neg_dep4,3)"
   ]
  },
  {
   "cell_type": "markdown",
   "id": "df36bdb6",
   "metadata": {},
   "source": [
    "### Model embedding emotions"
   ]
  },
  {
   "cell_type": "code",
   "execution_count": 39,
   "id": "a0ac2b76",
   "metadata": {},
   "outputs": [],
   "source": [
    "user_dep_emb_matrix_pos6 = get_dictionary_matrix(words_pos_dep4,4)\n",
    "user_dep_emb_matrix_neg6 = get_dictionary_matrix(words_neg_dep4,4)"
   ]
  },
  {
   "cell_type": "markdown",
   "id": "34e4678f",
   "metadata": {},
   "source": [
    "# Level concatenation"
   ]
  },
  {
   "cell_type": "markdown",
   "id": "2a4429c8",
   "metadata": {},
   "source": [
    "## Anorexia"
   ]
  },
  {
   "cell_type": "markdown",
   "id": "0162887c",
   "metadata": {},
   "source": [
    " ### Uppercase"
   ]
  },
  {
   "cell_type": "code",
   "execution_count": 40,
   "id": "c699a01e",
   "metadata": {},
   "outputs": [],
   "source": [
    "kw17 = get_list_key(con_pos_anxia1)\n",
    "kw18 = get_list_key(con_neg_anxia1)\n",
    "words_pos_anxia5 = get_words_from_kw(kw17)\n",
    "words_neg_anxia5 = get_words_from_kw(kw18)"
   ]
  },
  {
   "cell_type": "markdown",
   "id": "ae16e6bc",
   "metadata": {},
   "source": [
    "### Embedding model anxia "
   ]
  },
  {
   "cell_type": "code",
   "execution_count": 41,
   "id": "1add8951",
   "metadata": {},
   "outputs": [],
   "source": [
    "con_anxia_emb_matrix_pos1 = get_dictionary_matrix(words_pos_anxia5,1)\n",
    "con_anxia_emb_matrix_neg1 = get_dictionary_matrix(words_neg_anxia5,1)"
   ]
  },
  {
   "cell_type": "markdown",
   "id": "5119aa54",
   "metadata": {},
   "source": [
    "### Embedding pretrained"
   ]
  },
  {
   "cell_type": "code",
   "execution_count": 42,
   "id": "fbc71a96",
   "metadata": {},
   "outputs": [],
   "source": [
    "con_anxia_emb_matrix_pos2 = get_dictionary_matrix(words_pos_anxia5,3)\n",
    "con_anxia_emb_matrix_neg2 = get_dictionary_matrix(words_neg_anxia5,3)"
   ]
  },
  {
   "cell_type": "markdown",
   "id": "ee7f7851",
   "metadata": {},
   "source": [
    "### Uppercase model embedding emotions"
   ]
  },
  {
   "cell_type": "code",
   "execution_count": 43,
   "id": "0aaf5fd8",
   "metadata": {},
   "outputs": [],
   "source": [
    "con_anxia_emb_matrix_pos3 = get_dictionary_matrix(words_pos_anxia5,4)\n",
    "con_anxia_emb_matrix_neg3 = get_dictionary_matrix(words_neg_anxia5,4)"
   ]
  },
  {
   "cell_type": "markdown",
   "id": "fc1eefe5",
   "metadata": {},
   "source": [
    "### Lowercase"
   ]
  },
  {
   "cell_type": "code",
   "execution_count": 44,
   "id": "a3ab5a99",
   "metadata": {},
   "outputs": [],
   "source": [
    "kw19 = get_list_key(con_pos_anxia2)\n",
    "kw20 = get_list_key(con_neg_anxia2)"
   ]
  },
  {
   "cell_type": "code",
   "execution_count": 45,
   "id": "6ddf85b7",
   "metadata": {},
   "outputs": [],
   "source": [
    "words_pos_anxia6 = get_words_from_kw(kw19)\n",
    "words_neg_anxia6 = get_words_from_kw(kw20)"
   ]
  },
  {
   "cell_type": "markdown",
   "id": "bbee5e8b",
   "metadata": {},
   "source": [
    "### Model embedding anxia "
   ]
  },
  {
   "cell_type": "code",
   "execution_count": 46,
   "id": "04f50ae0",
   "metadata": {},
   "outputs": [],
   "source": [
    "con_anxia_emb_matrix_pos4 = get_dictionary_matrix(words_pos_anxia6,1)\n",
    "con_anxia_emb_matrix_neg4 = get_dictionary_matrix(words_neg_anxia6,1)"
   ]
  },
  {
   "cell_type": "markdown",
   "id": "3e3a3645",
   "metadata": {},
   "source": [
    "### Lowercase model embedding pre-trained "
   ]
  },
  {
   "cell_type": "code",
   "execution_count": 47,
   "id": "c66ebabb",
   "metadata": {},
   "outputs": [],
   "source": [
    "con_anxia_emb_matrix_pos5 = get_dictionary_matrix(words_pos_anxia6,3)\n",
    "con_anxia_emb_matrix_neg5 = get_dictionary_matrix(words_neg_anxia6,3)"
   ]
  },
  {
   "cell_type": "markdown",
   "id": "a31e5571",
   "metadata": {},
   "source": [
    "### Lowercase model embedding emotions"
   ]
  },
  {
   "cell_type": "code",
   "execution_count": 48,
   "id": "9c929c03",
   "metadata": {},
   "outputs": [],
   "source": [
    "con_anxia_emb_matrix_pos6 = get_dictionary_matrix(words_pos_anxia6,4)\n",
    "con_anxia_emb_matrix_neg6 = get_dictionary_matrix(words_neg_anxia6,4)"
   ]
  },
  {
   "cell_type": "markdown",
   "id": "90dafd47",
   "metadata": {},
   "source": [
    "## Depression "
   ]
  },
  {
   "cell_type": "markdown",
   "id": "0199441d",
   "metadata": {},
   "source": [
    "### Uppercase "
   ]
  },
  {
   "cell_type": "code",
   "execution_count": 49,
   "id": "34f052be",
   "metadata": {},
   "outputs": [],
   "source": [
    "kw21 = get_list_key(con_pos_dep1)\n",
    "kw22 = get_list_key(con_neg_dep1)\n",
    "words_pos_dep5 = get_words_from_kw(kw21)\n",
    "words_neg_dep5 = get_words_from_kw(kw22)"
   ]
  },
  {
   "cell_type": "markdown",
   "id": "a145917b",
   "metadata": {},
   "source": [
    "### Model embedding dep"
   ]
  },
  {
   "cell_type": "code",
   "execution_count": 50,
   "id": "5069c12a",
   "metadata": {},
   "outputs": [],
   "source": [
    "con_dep_emb_matrix_pos1 = get_dictionary_matrix(words_pos_dep5,2)\n",
    "con_dep_emb_matrix_neg1 = get_dictionary_matrix(words_neg_dep5,2)"
   ]
  },
  {
   "cell_type": "markdown",
   "id": "af659580",
   "metadata": {},
   "source": [
    "### Model embedding pre_trained "
   ]
  },
  {
   "cell_type": "code",
   "execution_count": 51,
   "id": "0a4ccd11",
   "metadata": {},
   "outputs": [],
   "source": [
    "con_dep_emb_matrix_pos2 = get_dictionary_matrix(words_pos_dep5,3)\n",
    "con_dep_emb_matrix_neg2 = get_dictionary_matrix(words_neg_dep5,3)"
   ]
  },
  {
   "cell_type": "markdown",
   "id": "3093d2b5",
   "metadata": {},
   "source": [
    "### Model embedding emotions "
   ]
  },
  {
   "cell_type": "code",
   "execution_count": 52,
   "id": "4b393b53",
   "metadata": {},
   "outputs": [],
   "source": [
    "con_dep_emb_matrix_pos3 = get_dictionary_matrix(words_pos_dep5,4)\n",
    "con_dep_emb_matrix_neg3 = get_dictionary_matrix(words_neg_dep5,4)"
   ]
  },
  {
   "cell_type": "markdown",
   "id": "9b71de9d",
   "metadata": {},
   "source": [
    "### Lowercase"
   ]
  },
  {
   "cell_type": "code",
   "execution_count": 53,
   "id": "b5fa80b5",
   "metadata": {},
   "outputs": [],
   "source": [
    "kw23 = get_list_key(con_pos_dep2)\n",
    "kw24 = get_list_key(con_neg_dep2)\n",
    "words_pos_dep6 = get_words_from_kw(kw23)\n",
    "words_neg_dep6 = get_words_from_kw(kw24)"
   ]
  },
  {
   "cell_type": "markdown",
   "id": "91bb5b05",
   "metadata": {},
   "source": [
    "### Model embedding dep"
   ]
  },
  {
   "cell_type": "code",
   "execution_count": 54,
   "id": "96412be6",
   "metadata": {},
   "outputs": [],
   "source": [
    "con_dep_emb_matrix_pos4 = get_dictionary_matrix(words_pos_dep6,2)\n",
    "con_dep_emb_matrix_neg4 = get_dictionary_matrix(words_neg_dep6,2)"
   ]
  },
  {
   "cell_type": "markdown",
   "id": "aa42c0ef",
   "metadata": {},
   "source": [
    "### Model embedding pre_trained"
   ]
  },
  {
   "cell_type": "code",
   "execution_count": 55,
   "id": "d622a162",
   "metadata": {},
   "outputs": [],
   "source": [
    "con_dep_emb_matrix_pos5 = get_dictionary_matrix(words_pos_dep6,3)\n",
    "con_dep_emb_matrix_neg5 = get_dictionary_matrix(words_neg_dep6,3)"
   ]
  },
  {
   "cell_type": "markdown",
   "id": "cbcad1e9",
   "metadata": {},
   "source": [
    "### Model embedding emotions"
   ]
  },
  {
   "cell_type": "code",
   "execution_count": 56,
   "id": "b05a6ba7",
   "metadata": {},
   "outputs": [],
   "source": [
    "con_dep_emb_matrix_pos6 = get_dictionary_matrix(words_pos_dep6,4)\n",
    "con_dep_emb_matrix_neg6 = get_dictionary_matrix(words_neg_dep6,4)"
   ]
  },
  {
   "cell_type": "markdown",
   "id": "87981fe3",
   "metadata": {},
   "source": [
    "# Make clustering"
   ]
  },
  {
   "cell_type": "code",
   "execution_count": 78,
   "id": "f54f2756",
   "metadata": {},
   "outputs": [],
   "source": [
    "x,y = clustering_features(post_anxia_emb_matrix_pos1, 5)"
   ]
  },
  {
   "cell_type": "code",
   "execution_count": 133,
   "id": "beccff20",
   "metadata": {},
   "outputs": [],
   "source": [
    "z = sklearn.metrics.pairwise.cosine_similarity(post_anxia_emb_matrix_pos1, y)"
   ]
  },
  {
   "cell_type": "code",
   "execution_count": 161,
   "id": "00ad738b",
   "metadata": {},
   "outputs": [
    {
     "data": {
      "text/plain": [
       "(17558, 5)"
      ]
     },
     "execution_count": 161,
     "metadata": {},
     "output_type": "execute_result"
    }
   ],
   "source": [
    "z.shape"
   ]
  },
  {
   "cell_type": "code",
   "execution_count": 137,
   "id": "c08f9ed6",
   "metadata": {},
   "outputs": [
    {
     "data": {
      "text/plain": [
       "array([0.98495205, 0.99322445, 0.97469647, 0.95519785, 0.98010243])"
      ]
     },
     "execution_count": 137,
     "metadata": {},
     "output_type": "execute_result"
    }
   ],
   "source": [
    " np.amax(z, axis = 0)"
   ]
  },
  {
   "cell_type": "code",
   "execution_count": 157,
   "id": "60906ef0",
   "metadata": {},
   "outputs": [],
   "source": [
    "index, clusters = np.where( z ==  np.amax(z, axis = 0))"
   ]
  },
  {
   "cell_type": "code",
   "execution_count": 162,
   "id": "78896943",
   "metadata": {},
   "outputs": [
    {
     "data": {
      "text/plain": [
       "[(6014, 0), (7853, 3), (15232, 2), (15242, 1), (16832, 4)]"
      ]
     },
     "execution_count": 162,
     "metadata": {},
     "output_type": "execute_result"
    }
   ],
   "source": [
    "list(zip(index,clusters))"
   ]
  },
  {
   "cell_type": "code",
   "execution_count": 160,
   "id": "a0311f4e",
   "metadata": {},
   "outputs": [
    {
     "data": {
      "text/plain": [
       "array([0, 3, 2, 1, 4])"
      ]
     },
     "execution_count": 160,
     "metadata": {},
     "output_type": "execute_result"
    }
   ],
   "source": [
    "clusters"
   ]
  },
  {
   "cell_type": "code",
   "execution_count": 151,
   "id": "1766aa1e",
   "metadata": {},
   "outputs": [
    {
     "data": {
      "text/plain": [
       "'Cassiun'"
      ]
     },
     "execution_count": 151,
     "metadata": {},
     "output_type": "execute_result"
    }
   ],
   "source": [
    "kw1[16832][0]"
   ]
  },
  {
   "cell_type": "code",
   "execution_count": 152,
   "id": "4edece62",
   "metadata": {},
   "outputs": [
    {
     "data": {
      "text/plain": [
       "'Cassiun'"
      ]
     },
     "execution_count": 152,
     "metadata": {},
     "output_type": "execute_result"
    }
   ],
   "source": [
    "words_pos_anxia1[16832]"
   ]
  },
  {
   "cell_type": "code",
   "execution_count": 57,
   "id": "4839baae",
   "metadata": {},
   "outputs": [],
   "source": [
    "def get_represententing_words(word_embedding_matrix, num_clusters, dictionary):\n",
    "    words_centroid = dict()\n",
    "    array_clusters, centroids = clustering_features(word_embedding_matrix, num_clusters)\n",
    "    #calculate the cosine similarity between the centroids and the embedings of the words\n",
    "    similarity_matrix = sklearn.metrics.pairwise.cosine_similarity(word_embedding_matrix, centroids)\n",
    "    #array with the maximum by column\n",
    "    max_similarity = np.amax(similarity_matrix, axis = 0)\n",
    "    #find the index, n_lcuster is the number of cluster corresponding to the maximum in that cluster \n",
    "    index, n_cluster = np.where( similarity_matrix == max_similarity)\n",
    "    \n",
    "    for i in range(index.shape[0]):\n",
    "        words_centroid[n_cluster[i]] = dictionary[index[i]]\n",
    "    \n",
    "    return words_centroid"
   ]
  },
  {
   "cell_type": "markdown",
   "id": "0806190d",
   "metadata": {},
   "source": [
    "# Get clusters "
   ]
  },
  {
   "cell_type": "markdown",
   "id": "96bef1b5",
   "metadata": {},
   "source": [
    "## Level post : 5 cluster "
   ]
  },
  {
   "cell_type": "code",
   "execution_count": 58,
   "id": "5f0b1c1c",
   "metadata": {},
   "outputs": [],
   "source": [
    "cluster_path_5 = '/home/est_posgrado_maria.garcia/Tesis/Proyecto_tecnologico/New/Fuzzy_range/10-Cluster'"
   ]
  },
  {
   "cell_type": "code",
   "execution_count": 59,
   "id": "c9e39c04",
   "metadata": {},
   "outputs": [],
   "source": [
    "\n",
    "post_anxia1 = get_represententing_words(post_anxia_emb_matrix_pos1, 10, words_pos_anxia1)\n",
    "\n",
    "\n",
    "with open(cluster_path_5+'/post_anxia_uppercase', \"wb\") as fp:\n",
    "    pickle.dump(post_anxia1, fp)\n",
    "    fp.close()\n",
    "\n",
    "post_anxia2 = get_represententing_words(post_anxia_emb_matrix_pos2, 10, words_pos_anxia1)\n",
    "with open(cluster_path_5+'/post_pre_uppercase', \"wb\") as fp:\n",
    "    pickle.dump(post_anxia2, fp)\n",
    "    fp.close()\n",
    "\n",
    "post_anxia3 = get_represententing_words(post_anxia_emb_matrix_pos3, 10, words_pos_anxia1)\n",
    "with open(cluster_path_5+'/post_emo_uppercase', \"wb\") as fp:\n",
    "    pickle.dump(post_anxia3, fp)\n",
    "    fp.close()\n",
    "\n",
    "post_anxia4 = get_represententing_words(post_anxia_emb_matrix_pos4, 10, words_pos_anxia2)\n",
    "with open(cluster_path_5+'/post_anxia_lowercase', \"wb\") as fp:\n",
    "    pickle.dump(post_anxia4, fp)\n",
    "    fp.close()\n",
    "\n",
    "post_anxia5 = get_represententing_words(post_anxia_emb_matrix_pos5, 10, words_pos_anxia2)\n",
    "with open(cluster_path_5+'/post_pre_lowercase', \"wb\") as fp:\n",
    "    pickle.dump(post_anxia5, fp)\n",
    "    fp.close()\n",
    "\n",
    "post_anxia6 = get_represententing_words(post_anxia_emb_matrix_pos6, 10, words_pos_anxia2)\n",
    "with open(cluster_path_5+'/post_emo_lowercase', \"wb\") as fp:\n",
    "    pickle.dump(post_anxia6, fp)\n",
    "    fp.close()"
   ]
  },
  {
   "cell_type": "code",
   "execution_count": null,
   "id": "48289e5e",
   "metadata": {},
   "outputs": [],
   "source": [
    "post_neg_anxia1 = get_represententing_words(post_anxia_emb_matrix_neg1, 10, words_neg_anxia1)\n",
    "with open(cluster_path_5+'/post_neg_anxia_uppercase', \"wb\") as fp:\n",
    "    pickle.dump(post_neg_anxia1, fp)\n",
    "    fp.close()\n",
    "\n",
    "post_anxia2 = get_represententing_words(post_anxia_emb_matrix_neg2, 10, words_neg_anxia1)\n",
    "with open(cluster_path_5+'/post_neg_pre_uppercase', \"wb\") as fp:\n",
    "    pickle.dump(post_anxia2, fp)\n",
    "    fp.close()\n",
    "\n",
    "post_anxia3 = get_represententing_words(post_anxia_emb_matrix_neg3, 10, words_neg_anxia1)\n",
    "with open(cluster_path_5+'/post_neg_emo_uppercase', \"wb\") as fp:\n",
    "    pickle.dump(post_anxia3, fp)\n",
    "    fp.close()\n",
    "\n",
    "post_anxia4 = get_represententing_words(post_anxia_emb_matrix_neg4, 10, words_neg_anxia2)\n",
    "with open(cluster_path_5+'/post_neg_anxia_lowercase', \"wb\") as fp:\n",
    "    pickle.dump(post_anxia4, fp)\n",
    "    fp.close()\n",
    "\n",
    "post_anxia5 = get_represententing_words(post_anxia_emb_matrix_neg5, 10, words_neg_anxia2)\n",
    "with open(cluster_path_5+'/post_neg_pre_lowercase', \"wb\") as fp:\n",
    "    pickle.dump(post_anxia5, fp)\n",
    "    fp.close()\n",
    "\n",
    "post_anxia6 = get_represententing_words(post_anxia_emb_matrix_pos6, 10, words_neg_anxia2)\n",
    "with open(cluster_path_5+'/post_neg_emo_lowercase', \"wb\") as fp:\n",
    "    pickle.dump(post_anxia6, fp)\n",
    "    fp.close()"
   ]
  },
  {
   "cell_type": "code",
   "execution_count": null,
   "id": "0256432b",
   "metadata": {},
   "outputs": [],
   "source": [
    "post_dep1 = get_represententing_words(post_dep_emb_matrix_pos1, 10, words_pos_dep1)\n",
    "with open(cluster_path_5+'/post_dep_uppercase', \"wb\") as fp:\n",
    "    pickle.dump(post_dep1, fp)\n",
    "    fp.close()\n",
    "\n",
    "post_dep2 = get_represententing_words(post_dep_emb_matrix_pos2, 10, words_pos_dep1)\n",
    "with open(cluster_path_5+'/post_dep_pre_uppercase', \"wb\") as fp:\n",
    "    pickle.dump(post_dep2, fp)\n",
    "    fp.close()\n",
    "\n",
    "post_dep3 = get_represententing_words(post_dep_emb_matrix_pos3, 10, words_pos_dep1)\n",
    "with open(cluster_path_5+'/post_dep_emo_uppercase', \"wb\") as fp:\n",
    "    pickle.dump(post_dep3, fp)\n",
    "    fp.close()\n",
    "\n",
    "post_dep4 = get_represententing_words(post_dep_emb_matrix_pos4, 10, words_pos_dep2)\n",
    "with open(cluster_path_5+'/post_dep_lowercase', \"wb\") as fp:\n",
    "    pickle.dump(post_dep4, fp)\n",
    "    fp.close()\n",
    "\n",
    "post_dep5 = get_represententing_words(post_dep_emb_matrix_pos5, 10, words_pos_dep2)\n",
    "with open(cluster_path_5+'/post_dep_pre_lowercase', \"wb\") as fp:\n",
    "    pickle.dump(post_dep5, fp)\n",
    "    fp.close()\n",
    "\n",
    "post_dep6 = get_represententing_words(post_dep_emb_matrix_pos6, 10, words_pos_dep2)\n",
    "with open(cluster_path_5+'/post_dep_emo_lowercase', \"wb\") as fp:\n",
    "    pickle.dump(post_dep6, fp)\n",
    "    fp.close()"
   ]
  },
  {
   "cell_type": "code",
   "execution_count": null,
   "id": "b3823d7a",
   "metadata": {},
   "outputs": [],
   "source": [
    "post_dep1 = get_represententing_words(post_dep_emb_matrix_neg1, 10, words_neg_dep1)\n",
    "with open(cluster_path_5+'/post_neg_dep_uppercase', \"wb\") as fp:\n",
    "    pickle.dump(post_dep1, fp)\n",
    "    fp.close()\n",
    "\n",
    "post_dep2 = get_represententing_words(post_dep_emb_matrix_neg2, 10, words_neg_dep1)\n",
    "with open(cluster_path_5+'/post_neg_dep_pre_uppercase', \"wb\") as fp:\n",
    "    pickle.dump(post_dep2, fp)\n",
    "    fp.close()\n",
    "\n",
    "post_dep3 = get_represententing_words(post_dep_emb_matrix_neg3, 10, words_neg_dep1)\n",
    "with open(cluster_path_5+'/post_neg_emo_uppercase', \"wb\") as fp:\n",
    "    pickle.dump(post_dep3, fp)\n",
    "    fp.close()\n",
    "\n",
    "post_dep4 = get_represententing_words(post_dep_emb_matrix_neg4, 10, words_neg_dep2)\n",
    "with open(cluster_path_5+'/post_neg_dep_lowercase', \"wb\") as fp:\n",
    "    pickle.dump(post_dep4, fp)\n",
    "    fp.close()\n",
    "\n",
    "post_dep5 = get_represententing_words(post_dep_emb_matrix_neg5,10, words_neg_dep2)\n",
    "with open(cluster_path_5+'/post_neg_dep_pre_lowercase', \"wb\") as fp:\n",
    "    pickle.dump(post_dep5, fp)\n",
    "    fp.close()\n",
    "\n",
    "post_dep6 = get_represententing_words(post_dep_emb_matrix_neg6, 10, words_neg_dep2)\n",
    "with open(cluster_path_5+'/post_neg_dep_emo_lowercase', \"wb\") as fp:\n",
    "    pickle.dump(post_dep6, fp)\n",
    "    fp.close()"
   ]
  },
  {
   "cell_type": "code",
   "execution_count": null,
   "id": "0e23dd16",
   "metadata": {},
   "outputs": [],
   "source": [
    "\n",
    "user_anxia1 = get_represententing_words(user_anxia_emb_matrix_pos1, 10, words_pos_anxia3)\n",
    "\n",
    "with open(cluster_path_5+'/user_anxia_uppercase', \"wb\") as fp:\n",
    "    pickle.dump(user_anxia1, fp)\n",
    "    fp.close()\n",
    "\n",
    "user_anxia2 = get_represententing_words(user_anxia_emb_matrix_pos2, 10, words_pos_anxia3)\n",
    "with open(cluster_path_5+'/user_pre_uppercase', \"wb\") as fp:\n",
    "    pickle.dump(user_anxia2, fp)\n",
    "    fp.close()\n",
    "\n",
    "user_anxia3 = get_represententing_words(user_anxia_emb_matrix_pos3, 10, words_pos_anxia3)\n",
    "with open(cluster_path_5+'/user_emo_uppercase', \"wb\") as fp:\n",
    "    pickle.dump(user_anxia3, fp)\n",
    "    fp.close()\n",
    "\n",
    "user_anxia4 = get_represententing_words(user_anxia_emb_matrix_pos4, 10, words_pos_anxia4)\n",
    "with open(cluster_path_5+'/user_anxia_lowercase', \"wb\") as fp:\n",
    "    pickle.dump(user_anxia4, fp)\n",
    "    fp.close()\n",
    "\n",
    "user_anxia5 = get_represententing_words(user_anxia_emb_matrix_pos5, 10, words_pos_anxia4)\n",
    "with open(cluster_path_5+'/user_pre_lowercase', \"wb\") as fp:\n",
    "    pickle.dump(user_anxia5, fp)\n",
    "    fp.close()\n",
    "\n",
    "user_anxia6 = get_represententing_words(user_anxia_emb_matrix_pos6, 10, words_pos_anxia4)\n",
    "with open(cluster_path_5+'/user_emo_lowercase', \"wb\") as fp:\n",
    "    pickle.dump(user_anxia6, fp)\n",
    "    fp.close()"
   ]
  },
  {
   "cell_type": "code",
   "execution_count": null,
   "id": "9b0c27d3",
   "metadata": {},
   "outputs": [],
   "source": [
    "\n",
    "user_anxia1 = get_represententing_words(user_anxia_emb_matrix_neg1, 10, words_neg_anxia3)\n",
    "\n",
    "with open(cluster_path_5+'/user_neg_anxia_uppercase', \"wb\") as fp:\n",
    "    pickle.dump(user_anxia1, fp)\n",
    "    fp.close()\n",
    "\n",
    "user_anxia2 = get_represententing_words(user_anxia_emb_matrix_neg2, 10, words_neg_anxia3)\n",
    "with open(cluster_path_5+'/user_neg_pre_uppercase', \"wb\") as fp:\n",
    "    pickle.dump(user_anxia2, fp)\n",
    "    fp.close()\n",
    "\n",
    "user_anxia3 = get_represententing_words(user_anxia_emb_matrix_neg3, 10, words_neg_anxia3)\n",
    "with open(cluster_path_5+'/user_neg_emo_uppercase', \"wb\") as fp:\n",
    "    pickle.dump(user_anxia3, fp)\n",
    "    fp.close()\n",
    "\n",
    "user_anxia4 = get_represententing_words(user_anxia_emb_matrix_neg4, 10, words_neg_anxia4)\n",
    "with open(cluster_path_5+'/user_neg_anxia_lowercase', \"wb\") as fp:\n",
    "    pickle.dump(user_anxia4, fp)\n",
    "    fp.close()\n",
    "\n",
    "user_anxia5 = get_represententing_words(user_anxia_emb_matrix_neg5, 10, words_neg_anxia4)\n",
    "with open(cluster_path_5+'/user_neg_pre_lowercase', \"wb\") as fp:\n",
    "    pickle.dump(user_anxia5, fp)\n",
    "    fp.close()\n",
    "\n",
    "user_anxia6 = get_represententing_words(user_anxia_emb_matrix_neg6, 10, words_neg_anxia4)\n",
    "with open(cluster_path_5+'/user_neg_emo_lowercase', \"wb\") as fp:\n",
    "    pickle.dump(user_anxia6, fp)\n",
    "    fp.close()"
   ]
  },
  {
   "cell_type": "code",
   "execution_count": null,
   "id": "052a96a1",
   "metadata": {},
   "outputs": [],
   "source": [
    "user_dep1 = get_represententing_words(user_dep_emb_matrix_pos1,10, words_pos_dep3)\n",
    "with open(cluster_path_5+'/user_dep_uppercase', \"wb\") as fp:\n",
    "    pickle.dump(user_dep1, fp)\n",
    "    fp.close()\n",
    "\n",
    "user_dep2 = get_represententing_words(user_dep_emb_matrix_pos2, 10, words_pos_dep3)\n",
    "with open(cluster_path_5+'/user_dep_pre_uppercase', \"wb\") as fp:\n",
    "    pickle.dump(user_dep2, fp)\n",
    "    fp.close()\n",
    "\n",
    "user_dep3 = get_represententing_words(user_dep_emb_matrix_pos3, 10, words_pos_dep3)\n",
    "with open(cluster_path_5+'/user_dep_emo_uppercase', \"wb\") as fp:\n",
    "    pickle.dump(user_dep3, fp)\n",
    "    fp.close()\n",
    "\n",
    "user_dep4 = get_represententing_words(user_dep_emb_matrix_pos4, 10, words_pos_dep4)\n",
    "with open(cluster_path_5+'/user_dep_lowercase', \"wb\") as fp:\n",
    "    pickle.dump(user_dep4, fp)\n",
    "    fp.close()\n",
    "\n",
    "user_dep5 = get_represententing_words(user_dep_emb_matrix_pos5, 10, words_pos_dep4)\n",
    "with open(cluster_path_5+'/user_dep_pre_lowercase', \"wb\") as fp:\n",
    "    pickle.dump(user_dep5, fp)\n",
    "    fp.close()\n",
    "\n",
    "user_dep6 = get_represententing_words(user_dep_emb_matrix_pos6, 10, words_pos_dep4)\n",
    "with open(cluster_path_5+'/user_dep_emo_lowercase', \"wb\") as fp:\n",
    "    pickle.dump(user_dep6, fp)\n",
    "    fp.close()"
   ]
  },
  {
   "cell_type": "code",
   "execution_count": null,
   "id": "8fad6084",
   "metadata": {},
   "outputs": [],
   "source": [
    "user_dep1 = get_represententing_words(user_dep_emb_matrix_neg1, 10, words_neg_dep3)\n",
    "with open(cluster_path_5+'/user_neg_dep_uppercase', \"wb\") as fp:\n",
    "    pickle.dump(user_dep1, fp)\n",
    "    fp.close()\n",
    "\n",
    "user_dep2 = get_represententing_words(user_dep_emb_matrix_neg2, 10, words_neg_dep3)\n",
    "with open(cluster_path_5+'/user_neg_dep_pre_uppercase', \"wb\") as fp:\n",
    "    pickle.dump(user_dep2, fp)\n",
    "    fp.close()\n",
    "\n",
    "user_dep3 = get_represententing_words(user_dep_emb_matrix_neg3, 10, words_neg_dep3)\n",
    "with open(cluster_path_5+'/user_neg_dep_emo_uppercase', \"wb\") as fp:\n",
    "    pickle.dump(user_dep3, fp)\n",
    "    fp.close()\n",
    "\n",
    "user_dep4 = get_represententing_words(user_dep_emb_matrix_neg4, 10, words_neg_dep4)\n",
    "with open(cluster_path_5+'/user_neg_dep_lowercase', \"wb\") as fp:\n",
    "    pickle.dump(user_dep4, fp)\n",
    "    fp.close()\n",
    "\n",
    "user_dep5 = get_represententing_words(user_dep_emb_matrix_neg5, 10, words_neg_dep4)\n",
    "with open(cluster_path_5+'/user_neg_dep_pre_lowercase', \"wb\") as fp:\n",
    "    pickle.dump(user_dep5, fp)\n",
    "    fp.close()\n",
    "\n",
    "user_dep6 = get_represententing_words(user_dep_emb_matrix_neg6, 10, words_neg_dep4)\n",
    "with open(cluster_path_5+'/user_neg_dep_emo_lowercase', \"wb\") as fp:\n",
    "    pickle.dump(user_dep6, fp)\n",
    "    fp.close()"
   ]
  },
  {
   "cell_type": "code",
   "execution_count": null,
   "id": "a4125ef9",
   "metadata": {},
   "outputs": [],
   "source": [
    "con_anxia1 = get_represententing_words(con_anxia_emb_matrix_pos1, 10, words_pos_anxia5)\n",
    "\n",
    "with open(cluster_path_5+'/con_anxia_uppercase', \"wb\") as fp:\n",
    "    pickle.dump(con_anxia1, fp)\n",
    "    fp.close()\n",
    "\n",
    "con_anxia2 = get_represententing_words(con_anxia_emb_matrix_pos2, 10, words_pos_anxia5)\n",
    "with open(cluster_path_5+'/con_pre_uppercase', \"wb\") as fp:\n",
    "    pickle.dump(con_anxia2, fp)\n",
    "    fp.close()\n",
    "\n",
    "con_anxia3 = get_represententing_words(con_anxia_emb_matrix_pos3, 10, words_pos_anxia5)\n",
    "with open(cluster_path_5+'/con_emo_uppercase', \"wb\") as fp:\n",
    "    pickle.dump(con_anxia3, fp)\n",
    "    fp.close()\n",
    "\n",
    "con_anxia4 = get_represententing_words(con_anxia_emb_matrix_pos4, 10, words_pos_anxia6)\n",
    "with open(cluster_path_5+'/con_anxia_lowercase', \"wb\") as fp:\n",
    "    pickle.dump(con_anxia4, fp)\n",
    "    fp.close()\n",
    "\n",
    "con_anxia5 = get_represententing_words(con_anxia_emb_matrix_pos5, 10, words_pos_anxia6)\n",
    "with open(cluster_path_5+'/con_pre_lowercase', \"wb\") as fp:\n",
    "    pickle.dump(user_anxia5, fp)\n",
    "    fp.close()\n",
    "\n",
    "con_anxia6 = get_represententing_words(con_anxia_emb_matrix_pos6, 10, words_pos_anxia6)\n",
    "with open(cluster_path_5+'/con_emo_lowercase', \"wb\") as fp:\n",
    "    pickle.dump(con_anxia6, fp)\n",
    "    fp.close()"
   ]
  },
  {
   "cell_type": "code",
   "execution_count": null,
   "id": "269973d0",
   "metadata": {},
   "outputs": [],
   "source": [
    "con_anxia1 = get_represententing_words(con_anxia_emb_matrix_neg1, 10, words_neg_anxia5)\n",
    "\n",
    "with open(cluster_path_5+'/con_neg_anxia_uppercase', \"wb\") as fp:\n",
    "    pickle.dump(con_anxia1, fp)\n",
    "    fp.close()\n",
    "\n",
    "con_anxia2 = get_represententing_words(con_anxia_emb_matrix_neg2, 10, words_neg_anxia5)\n",
    "with open(cluster_path_5+'/con_neg_pre_uppercase', \"wb\") as fp:\n",
    "    pickle.dump(con_anxia2, fp)\n",
    "    fp.close()\n",
    "\n",
    "con_anxia3 = get_represententing_words(con_anxia_emb_matrix_neg3, 10, words_neg_anxia5)\n",
    "with open(cluster_path_5+'/con_neg_emo_uppercase', \"wb\") as fp:\n",
    "    pickle.dump(con_anxia3, fp)\n",
    "    fp.close()\n",
    "\n",
    "con_anxia4 = get_represententing_words(con_anxia_emb_matrix_neg4, 10, words_neg_anxia6)\n",
    "with open(cluster_path_5+'/con_neg_anxia_lowercase', \"wb\") as fp:\n",
    "    pickle.dump(con_anxia4, fp)\n",
    "    fp.close()\n",
    "\n",
    "con_anxia5 = get_represententing_words(con_anxia_emb_matrix_neg5, 10, words_neg_anxia6)\n",
    "with open(cluster_path_5+'/con_neg_pre_lowercase', \"wb\") as fp:\n",
    "    pickle.dump(con_anxia5, fp)\n",
    "    fp.close()\n",
    "\n",
    "con_anxia6 = get_represententing_words(con_anxia_emb_matrix_neg6, 10, words_neg_anxia6)\n",
    "with open(cluster_path_5+'/con_neg_emo_lowercase', \"wb\") as fp:\n",
    "    pickle.dump(con_anxia6, fp)\n",
    "    fp.close()"
   ]
  },
  {
   "cell_type": "code",
   "execution_count": null,
   "id": "95906418",
   "metadata": {},
   "outputs": [],
   "source": [
    "con_dep1 = get_represententing_words(con_dep_emb_matrix_pos1, 10, words_pos_dep5)\n",
    "with open(cluster_path_5+'/con_dep_uppercase', \"wb\") as fp:\n",
    "    pickle.dump(con_dep1, fp)\n",
    "    fp.close()\n",
    "\n",
    "con_dep2 = get_represententing_words(con_dep_emb_matrix_pos2, 10, words_pos_dep5)\n",
    "with open(cluster_path_5+'/con_dep_pre_uppercase', \"wb\") as fp:\n",
    "    pickle.dump(con_dep2, fp)\n",
    "    fp.close()\n",
    "\n",
    "con_dep3 = get_represententing_words(con_dep_emb_matrix_pos3, 10, words_pos_dep5)\n",
    "with open(cluster_path_5+'/con_dep_emo_uppercase', \"wb\") as fp:\n",
    "    pickle.dump(con_dep3, fp)\n",
    "    fp.close()\n",
    "\n",
    "con_dep4 = get_represententing_words(con_dep_emb_matrix_pos4, 10, words_pos_dep6)\n",
    "with open(cluster_path_5+'/con_dep_lowercase', \"wb\") as fp:\n",
    "    pickle.dump(con_dep4, fp)\n",
    "    fp.close()\n",
    "    \n",
    "con_dep5 = get_represententing_words(con_dep_emb_matrix_pos5, 10, words_pos_dep6)\n",
    "with open(cluster_path_5+'/con_dep_pre_lowercase', \"wb\") as fp:\n",
    "    pickle.dump(con_dep5, fp)\n",
    "    fp.close()\n",
    "\n",
    "con_dep6 = get_represententing_words(con_dep_emb_matrix_pos6, 10, words_pos_dep6)\n",
    "with open(cluster_path_5+'/con_dep_emo_lowercase', \"wb\") as fp:\n",
    "    pickle.dump(con_dep6, fp)\n",
    "    fp.close()"
   ]
  },
  {
   "cell_type": "code",
   "execution_count": null,
   "id": "741a83bd",
   "metadata": {},
   "outputs": [],
   "source": [
    "con_dep1 = get_represententing_words(con_dep_emb_matrix_neg1, 10, words_neg_dep5)\n",
    "with open(cluster_path_5+'/con_neg_dep_uppercase', \"wb\") as fp:\n",
    "    pickle.dump(con_dep1, fp)\n",
    "    fp.close()\n",
    "\n",
    "con_dep2 = get_represententing_words(con_dep_emb_matrix_neg2, 10, words_neg_dep5)\n",
    "with open(cluster_path_5+'/con_neg_dep_pre_uppercase', \"wb\") as fp:\n",
    "    pickle.dump(con_dep2, fp)\n",
    "    fp.close()\n",
    "\n",
    "con_dep3 = get_represententing_words(con_dep_emb_matrix_neg3, 10, words_neg_dep5)\n",
    "with open(cluster_path_5+'/con_neg_dep_emo_uppercase', \"wb\") as fp:\n",
    "    pickle.dump(con_dep3, fp)\n",
    "    fp.close()\n",
    "\n",
    "con_dep4 = get_represententing_words(con_dep_emb_matrix_neg4, 10, words_neg_dep6)\n",
    "with open(cluster_path_5+'/con_neg_dep_lowercase', \"wb\") as fp:\n",
    "    pickle.dump(con_dep4, fp)\n",
    "    fp.close()\n",
    "\n",
    "con_dep5 = get_represententing_words(user_dep_emb_matrix_neg5, 10, words_neg_dep6)\n",
    "with open(cluster_path_5+'/con_neg_dep_pre_lowercase', \"wb\") as fp:\n",
    "    pickle.dump(con_dep5, fp)\n",
    "    fp.close()\n",
    "\n",
    "con_dep6 = get_represententing_words(con_dep_emb_matrix_neg6, 10, words_neg_dep6)\n",
    "with open(cluster_path_5+'/con_neg_dep_emo_lowercase', \"wb\") as fp:\n",
    "    pickle.dump(con_dep6, fp)\n",
    "    fp.close()"
   ]
  }
 ],
 "metadata": {
  "kernelspec": {
   "display_name": "Python 3 (ipykernel)",
   "language": "python",
   "name": "python3"
  },
  "language_info": {
   "codemirror_mode": {
    "name": "ipython",
    "version": 3
   },
   "file_extension": ".py",
   "mimetype": "text/x-python",
   "name": "python",
   "nbconvert_exporter": "python",
   "pygments_lexer": "ipython3",
   "version": "3.10.4"
  }
 },
 "nbformat": 4,
 "nbformat_minor": 5
}
