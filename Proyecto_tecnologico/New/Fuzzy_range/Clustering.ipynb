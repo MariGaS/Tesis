{
 "cells": [
  {
   "cell_type": "code",
   "execution_count": 1,
   "id": "43ca12d7",
   "metadata": {},
   "outputs": [],
   "source": [
    "import numpy as np \n",
    "from nltk.cluster import KMeansClusterer\n",
    "import nltk\n",
    "from sklearn.metrics import pairwise_distances"
   ]
  },
  {
   "cell_type": "code",
   "execution_count": 2,
   "id": "56a1a91a",
   "metadata": {},
   "outputs": [
    {
     "name": "stdout",
     "output_type": "stream",
     "text": [
      "Load_anorexia\n",
      "Load depression\n",
      "Load emotions\n",
      "Load pretrained\n"
     ]
    },
    {
     "name": "stderr",
     "output_type": "stream",
     "text": [
      "Warning : `load_model` does not return WordVectorModel or SupervisedModel any more, but a `FastText` object which is very similar.\n"
     ]
    }
   ],
   "source": [
    "from vec_function import *"
   ]
  },
  {
   "cell_type": "markdown",
   "id": "09e0cb7d",
   "metadata": {},
   "source": [
    "# Dictionaries "
   ]
  },
  {
   "cell_type": "code",
   "execution_count": 3,
   "id": "db7e81ed",
   "metadata": {},
   "outputs": [],
   "source": [
    "#POST LEVEL DICTIONARIES \n",
    "#---------------------------ANOREXIA-------------------#\n",
    "#version 1\n",
    "post_pos_anxia1 = '/home/est_posgrado_maria.garcia/Tesis/Proyecto_tecnologico/New/Post_dictionary/post_level/anxia_pos_ver1key30'\n",
    "post_neg_anxia1 = '/home/est_posgrado_maria.garcia/Tesis/Proyecto_tecnologico/New/Post_dictionary/post_level/anxia_neg_ver1key30'\n",
    "#version 2\n",
    "post_pos_anxia2 = '/home/est_posgrado_maria.garcia/Tesis/Proyecto_tecnologico/New/Post_dictionary/post_level/anxia_pos_ver2key30'\n",
    "post_neg_anxia2 = '/home/est_posgrado_maria.garcia/Tesis/Proyecto_tecnologico/New/Post_dictionary/post_level/anxia_neg_ver2key30'\n",
    "\n",
    "#-------------------------DEPRESSION--------------------#\n",
    "#version 1 \n",
    "post_pos_dep1  =  '/home/est_posgrado_maria.garcia/Tesis/Proyecto_tecnologico/New/Post_dictionary/post_level/dep_pos_ver1key30'\n",
    "post_neg_dep1  =  '/home/est_posgrado_maria.garcia/Tesis/Proyecto_tecnologico/New/Post_dictionary/post_level/dep_neg_ver1key30'\n",
    "#version 2\n",
    "post_pos_dep2  =  '/home/est_posgrado_maria.garcia/Tesis/Proyecto_tecnologico/New/Post_dictionary/post_level/dep_pos_ver2key30'\n",
    "post_neg_dep2  =  '/home/est_posgrado_maria.garcia/Tesis/Proyecto_tecnologico/New/Post_dictionary/post_level/dep_neg_ver1key30'\n",
    "\n",
    "##                                         USER VERSION OF THE DICTIONARIES OF THE USERS                        #\n",
    "#---------------------------ANOREXIA-------------------#\n",
    "#version 1\n",
    "user_pos_anxia1 = '/home/est_posgrado_maria.garcia/Tesis/Proyecto_tecnologico/New/User_dictionary/anxia_pos_ver3'\n",
    "user_neg_anxia1 = '/home/est_posgrado_maria.garcia/Tesis/Proyecto_tecnologico/New/User_dictionary/anxia_neg_ver3'\n",
    "#version 2\n",
    "user_pos_anxia2 = '/home/est_posgrado_maria.garcia/Tesis/Proyecto_tecnologico/New/User_dictionary/anxia_pos_ver4'\n",
    "user_neg_anxia2 = '/home/est_posgrado_maria.garcia/Tesis/Proyecto_tecnologico/New/User_dictionary/anxia_neg_ver4'\n",
    "\n",
    "user_pos_anxia3 = '/home/est_posgrado_maria.garcia/Tesis/Proyecto_tecnologico/New/User_dictionary/anxia_pos_ver5'\n",
    "user_neg_anxia3 = '/home/est_posgrado_maria.garcia/Tesis/Proyecto_tecnologico/New/User_dictionary/anxia_neg_ver5'\n",
    "#version 2\n",
    "user_pos_anxia4 = '/home/est_posgrado_maria.garcia/Tesis/Proyecto_tecnologico/New/User_dictionary/anxia_pos_ver6'\n",
    "user_neg_anxia4 = '/home/est_posgrado_maria.garcia/Tesis/Proyecto_tecnologico/New/User_dictionary/anxia_neg_ver6'\n",
    "\n",
    "#---------------------------DEPRESSION-----------------#\n",
    "#version 1\n",
    "user_pos_dep1 = '/home/est_posgrado_maria.garcia/Tesis/Proyecto_tecnologico/New/User_dictionary/dep_pos_ver3'\n",
    "user_neg_dep1 = '/home/est_posgrado_maria.garcia/Tesis/Proyecto_tecnologico/New/User_dictionary/dep_neg_ver3'\n",
    "#version 2\n",
    "user_pos_dep2 = '/home/est_posgrado_maria.garcia/Tesis/Proyecto_tecnologico/New/User_dictionary/dep_pos_ver4'\n",
    "user_neg_dep2 = '/home/est_posgrado_maria.garcia/Tesis/Proyecto_tecnologico/New/User_dictionary/dep_neg_ver4'\n",
    "\n",
    "user_pos_dep3 = '/home/est_posgrado_maria.garcia/Tesis/Proyecto_tecnologico/New/User_dictionary/dep_pos_ver5'\n",
    "user_neg_dep3 = '/home/est_posgrado_maria.garcia/Tesis/Proyecto_tecnologico/New/User_dictionary/dep_neg_ver5'\n",
    "#version 2\n",
    "user_pos_dep4 = '/home/est_posgrado_maria.garcia/Tesis/Proyecto_tecnologico/New/User_dictionary/dep_pos_ver6'\n",
    "user_neg_dep4 = '/home/est_posgrado_maria.garcia/Tesis/Proyecto_tecnologico/New/User_dictionary/dep_neg_ver6'\n",
    "\n",
    "##                                                   CONCATANTE ALL THE TEXT \n",
    "#version 1\n",
    "con_pos_anxia1 = '/home/est_posgrado_maria.garcia/Tesis/Proyecto_tecnologico/New/Con_dictionary/anxia_pos_ver3'\n",
    "con_neg_anxia1 = '/home/est_posgrado_maria.garcia/Tesis/Proyecto_tecnologico/New/Con_dictionary/anxia_neg_ver3'\n",
    "#version 2\n",
    "con_pos_anxia2 = '/home/est_posgrado_maria.garcia/Tesis/Proyecto_tecnologico/New/Con_dictionary/anxia_pos_ver4'\n",
    "con_neg_anxia2 = '/home/est_posgrado_maria.garcia/Tesis/Proyecto_tecnologico/New/Con_dictionary/anxia_neg_ver4'\n",
    "\n",
    "con_pos_anxia3 = '/home/est_posgrado_maria.garcia/Tesis/Proyecto_tecnologico/New/Con_dictionary/anxia_pos_ver5'\n",
    "con_neg_anxia3 = '/home/est_posgrado_maria.garcia/Tesis/Proyecto_tecnologico/New/Con_dictionary/anxia_neg_ver5'\n",
    "#version 2\n",
    "con_pos_anxia4 = '/home/est_posgrado_maria.garcia/Tesis/Proyecto_tecnologico/New/Con_dictionary/anxia_pos_ver6'\n",
    "con_neg_anxia4 = '/home/est_posgrado_maria.garcia/Tesis/Proyecto_tecnologico/New/Con_dictionary/anxia_neg_ver6'\n",
    "\n",
    "#---------------------------DEPRESSION-----------------#\n",
    "#version 1\n",
    "con_pos_dep1 = '/home/est_posgrado_maria.garcia/Tesis/Proyecto_tecnologico/New/Con_dictionary/dep_pos_ver3'\n",
    "con_neg_dep1 = '/home/est_posgrado_maria.garcia/Tesis/Proyecto_tecnologico/New/Con_dictionary/dep_neg_ver3'\n",
    "#version 2\n",
    "con_pos_dep2 = '/home/est_posgrado_maria.garcia/Tesis/Proyecto_tecnologico/New/Con_dictionary/dep_pos_ver4'\n",
    "con_neg_dep2 = '/home/est_posgrado_maria.garcia/Tesis/Proyecto_tecnologico/New/Con_dictionary/dep_neg_ver4'\n",
    "\n",
    "con_pos_dep3 = '/home/est_posgrado_maria.garcia/Tesis/Proyecto_tecnologico/New/Con_dictionary/dep_pos_ver5'\n",
    "con_neg_dep3= '/home/est_posgrado_maria.garcia/Tesis/Proyecto_tecnologico/New/Con_dictionary/dep_neg_ver5'\n",
    "#version 2\n",
    "con_pos_dep4 = '/home/est_posgrado_maria.garcia/Tesis/Proyecto_tecnologico/New/Con_dictionary/dep_pos_ver6'\n",
    "con_neg_dep4 = '/home/est_posgrado_maria.garcia/Tesis/Proyecto_tecnologico/New/Con_dictionary/dep_neg_ver6'\n",
    "\n"
   ]
  },
  {
   "cell_type": "markdown",
   "id": "e630d2b6",
   "metadata": {},
   "source": [
    "# Functions "
   ]
  },
  {
   "cell_type": "code",
   "execution_count": 4,
   "id": "63bdf766",
   "metadata": {},
   "outputs": [],
   "source": [
    "def clustering_features(matrix_emb, num_cluster):\n",
    "    #convert the matrix_emb to a list of vectors\n",
    "    list_vectors = list(matrix_emb)\n",
    "\n",
    "    k_cluster = KMeansClusterer(num_cluster,\n",
    "                distance = nltk.cluster.util.cosine_distance,\n",
    "                repeats = 25,\n",
    "                avoid_empty_clusters = True)\n",
    "    #return a list with the cluster assign to each vector \n",
    "    assigned_clusters = k_cluster.cluster(list_vectors, assign_clusters = True)\n",
    "    centroids = k_cluster.means()\n",
    "\n",
    "    return np.array(assigned_clusters), np.array(centroids)"
   ]
  },
  {
   "cell_type": "markdown",
   "id": "71290aa3",
   "metadata": {},
   "source": [
    "# Level post"
   ]
  },
  {
   "cell_type": "markdown",
   "id": "c86cdca5",
   "metadata": {},
   "source": [
    "## Anorexia"
   ]
  },
  {
   "cell_type": "markdown",
   "id": "e541c1d5",
   "metadata": {},
   "source": [
    "### Uppercase model embedding anxia"
   ]
  },
  {
   "cell_type": "code",
   "execution_count": 5,
   "id": "37f72800",
   "metadata": {},
   "outputs": [],
   "source": [
    "kw1 = get_list_key(post_pos_anxia1)\n",
    "kw2 = get_list_key(post_neg_anxia1)\n"
   ]
  },
  {
   "cell_type": "code",
   "execution_count": 6,
   "id": "6c9bea74",
   "metadata": {},
   "outputs": [],
   "source": [
    "words_pos_anxia1 = get_words_from_kw(kw1)\n",
    "words_neg_anxia1 = get_words_from_kw(kw2)"
   ]
  },
  {
   "cell_type": "code",
   "execution_count": 7,
   "id": "91ebc94d",
   "metadata": {},
   "outputs": [],
   "source": [
    "post_anxia_emb_matrix_pos1 = get_dictionary_matrix(words_pos_anxia1,1)\n",
    "post_anxia_emb_matrix_neg1 = get_dictionary_matrix(words_neg_anxia1,1)"
   ]
  },
  {
   "cell_type": "markdown",
   "id": "dbcffa04",
   "metadata": {},
   "source": [
    "### Uppercase model embedding pretrained"
   ]
  },
  {
   "cell_type": "code",
   "execution_count": 8,
   "id": "36a5cb65",
   "metadata": {},
   "outputs": [],
   "source": [
    "post_anxia_emb_matrix_pos2 = get_dictionary_matrix(words_pos_anxia1,3)\n",
    "post_anxia_emb_matrix_neg2 = get_dictionary_matrix(words_neg_anxia1,3)"
   ]
  },
  {
   "cell_type": "markdown",
   "id": "ddffe36c",
   "metadata": {},
   "source": [
    "### Uppercase model embedding emotions"
   ]
  },
  {
   "cell_type": "code",
   "execution_count": 9,
   "id": "03022fd6",
   "metadata": {},
   "outputs": [],
   "source": [
    "post_anxia_emb_matrix_pos3 = get_dictionary_matrix(words_pos_anxia1,4)\n",
    "post_anxia_emb_matrix_neg3 = get_dictionary_matrix(words_neg_anxia1,4)"
   ]
  },
  {
   "cell_type": "markdown",
   "id": "9fe05c66",
   "metadata": {},
   "source": [
    "### Lowercase model embedding anxia "
   ]
  },
  {
   "cell_type": "code",
   "execution_count": 10,
   "id": "98959a51",
   "metadata": {},
   "outputs": [],
   "source": [
    "kw3 = get_list_key(post_pos_anxia2)\n",
    "kw4 = get_list_key(post_neg_anxia2)\n"
   ]
  },
  {
   "cell_type": "code",
   "execution_count": 11,
   "id": "6fdff7cc",
   "metadata": {},
   "outputs": [],
   "source": [
    "words_pos_anxia2 = get_words_from_kw(kw3)\n",
    "words_neg_anxia2 = get_words_from_kw(kw4)"
   ]
  },
  {
   "cell_type": "code",
   "execution_count": 12,
   "id": "e78f85c2",
   "metadata": {},
   "outputs": [],
   "source": [
    "post_anxia_emb_matrix_pos4 = get_dictionary_matrix(words_pos_anxia2,1)\n",
    "post_anxia_emb_matrix_neg4 = get_dictionary_matrix(words_neg_anxia2,1)"
   ]
  },
  {
   "cell_type": "markdown",
   "id": "7958b533",
   "metadata": {},
   "source": [
    "### Lowercase model embedding pre-trained "
   ]
  },
  {
   "cell_type": "code",
   "execution_count": 13,
   "id": "6da864b7",
   "metadata": {},
   "outputs": [],
   "source": [
    "post_anxia_emb_matrix_pos5 = get_dictionary_matrix(words_pos_anxia2,3)\n",
    "post_anxia_emb_matrix_neg5 = get_dictionary_matrix(words_neg_anxia2,3)"
   ]
  },
  {
   "cell_type": "markdown",
   "id": "ef12aadd",
   "metadata": {},
   "source": [
    "### Lowercase model embedding emotions"
   ]
  },
  {
   "cell_type": "code",
   "execution_count": 14,
   "id": "664a1f68",
   "metadata": {},
   "outputs": [],
   "source": [
    "post_anxia_emb_matrix_pos6 = get_dictionary_matrix(words_pos_anxia2,4)\n",
    "post_anxia_emb_matrix_neg6 = get_dictionary_matrix(words_neg_anxia2,4)"
   ]
  },
  {
   "cell_type": "markdown",
   "id": "b3b23d8e",
   "metadata": {},
   "source": [
    "## Depression "
   ]
  },
  {
   "cell_type": "markdown",
   "id": "87f48d79",
   "metadata": {},
   "source": [
    "### Uppercase "
   ]
  },
  {
   "cell_type": "code",
   "execution_count": 15,
   "id": "7a70420b",
   "metadata": {},
   "outputs": [],
   "source": [
    "kw5 = get_list_key(post_pos_dep1)\n",
    "kw6 = get_list_key(post_neg_dep1)\n",
    "words_pos_dep1 = get_words_from_kw(kw5)\n",
    "words_neg_dep1 = get_words_from_kw(kw6)"
   ]
  },
  {
   "cell_type": "markdown",
   "id": "8fc6d686",
   "metadata": {},
   "source": [
    "### Model embedding dep"
   ]
  },
  {
   "cell_type": "code",
   "execution_count": 16,
   "id": "87bea1b4",
   "metadata": {},
   "outputs": [],
   "source": [
    "post_dep_emb_matrix_pos1 = get_dictionary_matrix(words_pos_dep1,2)\n",
    "post_dep_emb_matrix_neg1 = get_dictionary_matrix(words_neg_dep1,2)"
   ]
  },
  {
   "cell_type": "markdown",
   "id": "1e2170be",
   "metadata": {},
   "source": [
    "### Model embedding pre_trained "
   ]
  },
  {
   "cell_type": "code",
   "execution_count": 17,
   "id": "4e7bb772",
   "metadata": {},
   "outputs": [],
   "source": [
    "post_dep_emb_matrix_pos2 = get_dictionary_matrix(words_pos_dep1,3)\n",
    "post_dep_emb_matrix_neg2 = get_dictionary_matrix(words_neg_dep1,3)"
   ]
  },
  {
   "cell_type": "markdown",
   "id": "9044ba95",
   "metadata": {},
   "source": [
    "### Model embedding emotions "
   ]
  },
  {
   "cell_type": "code",
   "execution_count": 18,
   "id": "77079f85",
   "metadata": {},
   "outputs": [],
   "source": [
    "post_dep_emb_matrix_pos3 = get_dictionary_matrix(words_pos_dep1,4)\n",
    "post_dep_emb_matrix_neg3 = get_dictionary_matrix(words_neg_dep1,4)"
   ]
  },
  {
   "cell_type": "markdown",
   "id": "9cc0bc6b",
   "metadata": {},
   "source": [
    "### Lowercase"
   ]
  },
  {
   "cell_type": "code",
   "execution_count": 19,
   "id": "d39986c2",
   "metadata": {},
   "outputs": [],
   "source": [
    "kw7 = get_list_key(post_pos_dep2)\n",
    "kw8 = get_list_key(post_neg_dep2)\n",
    "words_pos_dep2 = get_words_from_kw(kw7)\n",
    "words_neg_dep2 = get_words_from_kw(kw8)"
   ]
  },
  {
   "cell_type": "markdown",
   "id": "49b6ead7",
   "metadata": {},
   "source": [
    "### Model embedding dep"
   ]
  },
  {
   "cell_type": "code",
   "execution_count": 20,
   "id": "ef713233",
   "metadata": {},
   "outputs": [],
   "source": [
    "post_dep_emb_matrix_pos4 = get_dictionary_matrix(words_pos_dep2,2)\n",
    "post_dep_emb_matrix_neg4 = get_dictionary_matrix(words_neg_dep2,2)"
   ]
  },
  {
   "cell_type": "markdown",
   "id": "6a5f7f1a",
   "metadata": {},
   "source": [
    "### Model embedding pre_trained"
   ]
  },
  {
   "cell_type": "code",
   "execution_count": 21,
   "id": "63701ecf",
   "metadata": {},
   "outputs": [],
   "source": [
    "post_dep_emb_matrix_pos5 = get_dictionary_matrix(words_pos_dep2,3)\n",
    "post_dep_emb_matrix_neg5 = get_dictionary_matrix(words_neg_dep2,3)"
   ]
  },
  {
   "cell_type": "markdown",
   "id": "31861a32",
   "metadata": {},
   "source": [
    "### Model embedding emotions"
   ]
  },
  {
   "cell_type": "code",
   "execution_count": 22,
   "id": "44c6fe93",
   "metadata": {},
   "outputs": [],
   "source": [
    "post_dep_emb_matrix_pos6 = get_dictionary_matrix(words_pos_dep2,4)\n",
    "post_dep_emb_matrix_neg6 = get_dictionary_matrix(words_neg_dep2,4)"
   ]
  },
  {
   "cell_type": "markdown",
   "id": "ce5309b0",
   "metadata": {},
   "source": [
    "# Level user"
   ]
  },
  {
   "cell_type": "markdown",
   "id": "6decdf56",
   "metadata": {},
   "source": [
    "## Anorexia"
   ]
  },
  {
   "cell_type": "markdown",
   "id": "ba67b031",
   "metadata": {},
   "source": [
    " ### Uppercase"
   ]
  },
  {
   "cell_type": "code",
   "execution_count": 23,
   "id": "e0eefe18",
   "metadata": {},
   "outputs": [],
   "source": [
    "kw9 = get_list_key(user_pos_anxia1)\n",
    "kw10 = get_list_key(user_neg_anxia1)\n",
    "words_pos_anxia3 = get_words_from_kw(kw9)\n",
    "words_neg_anxia3 = get_words_from_kw(kw10)"
   ]
  },
  {
   "cell_type": "markdown",
   "id": "5aa25a0f",
   "metadata": {},
   "source": [
    "### Embedding model anxia \n"
   ]
  },
  {
   "cell_type": "code",
   "execution_count": 24,
   "id": "c883d85e",
   "metadata": {},
   "outputs": [],
   "source": [
    "user_anxia_emb_matrix_pos1 = get_dictionary_matrix(words_pos_anxia3,1)\n",
    "user_anxia_emb_matrix_neg1 = get_dictionary_matrix(words_neg_anxia3,1)"
   ]
  },
  {
   "cell_type": "markdown",
   "id": "5b6293e2",
   "metadata": {},
   "source": [
    "### Embedding pretrained"
   ]
  },
  {
   "cell_type": "code",
   "execution_count": 25,
   "id": "f4003728",
   "metadata": {},
   "outputs": [],
   "source": [
    "user_anxia_emb_matrix_pos2 = get_dictionary_matrix(words_pos_anxia3,3)\n",
    "user_anxia_emb_matrix_neg2 = get_dictionary_matrix(words_neg_anxia3,3)"
   ]
  },
  {
   "cell_type": "markdown",
   "id": "afaae342",
   "metadata": {},
   "source": [
    "### Uppercase model embedding emotions"
   ]
  },
  {
   "cell_type": "code",
   "execution_count": 26,
   "id": "b39ee93b",
   "metadata": {},
   "outputs": [],
   "source": [
    "user_anxia_emb_matrix_pos3 = get_dictionary_matrix(words_pos_anxia3,4)\n",
    "user_anxia_emb_matrix_neg3 = get_dictionary_matrix(words_neg_anxia3,4)"
   ]
  },
  {
   "cell_type": "markdown",
   "id": "4f34ebee",
   "metadata": {},
   "source": [
    "### Lowercase"
   ]
  },
  {
   "cell_type": "code",
   "execution_count": 27,
   "id": "e23abef7",
   "metadata": {},
   "outputs": [],
   "source": [
    "kw11 = get_list_key(user_pos_anxia2)\n",
    "kw12 = get_list_key(user_neg_anxia2)"
   ]
  },
  {
   "cell_type": "code",
   "execution_count": 28,
   "id": "871dd961",
   "metadata": {},
   "outputs": [],
   "source": [
    "words_pos_anxia4 = get_words_from_kw(kw11)\n",
    "words_neg_anxia4 = get_words_from_kw(kw12)"
   ]
  },
  {
   "cell_type": "markdown",
   "id": "2faa0ab6",
   "metadata": {},
   "source": [
    "### Model embedding anxia "
   ]
  },
  {
   "cell_type": "code",
   "execution_count": 29,
   "id": "8dab4ce9",
   "metadata": {},
   "outputs": [],
   "source": [
    "user_anxia_emb_matrix_pos4 = get_dictionary_matrix(words_pos_anxia4,1)\n",
    "user_anxia_emb_matrix_neg4 = get_dictionary_matrix(words_neg_anxia4,1)"
   ]
  },
  {
   "cell_type": "markdown",
   "id": "8b8f76d5",
   "metadata": {},
   "source": [
    "### Lowercase model embedding pre-trained "
   ]
  },
  {
   "cell_type": "code",
   "execution_count": 30,
   "id": "ba8986a0",
   "metadata": {},
   "outputs": [],
   "source": [
    "user_anxia_emb_matrix_pos5 = get_dictionary_matrix(words_pos_anxia4,3)\n",
    "user_anxia_emb_matrix_neg5 = get_dictionary_matrix(words_neg_anxia4,3)"
   ]
  },
  {
   "cell_type": "markdown",
   "id": "e5d0e8b0",
   "metadata": {},
   "source": [
    "### Lowercase model embedding emotions"
   ]
  },
  {
   "cell_type": "code",
   "execution_count": 31,
   "id": "7a350e01",
   "metadata": {},
   "outputs": [],
   "source": [
    "user_anxia_emb_matrix_pos6 = get_dictionary_matrix(words_pos_anxia4,4)\n",
    "user_anxia_emb_matrix_neg6 = get_dictionary_matrix(words_neg_anxia4,4)"
   ]
  },
  {
   "cell_type": "markdown",
   "id": "5ecbfebc",
   "metadata": {},
   "source": [
    "## Depression "
   ]
  },
  {
   "cell_type": "markdown",
   "id": "0e514baa",
   "metadata": {},
   "source": [
    "### Uppercase "
   ]
  },
  {
   "cell_type": "code",
   "execution_count": 32,
   "id": "76cb7788",
   "metadata": {},
   "outputs": [],
   "source": [
    "kw13 = get_list_key(user_pos_dep1)\n",
    "kw14 = get_list_key(user_neg_dep1)\n",
    "words_pos_dep3 = get_words_from_kw(kw13)\n",
    "words_neg_dep3 = get_words_from_kw(kw14)"
   ]
  },
  {
   "cell_type": "markdown",
   "id": "70dd646b",
   "metadata": {},
   "source": [
    "### Model embedding dep"
   ]
  },
  {
   "cell_type": "code",
   "execution_count": 33,
   "id": "a7f0ffa6",
   "metadata": {},
   "outputs": [],
   "source": [
    "user_dep_emb_matrix_pos1 = get_dictionary_matrix(words_pos_dep3,2)\n",
    "user_dep_emb_matrix_neg1 = get_dictionary_matrix(words_neg_dep3,2)"
   ]
  },
  {
   "cell_type": "markdown",
   "id": "3dca0c0c",
   "metadata": {},
   "source": [
    "### Model embedding pre_trained "
   ]
  },
  {
   "cell_type": "code",
   "execution_count": 34,
   "id": "eeb1852f",
   "metadata": {},
   "outputs": [],
   "source": [
    "user_dep_emb_matrix_pos2 = get_dictionary_matrix(words_pos_dep3,3)\n",
    "user_dep_emb_matrix_neg2 = get_dictionary_matrix(words_neg_dep3,3)"
   ]
  },
  {
   "cell_type": "markdown",
   "id": "4c37b42e",
   "metadata": {},
   "source": [
    "### Model embedding emotions "
   ]
  },
  {
   "cell_type": "code",
   "execution_count": 35,
   "id": "24d6da32",
   "metadata": {},
   "outputs": [],
   "source": [
    "user_dep_emb_matrix_pos3 = get_dictionary_matrix(words_pos_dep3,4)\n",
    "user_dep_emb_matrix_neg3 = get_dictionary_matrix(words_neg_dep3,4)"
   ]
  },
  {
   "cell_type": "markdown",
   "id": "ac254f25",
   "metadata": {},
   "source": [
    "### Lowercase"
   ]
  },
  {
   "cell_type": "code",
   "execution_count": 36,
   "id": "eefa830b",
   "metadata": {},
   "outputs": [],
   "source": [
    "kw15 = get_list_key(user_pos_dep2)\n",
    "kw16 = get_list_key(user_neg_dep2)\n",
    "words_pos_dep4 = get_words_from_kw(kw15)\n",
    "words_neg_dep4 = get_words_from_kw(kw16)"
   ]
  },
  {
   "cell_type": "markdown",
   "id": "f7cf72ac",
   "metadata": {},
   "source": [
    "### Model embedding dep"
   ]
  },
  {
   "cell_type": "code",
   "execution_count": 37,
   "id": "1a2f6f63",
   "metadata": {},
   "outputs": [],
   "source": [
    "user_dep_emb_matrix_pos4 = get_dictionary_matrix(words_pos_dep4,2)\n",
    "user_dep_emb_matrix_neg4 = get_dictionary_matrix(words_neg_dep4,2)"
   ]
  },
  {
   "cell_type": "markdown",
   "id": "0cfe56f6",
   "metadata": {},
   "source": [
    "### Model embedding pre_trained"
   ]
  },
  {
   "cell_type": "code",
   "execution_count": 38,
   "id": "74a130a4",
   "metadata": {},
   "outputs": [],
   "source": [
    "user_dep_emb_matrix_pos5 = get_dictionary_matrix(words_pos_dep4,3)\n",
    "user_dep_emb_matrix_neg5 = get_dictionary_matrix(words_neg_dep4,3)"
   ]
  },
  {
   "cell_type": "markdown",
   "id": "61b1e3f4",
   "metadata": {},
   "source": [
    "### Model embedding emotions"
   ]
  },
  {
   "cell_type": "code",
   "execution_count": 39,
   "id": "7e2a9f4e",
   "metadata": {},
   "outputs": [],
   "source": [
    "user_dep_emb_matrix_pos6 = get_dictionary_matrix(words_pos_dep4,4)\n",
    "user_dep_emb_matrix_neg6 = get_dictionary_matrix(words_neg_dep4,4)"
   ]
  },
  {
   "cell_type": "markdown",
   "id": "eb0ca07c",
   "metadata": {},
   "source": [
    "# Level concatenation"
   ]
  },
  {
   "cell_type": "markdown",
   "id": "d104dcd8",
   "metadata": {},
   "source": [
    "## Anorexia"
   ]
  },
  {
   "cell_type": "markdown",
   "id": "382b4a49",
   "metadata": {},
   "source": [
    " ### Uppercase"
   ]
  },
  {
   "cell_type": "code",
   "execution_count": 40,
   "id": "55a758c9",
   "metadata": {},
   "outputs": [],
   "source": [
    "kw17 = get_list_key(con_pos_anxia1)\n",
    "kw18 = get_list_key(con_neg_anxia1)\n",
    "words_pos_anxia5 = get_words_from_kw(kw17)\n",
    "words_neg_anxia5 = get_words_from_kw(kw18)"
   ]
  },
  {
   "cell_type": "markdown",
   "id": "76dd1b20",
   "metadata": {},
   "source": [
    "### Embedding model anxia "
   ]
  },
  {
   "cell_type": "code",
   "execution_count": 41,
   "id": "b88f5077",
   "metadata": {},
   "outputs": [],
   "source": [
    "con_anxia_emb_matrix_pos1 = get_dictionary_matrix(words_pos_anxia5,1)\n",
    "con_anxia_emb_matrix_neg1 = get_dictionary_matrix(words_neg_anxia5,1)"
   ]
  },
  {
   "cell_type": "markdown",
   "id": "1cc6ab83",
   "metadata": {},
   "source": [
    "### Embedding pretrained"
   ]
  },
  {
   "cell_type": "code",
   "execution_count": 42,
   "id": "b2a04fe3",
   "metadata": {},
   "outputs": [],
   "source": [
    "con_anxia_emb_matrix_pos2 = get_dictionary_matrix(words_pos_anxia5,3)\n",
    "con_anxia_emb_matrix_neg2 = get_dictionary_matrix(words_neg_anxia5,3)"
   ]
  },
  {
   "cell_type": "markdown",
   "id": "46990475",
   "metadata": {},
   "source": [
    "### Uppercase model embedding emotions"
   ]
  },
  {
   "cell_type": "code",
   "execution_count": 43,
   "id": "c9391d27",
   "metadata": {},
   "outputs": [],
   "source": [
    "con_anxia_emb_matrix_pos3 = get_dictionary_matrix(words_pos_anxia5,4)\n",
    "con_anxia_emb_matrix_neg3 = get_dictionary_matrix(words_neg_anxia5,4)"
   ]
  },
  {
   "cell_type": "markdown",
   "id": "58fcbdfb",
   "metadata": {},
   "source": [
    "### Lowercase"
   ]
  },
  {
   "cell_type": "code",
   "execution_count": 44,
   "id": "432a1f1c",
   "metadata": {},
   "outputs": [],
   "source": [
    "kw19 = get_list_key(con_pos_anxia2)\n",
    "kw20 = get_list_key(con_neg_anxia2)"
   ]
  },
  {
   "cell_type": "code",
   "execution_count": 45,
   "id": "bacfcd8f",
   "metadata": {},
   "outputs": [],
   "source": [
    "words_pos_anxia6 = get_words_from_kw(kw19)\n",
    "words_neg_anxia6 = get_words_from_kw(kw20)"
   ]
  },
  {
   "cell_type": "markdown",
   "id": "8fa8525c",
   "metadata": {},
   "source": [
    "### Model embedding anxia "
   ]
  },
  {
   "cell_type": "code",
   "execution_count": 46,
   "id": "afd3183e",
   "metadata": {},
   "outputs": [],
   "source": [
    "con_anxia_emb_matrix_pos4 = get_dictionary_matrix(words_pos_anxia6,1)\n",
    "con_anxia_emb_matrix_neg4 = get_dictionary_matrix(words_neg_anxia6,1)"
   ]
  },
  {
   "cell_type": "markdown",
   "id": "ad3fff64",
   "metadata": {},
   "source": [
    "### Lowercase model embedding pre-trained "
   ]
  },
  {
   "cell_type": "code",
   "execution_count": 47,
   "id": "cbd0bd70",
   "metadata": {},
   "outputs": [],
   "source": [
    "con_anxia_emb_matrix_pos5 = get_dictionary_matrix(words_pos_anxia6,3)\n",
    "con_anxia_emb_matrix_neg5 = get_dictionary_matrix(words_neg_anxia6,3)"
   ]
  },
  {
   "cell_type": "markdown",
   "id": "1b7cdc49",
   "metadata": {},
   "source": [
    "### Lowercase model embedding emotions"
   ]
  },
  {
   "cell_type": "code",
   "execution_count": 48,
   "id": "13ee2e0c",
   "metadata": {},
   "outputs": [],
   "source": [
    "con_anxia_emb_matrix_pos6 = get_dictionary_matrix(words_pos_anxia6,4)\n",
    "con_anxia_emb_matrix_neg6 = get_dictionary_matrix(words_neg_anxia6,4)"
   ]
  },
  {
   "cell_type": "markdown",
   "id": "96961034",
   "metadata": {},
   "source": [
    "## Depression "
   ]
  },
  {
   "cell_type": "markdown",
   "id": "b47568ba",
   "metadata": {},
   "source": [
    "### Uppercase "
   ]
  },
  {
   "cell_type": "code",
   "execution_count": 49,
   "id": "18fad55b",
   "metadata": {},
   "outputs": [],
   "source": [
    "kw21 = get_list_key(con_pos_dep1)\n",
    "kw22 = get_list_key(con_neg_dep1)\n",
    "words_pos_dep5 = get_words_from_kw(kw21)\n",
    "words_neg_dep5 = get_words_from_kw(kw22)"
   ]
  },
  {
   "cell_type": "markdown",
   "id": "12d2d67e",
   "metadata": {},
   "source": [
    "### Model embedding dep"
   ]
  },
  {
   "cell_type": "code",
   "execution_count": 50,
   "id": "57407fee",
   "metadata": {},
   "outputs": [],
   "source": [
    "con_dep_emb_matrix_pos1 = get_dictionary_matrix(words_pos_dep5,2)\n",
    "con_dep_emb_matrix_neg1 = get_dictionary_matrix(words_neg_dep5,2)"
   ]
  },
  {
   "cell_type": "markdown",
   "id": "1c394ef3",
   "metadata": {},
   "source": [
    "### Model embedding pre_trained "
   ]
  },
  {
   "cell_type": "code",
   "execution_count": 51,
   "id": "53ad74c9",
   "metadata": {},
   "outputs": [],
   "source": [
    "con_dep_emb_matrix_pos2 = get_dictionary_matrix(words_pos_dep5,3)\n",
    "con_dep_emb_matrix_neg2 = get_dictionary_matrix(words_neg_dep5,3)"
   ]
  },
  {
   "cell_type": "markdown",
   "id": "14cff8cd",
   "metadata": {},
   "source": [
    "### Model embedding emotions "
   ]
  },
  {
   "cell_type": "code",
   "execution_count": 52,
   "id": "3bcf646e",
   "metadata": {},
   "outputs": [],
   "source": [
    "con_dep_emb_matrix_pos3 = get_dictionary_matrix(words_pos_dep5,4)\n",
    "con_dep_emb_matrix_neg3 = get_dictionary_matrix(words_neg_dep5,4)"
   ]
  },
  {
   "cell_type": "markdown",
   "id": "f8ec25f1",
   "metadata": {},
   "source": [
    "### Lowercase"
   ]
  },
  {
   "cell_type": "code",
   "execution_count": 53,
   "id": "fed2eee6",
   "metadata": {},
   "outputs": [],
   "source": [
    "kw23 = get_list_key(con_pos_dep2)\n",
    "kw24 = get_list_key(con_neg_dep2)\n",
    "words_pos_dep6 = get_words_from_kw(kw23)\n",
    "words_neg_dep6 = get_words_from_kw(kw24)"
   ]
  },
  {
   "cell_type": "markdown",
   "id": "62d6a21a",
   "metadata": {},
   "source": [
    "### Model embedding dep"
   ]
  },
  {
   "cell_type": "code",
   "execution_count": 54,
   "id": "74e0c6ae",
   "metadata": {},
   "outputs": [],
   "source": [
    "con_dep_emb_matrix_pos4 = get_dictionary_matrix(words_pos_dep6,2)\n",
    "con_dep_emb_matrix_neg4 = get_dictionary_matrix(words_neg_dep6,2)"
   ]
  },
  {
   "cell_type": "markdown",
   "id": "376b8b56",
   "metadata": {},
   "source": [
    "### Model embedding pre_trained"
   ]
  },
  {
   "cell_type": "code",
   "execution_count": 55,
   "id": "65ee8753",
   "metadata": {},
   "outputs": [],
   "source": [
    "con_dep_emb_matrix_pos5 = get_dictionary_matrix(words_pos_dep6,3)\n",
    "con_dep_emb_matrix_neg5 = get_dictionary_matrix(words_neg_dep6,3)"
   ]
  },
  {
   "cell_type": "markdown",
   "id": "e9aafdbf",
   "metadata": {},
   "source": [
    "### Model embedding emotions"
   ]
  },
  {
   "cell_type": "code",
   "execution_count": 56,
   "id": "63dc5147",
   "metadata": {},
   "outputs": [],
   "source": [
    "con_dep_emb_matrix_pos6 = get_dictionary_matrix(words_pos_dep6,4)\n",
    "con_dep_emb_matrix_neg6 = get_dictionary_matrix(words_neg_dep6,4)"
   ]
  },
  {
   "cell_type": "markdown",
   "id": "bf04735e",
   "metadata": {},
   "source": [
    "# Make clustering"
   ]
  },
  {
   "cell_type": "code",
   "execution_count": 57,
   "id": "cab632a0",
   "metadata": {},
   "outputs": [],
   "source": [
    "# x,y = clustering_features(post_anxia_emb_matrix_pos1, 5)"
   ]
  },
  {
   "cell_type": "code",
   "execution_count": 58,
   "id": "25beae41",
   "metadata": {},
   "outputs": [],
   "source": [
    "# z = sklearn.metrics.pairwise.cosine_similarity(post_anxia_emb_matrix_pos1, y)"
   ]
  },
  {
   "cell_type": "code",
   "execution_count": 59,
   "id": "018f8c6f",
   "metadata": {},
   "outputs": [],
   "source": [
    "# z.shape"
   ]
  },
  {
   "cell_type": "code",
   "execution_count": 60,
   "id": "760f3781",
   "metadata": {},
   "outputs": [],
   "source": [
    "#  np.amax(z, axis = 0)"
   ]
  },
  {
   "cell_type": "code",
   "execution_count": 61,
   "id": "057886c1",
   "metadata": {},
   "outputs": [],
   "source": [
    "# index, clusters = np.where( z ==  np.amax(z, axis = 0))"
   ]
  },
  {
   "cell_type": "code",
   "execution_count": 62,
   "id": "594eeaed",
   "metadata": {},
   "outputs": [],
   "source": [
    "# list(zip(index,clusters))"
   ]
  },
  {
   "cell_type": "code",
   "execution_count": 63,
   "id": "7bbc2734",
   "metadata": {},
   "outputs": [],
   "source": [
    "def get_represententing_words(word_embedding_matrix, num_clusters, dictionary):\n",
    "    words_centroid = dict()\n",
    "    array_clusters, centroids = clustering_features(word_embedding_matrix, num_clusters)\n",
    "    #calculate the cosine similarity between the centroids and the embedings of the words\n",
    "    similarity_matrix = sklearn.metrics.pairwise.cosine_similarity(word_embedding_matrix, centroids)\n",
    "    #array with the maximum by column\n",
    "    max_similarity = np.amax(similarity_matrix, axis = 0)\n",
    "    #find the index, n_lcuster is the number of cluster corresponding to the maximum in that cluster \n",
    "    index, n_cluster = np.where( similarity_matrix == max_similarity)\n",
    "    \n",
    "    for i in range(index.shape[0]):\n",
    "        words_centroid[n_cluster[i]] = dictionary[index[i]]\n",
    "    \n",
    "    return words_centroid"
   ]
  },
  {
   "cell_type": "markdown",
   "id": "df857060",
   "metadata": {},
   "source": [
    "# Get clusters "
   ]
  },
  {
   "cell_type": "markdown",
   "id": "90eaffea",
   "metadata": {},
   "source": [
    "## Level post : 5 cluster "
   ]
  },
  {
   "cell_type": "code",
   "execution_count": 64,
   "id": "45df853d",
   "metadata": {},
   "outputs": [],
   "source": [
    "cluster_path_5 = '/home/est_posgrado_maria.garcia/Tesis/Proyecto_tecnologico/New/Fuzzy_range/5-Cluster'"
   ]
  },
  {
   "cell_type": "code",
   "execution_count": 65,
   "id": "6bc0be40",
   "metadata": {},
   "outputs": [],
   "source": [
    "\n",
    "#post_anxia1 = get_represententing_words(post_anxia_emb_matrix_pos1, 5, words_pos_anxia1)\n"
   ]
  },
  {
   "cell_type": "code",
   "execution_count": 66,
   "id": "88f2eec1",
   "metadata": {},
   "outputs": [],
   "source": [
    "# with open(cluster_path_5+'/post_anxia_uppercase', \"wb\") as fp:\n",
    "#     pickle.dump(post_anxia1, fp)\n",
    "#     fp.close()"
   ]
  },
  {
   "cell_type": "code",
   "execution_count": 67,
   "id": "88d1f72d",
   "metadata": {},
   "outputs": [],
   "source": [
    "# post_anxia2 = get_represententing_words(post_anxia_emb_matrix_pos2, 5, words_pos_anxia1)\n",
    "# with open(cluster_path_5+'/post_pre_uppercase', \"wb\") as fp:\n",
    "#     pickle.dump(post_anxia2, fp)\n",
    "#     fp.close()"
   ]
  },
  {
   "cell_type": "code",
   "execution_count": 68,
   "id": "0d54da63",
   "metadata": {},
   "outputs": [],
   "source": [
    "# post_anxia3 = get_represententing_words(post_anxia_emb_matrix_pos3, 5, words_pos_anxia1)\n",
    "# with open(cluster_path_5+'/post_emo_uppercase', \"wb\") as fp:\n",
    "#     pickle.dump(post_anxia3, fp)\n",
    "#     fp.close()"
   ]
  },
  {
   "cell_type": "code",
   "execution_count": 69,
   "id": "79a17416",
   "metadata": {},
   "outputs": [],
   "source": [
    "# post_anxia4 = get_represententing_words(post_anxia_emb_matrix_pos4, 5, words_pos_anxia2)\n",
    "# with open(cluster_path_5+'/post_anxia_lowercase', \"wb\") as fp:\n",
    "#     pickle.dump(post_anxia4, fp)\n",
    "#     fp.close()"
   ]
  },
  {
   "cell_type": "code",
   "execution_count": 70,
   "id": "632e7580",
   "metadata": {},
   "outputs": [],
   "source": [
    "# post_anxia5 = get_represententing_words(post_anxia_emb_matrix_pos5, 5, words_pos_anxia2)\n",
    "# with open(cluster_path_5+'/post_pre_lowercase', \"wb\") as fp:\n",
    "#     pickle.dump(post_anxia5, fp)\n",
    "#     fp.close()"
   ]
  },
  {
   "cell_type": "code",
   "execution_count": 71,
   "id": "e0d2eb01",
   "metadata": {},
   "outputs": [],
   "source": [
    "# post_anxia6 = get_represententing_words(post_anxia_emb_matrix_pos6, 5, words_pos_anxia2)\n",
    "# with open(cluster_path_5+'/post_emo_lowercase', \"wb\") as fp:\n",
    "#     pickle.dump(post_anxia6, fp)\n",
    "#     fp.close()"
   ]
  },
  {
   "cell_type": "code",
   "execution_count": 72,
   "id": "6e0768e0",
   "metadata": {},
   "outputs": [],
   "source": [
    "# post_neg_anxia1 = get_represententing_words(post_anxia_emb_matrix_neg1, 5, words_neg_anxia1)\n",
    "# with open(cluster_path_5+'/post_neg_anxia_uppercase', \"wb\") as fp:\n",
    "#     pickle.dump(post_neg_anxia1, fp)\n",
    "#     fp.close()\n",
    "\n",
    "# post_anxia2 = get_represententing_words(post_anxia_emb_matrix_neg2, 5, words_neg_anxia1)\n",
    "# with open(cluster_path_5+'/post_neg_pre_uppercase', \"wb\") as fp:\n",
    "#     pickle.dump(post_anxia2, fp)\n",
    "#     fp.close()\n",
    "\n",
    "# post_anxia3 = get_represententing_words(post_anxia_emb_matrix_neg3, 5, words_neg_anxia1)\n",
    "# with open(cluster_path_5+'/post_neg_emo_uppercase', \"wb\") as fp:\n",
    "#     pickle.dump(post_anxia3, fp)\n",
    "#     fp.close()\n",
    "\n",
    "# post_anxia4 = get_represententing_words(post_anxia_emb_matrix_neg4, 5, words_neg_anxia2)\n",
    "# with open(cluster_path_5+'/post_neg_anxia_lowercase', \"wb\") as fp:\n",
    "#     pickle.dump(post_anxia4, fp)\n",
    "#     fp.close()\n",
    "\n",
    "# post_anxia5 = get_represententing_words(post_anxia_emb_matrix_neg5, 5, words_neg_anxia2)\n",
    "# with open(cluster_path_5+'/post_neg_pre_lowercase', \"wb\") as fp:\n",
    "#     pickle.dump(post_anxia5, fp)\n",
    "#     fp.close()\n",
    "\n",
    "# post_anxia6 = get_represententing_words(post_anxia_emb_matrix_neg6, 5, words_neg_anxia2)\n",
    "# with open(cluster_path_5+'/post_neg_emo_lowercase', \"wb\") as fp:\n",
    "#     pickle.dump(post_anxia6, fp)\n",
    "#     fp.close()"
   ]
  },
  {
   "cell_type": "code",
   "execution_count": 73,
   "id": "52ae0313",
   "metadata": {},
   "outputs": [],
   "source": [
    "# post_dep1 = get_represententing_words(post_dep_emb_matrix_pos1, 5, words_pos_dep1)\n",
    "# with open(cluster_path_5+'/post_dep_uppercase', \"wb\") as fp:\n",
    "#     pickle.dump(post_dep1, fp)\n",
    "#     fp.close()\n",
    "\n",
    "# post_dep2 = get_represententing_words(post_dep_emb_matrix_pos2, 5, words_pos_dep1)\n",
    "# with open(cluster_path_5+'/post_dep_pre_uppercase', \"wb\") as fp:\n",
    "#     pickle.dump(post_dep2, fp)\n",
    "#     fp.close()\n",
    "\n",
    "# post_dep3 = get_represententing_words(post_dep_emb_matrix_pos3, 5, words_pos_dep1)\n",
    "# with open(cluster_path_5+'/post_dep_emo_uppercase', \"wb\") as fp:\n",
    "#     pickle.dump(post_dep3, fp)\n",
    "#     fp.close()\n",
    "\n",
    "# post_dep4 = get_represententing_words(post_dep_emb_matrix_pos4, 5, words_pos_dep2)\n",
    "# with open(cluster_path_5+'/post_dep_lowercase', \"wb\") as fp:\n",
    "#     pickle.dump(post_dep4, fp)\n",
    "#     fp.close()\n",
    "\n",
    "# post_dep5 = get_represententing_words(post_dep_emb_matrix_pos5, 5, words_pos_dep2)\n",
    "# with open(cluster_path_5+'/post_dep_pre_lowercase', \"wb\") as fp:\n",
    "#     pickle.dump(post_dep5, fp)\n",
    "#     fp.close()\n",
    "\n",
    "# post_dep6 = get_represententing_words(post_dep_emb_matrix_pos6, 5, words_pos_dep2)\n",
    "# with open(cluster_path_5+'/post_dep_emo_lowercase', \"wb\") as fp:\n",
    "#     pickle.dump(post_dep6, fp)\n",
    "#     fp.close()"
   ]
  },
  {
   "cell_type": "code",
   "execution_count": 74,
   "id": "64f9503d",
   "metadata": {},
   "outputs": [],
   "source": [
    "#post_dep1 = get_represententing_words(post_dep_emb_matrix_neg1, 5, words_neg_dep1)\n",
    "#with open(cluster_path_5+'/post_neg_dep_uppercase', \"wb\") as fp:\n",
    "#    pickle.dump(post_dep1, fp)\n",
    "#    fp.close()\n",
    "\n",
    "# post_dep2 = get_represententing_words(post_dep_emb_matrix_neg2, 5, words_neg_dep1)\n",
    "# with open(cluster_path_5+'/post_neg_dep_pre_uppercase', \"wb\") as fp:\n",
    "#     pickle.dump(post_dep2, fp)\n",
    "#     fp.close()\n",
    "\n",
    "# post_dep3 = get_represententing_words(post_dep_emb_matrix_neg3, 5, words_neg_dep1)\n",
    "# with open(cluster_path_5+'/post_neg_dep_emo_uppercase', \"wb\") as fp:\n",
    "#     pickle.dump(post_dep3, fp)\n",
    "#     fp.close()\n",
    "\n",
    "# post_dep4 = get_represententing_words(post_dep_emb_matrix_neg4, 5, words_neg_dep2)\n",
    "# with open(cluster_path_5+'/post_neg_dep_lowercase', \"wb\") as fp:\n",
    "#     pickle.dump(post_dep4, fp)\n",
    "#     fp.close()\n",
    "\n",
    "# post_dep5 = get_represententing_words(post_dep_emb_matrix_neg5, 5, words_neg_dep2)\n",
    "# with open(cluster_path_5+'/post_neg_dep_pre_lowercase', \"wb\") as fp:\n",
    "#     pickle.dump(post_dep5, fp)\n",
    "#     fp.close()\n",
    "\n",
    "# post_dep6 = get_represententing_words(post_dep_emb_matrix_neg6, 5, words_neg_dep2)\n",
    "# with open(cluster_path_5+'/post_neg_dep_emo_lowercase', \"wb\") as fp:\n",
    "#     pickle.dump(post_dep6, fp)\n",
    "#     fp.close()"
   ]
  },
  {
   "cell_type": "markdown",
   "id": "66a3b8f2",
   "metadata": {},
   "source": [
    "# Level User"
   ]
  },
  {
   "cell_type": "code",
   "execution_count": 75,
   "id": "b95144b3",
   "metadata": {},
   "outputs": [],
   "source": [
    "\n",
    "# user_anxia1 = get_represententing_words(user_anxia_emb_matrix_pos1, 5, words_pos_anxia3)\n",
    "\n",
    "# with open(cluster_path_5+'/user_anxia_uppercase', \"wb\") as fp:\n",
    "#     pickle.dump(user_anxia1, fp)\n",
    "#     fp.close()\n",
    "\n",
    "# user_anxia2 = get_represententing_words(user_anxia_emb_matrix_pos2, 5, words_pos_anxia3)\n",
    "# with open(cluster_path_5+'/user_pre_uppercase', \"wb\") as fp:\n",
    "#     pickle.dump(user_anxia2, fp)\n",
    "#     fp.close()\n",
    "\n",
    "# user_anxia3 = get_represententing_words(user_anxia_emb_matrix_pos3, 5, words_pos_anxia3)\n",
    "# with open(cluster_path_5+'/user_emo_uppercase', \"wb\") as fp:\n",
    "#     pickle.dump(user_anxia3, fp)\n",
    "#     fp.close()\n",
    "\n",
    "# user_anxia4 = get_represententing_words(user_anxia_emb_matrix_pos4, 5, words_pos_anxia4)\n",
    "# with open(cluster_path_5+'/user_anxia_lowercase', \"wb\") as fp:\n",
    "#     pickle.dump(user_anxia4, fp)\n",
    "#     fp.close()\n",
    "\n",
    "# user_anxia5 = get_represententing_words(user_anxia_emb_matrix_pos5, 5, words_pos_anxia4)\n",
    "# with open(cluster_path_5+'/user_pre_lowercase', \"wb\") as fp:\n",
    "#     pickle.dump(user_anxia5, fp)\n",
    "#     fp.close()\n",
    "\n",
    "# user_anxia6 = get_represententing_words(user_anxia_emb_matrix_pos6, 5, words_pos_anxia4)\n",
    "# with open(cluster_path_5+'/user_emo_lowercase', \"wb\") as fp:\n",
    "#     pickle.dump(user_anxia6, fp)\n",
    "#     fp.close()"
   ]
  },
  {
   "cell_type": "code",
   "execution_count": 76,
   "id": "7bbcfc8f",
   "metadata": {},
   "outputs": [],
   "source": [
    "\n",
    "# user_anxia1 = get_represententing_words(user_anxia_emb_matrix_neg1, 5, words_neg_anxia3)\n",
    "\n",
    "# with open(cluster_path_5+'/user_neg_anxia_uppercase', \"wb\") as fp:\n",
    "#     pickle.dump(user_anxia1, fp)\n",
    "#     fp.close()\n",
    "\n",
    "# user_anxia2 = get_represententing_words(user_anxia_emb_matrix_neg2, 5, words_neg_anxia3)\n",
    "# with open(cluster_path_5+'/user_neg_pre_uppercase', \"wb\") as fp:\n",
    "#     pickle.dump(user_anxia2, fp)\n",
    "#     fp.close()\n",
    "\n",
    "# user_anxia3 = get_represententing_words(user_anxia_emb_matrix_neg3, 5, words_neg_anxia3)\n",
    "# with open(cluster_path_5+'/user_neg_emo_uppercase', \"wb\") as fp:\n",
    "#     pickle.dump(user_anxia3, fp)\n",
    "#     fp.close()\n",
    "\n",
    "# user_anxia4 = get_represententing_words(user_anxia_emb_matrix_neg4, 5, words_neg_anxia4)\n",
    "# with open(cluster_path_5+'/user_neg_anxia_lowercase', \"wb\") as fp:\n",
    "#     pickle.dump(user_anxia4, fp)\n",
    "#     fp.close()\n",
    "\n",
    "# user_anxia5 = get_represententing_words(user_anxia_emb_matrix_neg5, 5, words_neg_anxia4)\n",
    "# with open(cluster_path_5+'/user_neg_pre_lowercase', \"wb\") as fp:\n",
    "#     pickle.dump(user_anxia5, fp)\n",
    "#     fp.close()\n",
    "\n",
    "# user_anxia6 = get_represententing_words(user_anxia_emb_matrix_neg6, 5, words_neg_anxia4)\n",
    "# with open(cluster_path_5+'/user_neg_emo_lowercase', \"wb\") as fp:\n",
    "#     pickle.dump(user_anxia6, fp)\n",
    "#     fp.close()"
   ]
  },
  {
   "cell_type": "code",
   "execution_count": 77,
   "id": "90e53cb9",
   "metadata": {},
   "outputs": [],
   "source": [
    "# user_dep1 = get_represententing_words(user_dep_emb_matrix_pos1, 5, words_pos_dep3)\n",
    "# with open(cluster_path_5+'/user_dep_uppercase', \"wb\") as fp:\n",
    "#     pickle.dump(user_dep1, fp)\n",
    "#     fp.close()\n",
    "\n",
    "# user_dep2 = get_represententing_words(user_dep_emb_matrix_pos2, 5, words_pos_dep3)\n",
    "# with open(cluster_path_5+'/user_dep_pre_uppercase', \"wb\") as fp:\n",
    "#     pickle.dump(user_dep2, fp)\n",
    "#     fp.close()\n",
    "\n",
    "# user_dep3 = get_represententing_words(user_dep_emb_matrix_pos3, 5, words_pos_dep3)\n",
    "# with open(cluster_path_5+'/user_dep_emo_uppercase', \"wb\") as fp:\n",
    "#     pickle.dump(user_dep3, fp)\n",
    "#     fp.close()\n",
    "\n",
    "# user_dep4 = get_represententing_words(user_dep_emb_matrix_pos4, 5, words_pos_dep4)\n",
    "# with open(cluster_path_5+'/user_dep_lowercase', \"wb\") as fp:\n",
    "#     pickle.dump(user_dep4, fp)\n",
    "#     fp.close()\n",
    "\n",
    "# user_dep5 = get_represententing_words(user_dep_emb_matrix_pos5, 5, words_pos_dep4)\n",
    "# with open(cluster_path_5+'/user_dep_pre_lowercase', \"wb\") as fp:\n",
    "#     pickle.dump(user_dep5, fp)\n",
    "#     fp.close()\n",
    "\n",
    "# user_dep6 = get_represententing_words(user_dep_emb_matrix_pos6, 5, words_pos_dep4)\n",
    "# with open(cluster_path_5+'/user_dep_emo_lowercase', \"wb\") as fp:\n",
    "#     pickle.dump(user_dep6, fp)\n",
    "#     fp.close()"
   ]
  },
  {
   "cell_type": "code",
   "execution_count": 78,
   "id": "cf7f20fa",
   "metadata": {},
   "outputs": [],
   "source": [
    "# user_dep1 = get_represententing_words(user_dep_emb_matrix_neg1, 5, words_neg_dep3)\n",
    "# with open(cluster_path_5+'/user_neg_dep_uppercase', \"wb\") as fp:\n",
    "#     pickle.dump(user_dep1, fp)\n",
    "#     fp.close()\n",
    "\n",
    "# user_dep2 = get_represententing_words(user_dep_emb_matrix_neg2, 5, words_neg_dep3)\n",
    "# with open(cluster_path_5+'/user_neg_dep_pre_uppercase', \"wb\") as fp:\n",
    "#     pickle.dump(user_dep2, fp)\n",
    "#     fp.close()\n",
    "\n",
    "# user_dep3 = get_represententing_words(user_dep_emb_matrix_neg3, 5, words_neg_dep3)\n",
    "# with open(cluster_path_5+'/user_neg_dep_emo_uppercase', \"wb\") as fp:\n",
    "#     pickle.dump(user_dep3, fp)\n",
    "#     fp.close()\n",
    "\n",
    "# user_dep4 = get_represententing_words(user_dep_emb_matrix_neg4, 5, words_neg_dep4)\n",
    "# with open(cluster_path_5+'/user_neg_dep_lowercase', \"wb\") as fp:\n",
    "#     pickle.dump(user_dep4, fp)\n",
    "#     fp.close()\n",
    "\n",
    "# user_dep5 = get_represententing_words(user_dep_emb_matrix_neg5, 5, words_neg_dep4)\n",
    "# with open(cluster_path_5+'/user_neg_dep_pre_lowercase', \"wb\") as fp:\n",
    "#     pickle.dump(user_dep5, fp)\n",
    "#     fp.close()\n",
    "\n",
    "# user_dep6 = get_represententing_words(user_dep_emb_matrix_neg6, 5, words_neg_dep4)\n",
    "# with open(cluster_path_5+'/user_neg_dep_emo_lowercase', \"wb\") as fp:\n",
    "#     pickle.dump(user_dep6, fp)\n",
    "#     fp.close()"
   ]
  },
  {
   "cell_type": "markdown",
   "id": "6598579b",
   "metadata": {},
   "source": [
    "## Level concatenation"
   ]
  },
  {
   "cell_type": "code",
   "execution_count": 80,
   "id": "cb8c1ec9",
   "metadata": {},
   "outputs": [],
   "source": [
    "# con_anxia1 = get_represententing_words(con_anxia_emb_matrix_pos1, 5, words_pos_anxia5)\n",
    "\n",
    "# with open(cluster_path_5+'/con_anxia_uppercase', \"wb\") as fp:\n",
    "#     pickle.dump(con_anxia1, fp)\n",
    "#     fp.close()\n",
    "\n",
    "# con_anxia2 = get_represententing_words(con_anxia_emb_matrix_pos2, 5, words_pos_anxia5)\n",
    "# with open(cluster_path_5+'/con_pre_uppercase', \"wb\") as fp:\n",
    "#     pickle.dump(con_anxia2, fp)\n",
    "#     fp.close()\n",
    "\n",
    "# con_anxia3 = get_represententing_words(con_anxia_emb_matrix_pos3, 5, words_pos_anxia5)\n",
    "# with open(cluster_path_5+'/con_emo_uppercase', \"wb\") as fp:\n",
    "#     pickle.dump(con_anxia3, fp)\n",
    "#     fp.close()\n",
    "\n",
    "# con_anxia4 = get_represententing_words(con_anxia_emb_matrix_pos4, 5, words_pos_anxia6)\n",
    "# with open(cluster_path_5+'/con_anxia_lowercase', \"wb\") as fp:\n",
    "#     pickle.dump(con_anxia4, fp)\n",
    "#     fp.close()\n",
    "\n",
    "con_anxia5 = get_represententing_words(con_anxia_emb_matrix_pos5, 5, words_pos_anxia6)\n",
    "with open(cluster_path_5+'/con_pre_lowercase', \"wb\") as fp:\n",
    "    pickle.dump(con_anxia5, fp)\n",
    "    fp.close()\n",
    "\n",
    "con_anxia6 = get_represententing_words(con_anxia_emb_matrix_pos6, 5, words_pos_anxia6)\n",
    "with open(cluster_path_5+'/con_emo_lowercase', \"wb\") as fp:\n",
    "    pickle.dump(con_anxia6, fp)\n",
    "    fp.close()"
   ]
  },
  {
   "cell_type": "code",
   "execution_count": 81,
   "id": "d1e3b0f7",
   "metadata": {},
   "outputs": [],
   "source": [
    "con_anxia1 = get_represententing_words(con_anxia_emb_matrix_neg1, 5, words_neg_anxia5)\n",
    "\n",
    "with open(cluster_path_5+'/con_neg_anxia_uppercase', \"wb\") as fp:\n",
    "    pickle.dump(con_anxia1, fp)\n",
    "    fp.close()\n",
    "\n",
    "con_anxia2 = get_represententing_words(con_anxia_emb_matrix_neg2, 5, words_neg_anxia5)\n",
    "with open(cluster_path_5+'/con_neg_pre_uppercase', \"wb\") as fp:\n",
    "    pickle.dump(con_anxia2, fp)\n",
    "    fp.close()\n",
    "\n",
    "con_anxia3 = get_represententing_words(con_anxia_emb_matrix_neg3, 5, words_neg_anxia5)\n",
    "with open(cluster_path_5+'/con_neg_emo_uppercase', \"wb\") as fp:\n",
    "    pickle.dump(con_anxia3, fp)\n",
    "    fp.close()\n",
    "\n",
    "con_anxia4 = get_represententing_words(con_anxia_emb_matrix_neg4, 5, words_neg_anxia6)\n",
    "with open(cluster_path_5+'/con_neg_anxia_lowercase', \"wb\") as fp:\n",
    "    pickle.dump(con_anxia4, fp)\n",
    "    fp.close()\n",
    "\n",
    "con_anxia5 = get_represententing_words(con_anxia_emb_matrix_neg5, 5, words_neg_anxia6)\n",
    "with open(cluster_path_5+'/con_neg_pre_lowercase', \"wb\") as fp:\n",
    "    pickle.dump(con_anxia5, fp)\n",
    "    fp.close()\n",
    "\n",
    "con_anxia6 = get_represententing_words(con_anxia_emb_matrix_neg6, 5, words_neg_anxia6)\n",
    "with open(cluster_path_5+'/con_neg_emo_lowercase', \"wb\") as fp:\n",
    "    pickle.dump(con_anxia6, fp)\n",
    "    fp.close()"
   ]
  },
  {
   "cell_type": "code",
   "execution_count": 82,
   "id": "b70ac9e7",
   "metadata": {},
   "outputs": [],
   "source": [
    "con_dep1 = get_represententing_words(con_dep_emb_matrix_pos1, 5, words_pos_dep5)\n",
    "with open(cluster_path_5+'/con_dep_uppercase', \"wb\") as fp:\n",
    "    pickle.dump(con_dep1, fp)\n",
    "    fp.close()\n",
    "\n",
    "con_dep2 = get_represententing_words(con_dep_emb_matrix_pos2, 5, words_pos_dep5)\n",
    "with open(cluster_path_5+'/con_dep_pre_uppercase', \"wb\") as fp:\n",
    "    pickle.dump(con_dep2, fp)\n",
    "    fp.close()\n",
    "\n",
    "con_dep3 = get_represententing_words(con_dep_emb_matrix_pos3, 5, words_pos_dep5)\n",
    "with open(cluster_path_5+'/con_dep_emo_uppercase', \"wb\") as fp:\n",
    "    pickle.dump(con_dep3, fp)\n",
    "    fp.close()\n",
    "\n",
    "con_dep4 = get_represententing_words(con_dep_emb_matrix_pos4, 5, words_pos_dep6)\n",
    "with open(cluster_path_5+'/con_dep_lowercase', \"wb\") as fp:\n",
    "    pickle.dump(con_dep4, fp)\n",
    "    fp.close()\n",
    "    \n",
    "con_dep5 = get_represententing_words(con_dep_emb_matrix_pos5, 5, words_pos_dep6)\n",
    "with open(cluster_path_5+'/con_dep_pre_lowercase', \"wb\") as fp:\n",
    "    pickle.dump(con_dep5, fp)\n",
    "    fp.close()\n",
    "\n",
    "con_dep6 = get_represententing_words(con_dep_emb_matrix_pos6, 5, words_pos_dep6)\n",
    "with open(cluster_path_5+'/con_dep_emo_lowercase', \"wb\") as fp:\n",
    "    pickle.dump(con_dep6, fp)\n",
    "    fp.close()"
   ]
  },
  {
   "cell_type": "code",
   "execution_count": null,
   "id": "f7b82129",
   "metadata": {},
   "outputs": [],
   "source": [
    "# con_dep1 = get_represententing_words(con_dep_emb_matrix_neg1, 5, words_neg_dep5)\n",
    "# with open(cluster_path_5+'/con_neg_dep_uppercase', \"wb\") as fp:\n",
    "#     pickle.dump(con_dep1, fp)\n",
    "#     fp.close()\n",
    "\n",
    "# con_dep2 = get_represententing_words(con_dep_emb_matrix_neg2, 5, words_neg_dep5)\n",
    "# with open(cluster_path_5+'/con_neg_dep_pre_uppercase', \"wb\") as fp:\n",
    "#     pickle.dump(con_dep2, fp)\n",
    "#     fp.close()\n",
    "\n",
    "# con_dep3 = get_represententing_words(con_dep_emb_matrix_neg3, 5, words_neg_dep5)\n",
    "# with open(cluster_path_5+'/con_neg_dep_emo_uppercase', \"wb\") as fp:\n",
    "#     pickle.dump(con_dep3, fp)\n",
    "#     fp.close()\n",
    "\n",
    "# con_dep4 = get_represententing_words(con_dep_emb_matrix_neg4, 5, words_neg_dep6)\n",
    "# with open(cluster_path_5+'/con_neg_dep_lowercase', \"wb\") as fp:\n",
    "#     pickle.dump(con_dep4, fp)\n",
    "#     fp.close()\n",
    "\n",
    "# con_dep5 = get_represententing_words(user_dep_emb_matrix_neg5, 5, words_neg_dep6)\n",
    "# with open(cluster_path_5+'/con_neg_dep_pre_lowercase', \"wb\") as fp:\n",
    "#     pickle.dump(con_dep5, fp)\n",
    "#     fp.close()\n",
    "\n",
    "# con_dep6 = get_represententing_words(con_dep_emb_matrix_neg6, 5, words_neg_dep6)\n",
    "# with open(cluster_path_5+'/con_neg_dep_emo_lowercase', \"wb\") as fp:\n",
    "#     pickle.dump(con_dep6, fp)\n",
    "#     fp.close()"
   ]
  },
  {
   "cell_type": "code",
   "execution_count": null,
   "id": "fa6069c5",
   "metadata": {},
   "outputs": [],
   "source": []
  }
 ],
 "metadata": {
  "kernelspec": {
   "display_name": "Python 3 (ipykernel)",
   "language": "python",
   "name": "python3"
  },
  "language_info": {
   "codemirror_mode": {
    "name": "ipython",
    "version": 3
   },
   "file_extension": ".py",
   "mimetype": "text/x-python",
   "name": "python",
   "nbconvert_exporter": "python",
   "pygments_lexer": "ipython3",
   "version": "3.10.4"
  }
 },
 "nbformat": 4,
 "nbformat_minor": 5
}
