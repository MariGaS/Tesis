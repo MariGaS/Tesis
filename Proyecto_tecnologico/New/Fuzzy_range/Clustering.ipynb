{
 "cells": [
  {
   "cell_type": "code",
   "execution_count": 1,
   "id": "aa8990f6",
   "metadata": {},
   "outputs": [],
   "source": [
    "import numpy as np \n",
    "from nltk.cluster import KMeansClusterer\n",
    "import nltk\n",
    "from sklearn.metrics import pairwise_distances"
   ]
  },
  {
   "cell_type": "code",
   "execution_count": 2,
   "id": "26224f8e",
   "metadata": {},
   "outputs": [
    {
     "name": "stdout",
     "output_type": "stream",
     "text": [
      "Load_anorexia\n",
      "Load depression\n",
      "Load emotions\n",
      "Load pretrained\n"
     ]
    },
    {
     "name": "stderr",
     "output_type": "stream",
     "text": [
      "Warning : `load_model` does not return WordVectorModel or SupervisedModel any more, but a `FastText` object which is very similar.\n"
     ]
    }
   ],
   "source": [
    "from vec_function import *"
   ]
  },
  {
   "cell_type": "markdown",
   "id": "482aa39c",
   "metadata": {},
   "source": [
    "# Dictionaries "
   ]
  },
  {
   "cell_type": "code",
   "execution_count": 3,
   "id": "cf35e5b3",
   "metadata": {},
   "outputs": [],
   "source": [
    "#POST LEVEL DICTIONARIES \n",
    "#---------------------------ANOREXIA-------------------#\n",
    "#version 1\n",
    "post_pos_anxia1 = '/home/est_posgrado_maria.garcia/Tesis/Proyecto_tecnologico/New/Post_dictionary/post_level/anxia_pos_ver1key30'\n",
    "post_neg_anxia1 = '/home/est_posgrado_maria.garcia/Tesis/Proyecto_tecnologico/New/Post_dictionary/post_level/anxia_neg_ver1key30'\n",
    "#version 2\n",
    "post_pos_anxia2 = '/home/est_posgrado_maria.garcia/Tesis/Proyecto_tecnologico/New/Post_dictionary/post_level/anxia_pos_ver2key30'\n",
    "post_neg_anxia2 = '/home/est_posgrado_maria.garcia/Tesis/Proyecto_tecnologico/New/Post_dictionary/post_level/anxia_neg_ver2key30'\n",
    "\n",
    "#-------------------------DEPRESSION--------------------#\n",
    "#version 1 \n",
    "post_pos_dep1  =  '/home/est_posgrado_maria.garcia/Tesis/Proyecto_tecnologico/New/Post_dictionary/post_level/dep_pos_ver1key30'\n",
    "post_neg_dep1  =  '/home/est_posgrado_maria.garcia/Tesis/Proyecto_tecnologico/New/Post_dictionary/post_level/dep_neg_ver1key30'\n",
    "#version 2\n",
    "post_pos_dep2  =  '/home/est_posgrado_maria.garcia/Tesis/Proyecto_tecnologico/New/Post_dictionary/post_level/dep_pos_ver2key30'\n",
    "post_neg_dep2  =  '/home/est_posgrado_maria.garcia/Tesis/Proyecto_tecnologico/New/Post_dictionary/post_level/dep_neg_ver1key30'\n",
    "\n",
    "##                                         USER VERSION OF THE DICTIONARIES OF THE USERS                        #\n",
    "#---------------------------ANOREXIA-------------------#\n",
    "#version 1\n",
    "user_pos_anxia1 = '/home/est_posgrado_maria.garcia/Tesis/Proyecto_tecnologico/New/User_dictionary/anxia_pos_ver3'\n",
    "user_neg_anxia1 = '/home/est_posgrado_maria.garcia/Tesis/Proyecto_tecnologico/New/User_dictionary/anxia_neg_ver3'\n",
    "#version 2\n",
    "user_pos_anxia2 = '/home/est_posgrado_maria.garcia/Tesis/Proyecto_tecnologico/New/User_dictionary/anxia_pos_ver4'\n",
    "user_neg_anxia2 = '/home/est_posgrado_maria.garcia/Tesis/Proyecto_tecnologico/New/User_dictionary/anxia_neg_ver4'\n",
    "\n",
    "user_pos_anxia3 = '/home/est_posgrado_maria.garcia/Tesis/Proyecto_tecnologico/New/User_dictionary/anxia_pos_ver5'\n",
    "user_neg_anxia3 = '/home/est_posgrado_maria.garcia/Tesis/Proyecto_tecnologico/New/User_dictionary/anxia_neg_ver5'\n",
    "#version 2\n",
    "user_pos_anxia4 = '/home/est_posgrado_maria.garcia/Tesis/Proyecto_tecnologico/New/User_dictionary/anxia_pos_ver6'\n",
    "user_neg_anxia4 = '/home/est_posgrado_maria.garcia/Tesis/Proyecto_tecnologico/New/User_dictionary/anxia_neg_ver6'\n",
    "\n",
    "#---------------------------DEPRESSION-----------------#\n",
    "#version 1\n",
    "user_pos_dep1 = '/home/est_posgrado_maria.garcia/Tesis/Proyecto_tecnologico/New/User_dictionary/dep_pos_ver3'\n",
    "user_neg_dep1 = '/home/est_posgrado_maria.garcia/Tesis/Proyecto_tecnologico/New/User_dictionary/dep_neg_ver3'\n",
    "#version 2\n",
    "user_pos_dep2 = '/home/est_posgrado_maria.garcia/Tesis/Proyecto_tecnologico/New/User_dictionary/dep_pos_ver4'\n",
    "user_neg_dep2 = '/home/est_posgrado_maria.garcia/Tesis/Proyecto_tecnologico/New/User_dictionary/dep_neg_ver4'\n",
    "\n",
    "user_pos_dep3 = '/home/est_posgrado_maria.garcia/Tesis/Proyecto_tecnologico/New/User_dictionary/dep_pos_ver5'\n",
    "user_neg_dep3 = '/home/est_posgrado_maria.garcia/Tesis/Proyecto_tecnologico/New/User_dictionary/dep_neg_ver5'\n",
    "#version 2\n",
    "user_pos_dep4 = '/home/est_posgrado_maria.garcia/Tesis/Proyecto_tecnologico/New/User_dictionary/dep_pos_ver6'\n",
    "user_neg_dep4 = '/home/est_posgrado_maria.garcia/Tesis/Proyecto_tecnologico/New/User_dictionary/dep_neg_ver6'\n",
    "\n",
    "##                                                   CONCATANTE ALL THE TEXT \n",
    "#version 1\n",
    "con_pos_anxia1 = '/home/est_posgrado_maria.garcia/Tesis/Proyecto_tecnologico/New/Con_dictionary/anxia_pos_ver3'\n",
    "con_neg_anxia1 = '/home/est_posgrado_maria.garcia/Tesis/Proyecto_tecnologico/New/Con_dictionary/anxia_neg_ver3'\n",
    "#version 2\n",
    "con_pos_anxia2 = '/home/est_posgrado_maria.garcia/Tesis/Proyecto_tecnologico/New/Con_dictionary/anxia_pos_ver4'\n",
    "con_neg_anxia2 = '/home/est_posgrado_maria.garcia/Tesis/Proyecto_tecnologico/New/Con_dictionary/anxia_neg_ver4'\n",
    "\n",
    "con_pos_anxia3 = '/home/est_posgrado_maria.garcia/Tesis/Proyecto_tecnologico/New/Con_dictionary/anxia_pos_ver5'\n",
    "con_neg_anxia3 = '/home/est_posgrado_maria.garcia/Tesis/Proyecto_tecnologico/New/Con_dictionary/anxia_neg_ver5'\n",
    "#version 2\n",
    "con_pos_anxia4 = '/home/est_posgrado_maria.garcia/Tesis/Proyecto_tecnologico/New/Con_dictionary/anxia_pos_ver6'\n",
    "con_neg_anxia4 = '/home/est_posgrado_maria.garcia/Tesis/Proyecto_tecnologico/New/Con_dictionary/anxia_neg_ver6'\n",
    "\n",
    "#---------------------------DEPRESSION-----------------#\n",
    "#version 1\n",
    "con_pos_dep1 = '/home/est_posgrado_maria.garcia/Tesis/Proyecto_tecnologico/New/Con_dictionary/dep_pos_ver3'\n",
    "con_neg_dep1 = '/home/est_posgrado_maria.garcia/Tesis/Proyecto_tecnologico/New/Con_dictionary/dep_neg_ver3'\n",
    "#version 2\n",
    "con_pos_dep2 = '/home/est_posgrado_maria.garcia/Tesis/Proyecto_tecnologico/New/Con_dictionary/dep_pos_ver4'\n",
    "con_neg_dep2 = '/home/est_posgrado_maria.garcia/Tesis/Proyecto_tecnologico/New/Con_dictionary/dep_neg_ver4'\n",
    "\n",
    "con_pos_dep3 = '/home/est_posgrado_maria.garcia/Tesis/Proyecto_tecnologico/New/Con_dictionary/dep_pos_ver5'\n",
    "con_neg_dep3= '/home/est_posgrado_maria.garcia/Tesis/Proyecto_tecnologico/New/Con_dictionary/dep_neg_ver5'\n",
    "#version 2\n",
    "con_pos_dep4 = '/home/est_posgrado_maria.garcia/Tesis/Proyecto_tecnologico/New/Con_dictionary/dep_pos_ver6'\n",
    "con_neg_dep4 = '/home/est_posgrado_maria.garcia/Tesis/Proyecto_tecnologico/New/Con_dictionary/dep_neg_ver6'\n",
    "\n"
   ]
  },
  {
   "cell_type": "markdown",
   "id": "0e5e394e",
   "metadata": {},
   "source": [
    "# Functions "
   ]
  },
  {
   "cell_type": "code",
   "execution_count": 4,
   "id": "6c43a4f9",
   "metadata": {},
   "outputs": [],
   "source": [
    "def clustering_features(matrix_emb, num_cluster):\n",
    "    #convert the matrix_emb to a list of vectors\n",
    "    list_vectors = list(matrix_emb)\n",
    "\n",
    "    k_cluster = KMeansClusterer(num_cluster,\n",
    "                distance = nltk.cluster.util.cosine_distance,\n",
    "                repeats = 25,\n",
    "                avoid_empty_clusters = True)\n",
    "    #return a list with the cluster assign to each vector \n",
    "    assigned_clusters = k_cluster.cluster(list_vectors, assign_clusters = True)\n",
    "    centroids = k_cluster.means()\n",
    "\n",
    "    return np.array(assigned_clusters), np.array(centroids)"
   ]
  },
  {
   "cell_type": "markdown",
   "id": "16365e8c",
   "metadata": {},
   "source": [
    "# Level post"
   ]
  },
  {
   "cell_type": "markdown",
   "id": "84f65090",
   "metadata": {},
   "source": [
    "## Anorexia"
   ]
  },
  {
   "cell_type": "markdown",
   "id": "e254cb22",
   "metadata": {},
   "source": [
    "### Uppercase model embedding anxia"
   ]
  },
  {
   "cell_type": "code",
   "execution_count": 5,
   "id": "b7179e54",
   "metadata": {},
   "outputs": [],
   "source": [
    "kw1 = get_list_key(post_pos_anxia1)\n",
    "kw2 = get_list_key(post_neg_anxia1)\n"
   ]
  },
  {
   "cell_type": "code",
   "execution_count": 6,
   "id": "efc09833",
   "metadata": {},
   "outputs": [],
   "source": [
    "words_pos_anxia1 = get_words_from_kw(kw1)\n",
    "words_neg_anxia1 = get_words_from_kw(kw2)"
   ]
  },
  {
   "cell_type": "code",
   "execution_count": 7,
   "id": "ac9d9d7b",
   "metadata": {},
   "outputs": [],
   "source": [
    "post_anxia_emb_matrix_pos1 = get_dictionary_matrix(words_pos_anxia1,1)\n",
    "post_anxia_emb_matrix_neg1 = get_dictionary_matrix(words_neg_anxia1,1)"
   ]
  },
  {
   "cell_type": "markdown",
   "id": "05e0fb00",
   "metadata": {},
   "source": [
    "### Uppercase model embedding pretrained"
   ]
  },
  {
   "cell_type": "code",
   "execution_count": 8,
   "id": "42ba7024",
   "metadata": {},
   "outputs": [],
   "source": [
    "post_anxia_emb_matrix_pos2 = get_dictionary_matrix(words_pos_anxia1,3)\n",
    "post_anxia_emb_matrix_neg2 = get_dictionary_matrix(words_neg_anxia1,3)"
   ]
  },
  {
   "cell_type": "markdown",
   "id": "cde7e3dc",
   "metadata": {},
   "source": [
    "### Uppercase model embedding emotions"
   ]
  },
  {
   "cell_type": "code",
   "execution_count": 9,
   "id": "789a86d5",
   "metadata": {},
   "outputs": [],
   "source": [
    "post_anxia_emb_matrix_pos3 = get_dictionary_matrix(words_pos_anxia1,4)\n",
    "post_anxia_emb_matrix_neg3 = get_dictionary_matrix(words_neg_anxia1,4)"
   ]
  },
  {
   "cell_type": "markdown",
   "id": "58181d83",
   "metadata": {},
   "source": [
    "### Lowercase model embedding anxia "
   ]
  },
  {
   "cell_type": "code",
   "execution_count": 10,
   "id": "9368efd4",
   "metadata": {},
   "outputs": [],
   "source": [
    "kw3 = get_list_key(post_pos_anxia2)\n",
    "kw4 = get_list_key(post_neg_anxia2)\n"
   ]
  },
  {
   "cell_type": "code",
   "execution_count": 11,
   "id": "33923c46",
   "metadata": {},
   "outputs": [],
   "source": [
    "words_pos_anxia2 = get_words_from_kw(kw3)\n",
    "words_neg_anxia2 = get_words_from_kw(kw4)"
   ]
  },
  {
   "cell_type": "code",
   "execution_count": 12,
   "id": "371bb9de",
   "metadata": {},
   "outputs": [],
   "source": [
    "post_anxia_emb_matrix_pos4 = get_dictionary_matrix(words_pos_anxia2,1)\n",
    "post_anxia_emb_matrix_neg4 = get_dictionary_matrix(words_neg_anxia2,1)"
   ]
  },
  {
   "cell_type": "markdown",
   "id": "49eeac91",
   "metadata": {},
   "source": [
    "### Lowercase model embedding pre-trained "
   ]
  },
  {
   "cell_type": "code",
   "execution_count": 13,
   "id": "9c1a1609",
   "metadata": {},
   "outputs": [],
   "source": [
    "post_anxia_emb_matrix_pos5 = get_dictionary_matrix(words_pos_anxia2,3)\n",
    "post_anxia_emb_matrix_neg5 = get_dictionary_matrix(words_neg_anxia2,3)"
   ]
  },
  {
   "cell_type": "markdown",
   "id": "7c7a7825",
   "metadata": {},
   "source": [
    "### Lowercase model embedding emotions"
   ]
  },
  {
   "cell_type": "code",
   "execution_count": 14,
   "id": "12099167",
   "metadata": {},
   "outputs": [],
   "source": [
    "post_anxia_emb_matrix_pos6 = get_dictionary_matrix(words_pos_anxia2,4)\n",
    "post_anxia_emb_matrix_neg6 = get_dictionary_matrix(words_neg_anxia2,4)"
   ]
  },
  {
   "cell_type": "markdown",
   "id": "409061fc",
   "metadata": {},
   "source": [
    "## Depression "
   ]
  },
  {
   "cell_type": "markdown",
   "id": "1e7ceba7",
   "metadata": {},
   "source": [
    "### Uppercase "
   ]
  },
  {
   "cell_type": "code",
   "execution_count": 15,
   "id": "5024a12d",
   "metadata": {},
   "outputs": [],
   "source": [
    "kw5 = get_list_key(post_pos_dep1)\n",
    "kw6 = get_list_key(post_neg_dep1)\n",
    "words_pos_dep1 = get_words_from_kw(kw5)\n",
    "words_neg_dep1 = get_words_from_kw(kw6)"
   ]
  },
  {
   "cell_type": "markdown",
   "id": "3875d2c6",
   "metadata": {},
   "source": [
    "### Model embedding dep"
   ]
  },
  {
   "cell_type": "code",
   "execution_count": 16,
   "id": "68610c5b",
   "metadata": {},
   "outputs": [],
   "source": [
    "post_dep_emb_matrix_pos1 = get_dictionary_matrix(words_pos_dep1,2)\n",
    "post_dep_emb_matrix_neg1 = get_dictionary_matrix(words_neg_dep1,2)"
   ]
  },
  {
   "cell_type": "markdown",
   "id": "a7e47720",
   "metadata": {},
   "source": [
    "### Model embedding pre_trained "
   ]
  },
  {
   "cell_type": "code",
   "execution_count": 17,
   "id": "6f5799b6",
   "metadata": {},
   "outputs": [],
   "source": [
    "post_dep_emb_matrix_pos2 = get_dictionary_matrix(words_pos_dep1,3)\n",
    "post_dep_emb_matrix_neg2 = get_dictionary_matrix(words_neg_dep1,3)"
   ]
  },
  {
   "cell_type": "markdown",
   "id": "0bede1ee",
   "metadata": {},
   "source": [
    "### Model embedding emotions "
   ]
  },
  {
   "cell_type": "code",
   "execution_count": 18,
   "id": "40484ac2",
   "metadata": {},
   "outputs": [],
   "source": [
    "post_dep_emb_matrix_pos3 = get_dictionary_matrix(words_pos_dep1,4)\n",
    "post_dep_emb_matrix_neg3 = get_dictionary_matrix(words_neg_dep1,4)"
   ]
  },
  {
   "cell_type": "markdown",
   "id": "729f50a7",
   "metadata": {},
   "source": [
    "### Lowercase"
   ]
  },
  {
   "cell_type": "code",
   "execution_count": 19,
   "id": "b794bbf0",
   "metadata": {},
   "outputs": [],
   "source": [
    "kw7 = get_list_key(post_pos_dep2)\n",
    "kw8 = get_list_key(post_neg_dep2)\n",
    "words_pos_dep2 = get_words_from_kw(kw7)\n",
    "words_neg_dep2 = get_words_from_kw(kw8)"
   ]
  },
  {
   "cell_type": "markdown",
   "id": "e9f26ea9",
   "metadata": {},
   "source": [
    "### Model embedding dep"
   ]
  },
  {
   "cell_type": "code",
   "execution_count": 20,
   "id": "1f232208",
   "metadata": {},
   "outputs": [],
   "source": [
    "post_dep_emb_matrix_pos4 = get_dictionary_matrix(words_pos_dep2,2)\n",
    "post_dep_emb_matrix_neg4 = get_dictionary_matrix(words_neg_dep2,2)"
   ]
  },
  {
   "cell_type": "markdown",
   "id": "a2f1e676",
   "metadata": {},
   "source": [
    "### Model embedding pre_trained"
   ]
  },
  {
   "cell_type": "code",
   "execution_count": 21,
   "id": "6ff9887e",
   "metadata": {},
   "outputs": [],
   "source": [
    "post_dep_emb_matrix_pos5 = get_dictionary_matrix(words_pos_dep2,3)\n",
    "post_dep_emb_matrix_neg5 = get_dictionary_matrix(words_neg_dep2,3)"
   ]
  },
  {
   "cell_type": "markdown",
   "id": "68c775e3",
   "metadata": {},
   "source": [
    "### Model embedding emotions"
   ]
  },
  {
   "cell_type": "code",
   "execution_count": 22,
   "id": "7ca4f544",
   "metadata": {},
   "outputs": [],
   "source": [
    "post_dep_emb_matrix_pos6 = get_dictionary_matrix(words_pos_dep2,4)\n",
    "post_dep_emb_matrix_neg6 = get_dictionary_matrix(words_neg_dep2,4)"
   ]
  },
  {
   "cell_type": "markdown",
   "id": "d1f74867",
   "metadata": {},
   "source": [
    "# Level user"
   ]
  },
  {
   "cell_type": "markdown",
   "id": "7af59cef",
   "metadata": {},
   "source": [
    "## Anorexia"
   ]
  },
  {
   "cell_type": "markdown",
   "id": "78aae826",
   "metadata": {},
   "source": [
    " ### Uppercase"
   ]
  },
  {
   "cell_type": "code",
   "execution_count": 23,
   "id": "33c3ea45",
   "metadata": {},
   "outputs": [],
   "source": [
    "kw9 = get_list_key(user_pos_anxia1)\n",
    "kw10 = get_list_key(user_neg_anxia1)\n",
    "words_pos_anxia3 = get_words_from_kw(kw9)\n",
    "words_neg_anxia3 = get_words_from_kw(kw10)"
   ]
  },
  {
   "cell_type": "markdown",
   "id": "60d4c70d",
   "metadata": {},
   "source": [
    "### Embedding model anxia \n"
   ]
  },
  {
   "cell_type": "code",
   "execution_count": 24,
   "id": "2145f245",
   "metadata": {},
   "outputs": [],
   "source": [
    "user_anxia_emb_matrix_pos1 = get_dictionary_matrix(words_pos_anxia3,1)\n",
    "user_anxia_emb_matrix_neg1 = get_dictionary_matrix(words_neg_anxia3,1)"
   ]
  },
  {
   "cell_type": "markdown",
   "id": "8c460749",
   "metadata": {},
   "source": [
    "### Embedding pretrained"
   ]
  },
  {
   "cell_type": "code",
   "execution_count": 25,
   "id": "84a3ca88",
   "metadata": {},
   "outputs": [],
   "source": [
    "user_anxia_emb_matrix_pos2 = get_dictionary_matrix(words_pos_anxia3,3)\n",
    "user_anxia_emb_matrix_neg2 = get_dictionary_matrix(words_neg_anxia3,3)"
   ]
  },
  {
   "cell_type": "markdown",
   "id": "2f392a73",
   "metadata": {},
   "source": [
    "### Uppercase model embedding emotions"
   ]
  },
  {
   "cell_type": "code",
   "execution_count": 26,
   "id": "3658c4e7",
   "metadata": {},
   "outputs": [],
   "source": [
    "user_anxia_emb_matrix_pos3 = get_dictionary_matrix(words_pos_anxia3,4)\n",
    "user_anxia_emb_matrix_neg3 = get_dictionary_matrix(words_neg_anxia3,4)"
   ]
  },
  {
   "cell_type": "markdown",
   "id": "3a5d91ed",
   "metadata": {},
   "source": [
    "### Lowercase"
   ]
  },
  {
   "cell_type": "code",
   "execution_count": 27,
   "id": "392dcb0a",
   "metadata": {},
   "outputs": [],
   "source": [
    "kw11 = get_list_key(user_pos_anxia2)\n",
    "kw12 = get_list_key(user_neg_anxia2)"
   ]
  },
  {
   "cell_type": "code",
   "execution_count": 28,
   "id": "ad12cdd6",
   "metadata": {},
   "outputs": [],
   "source": [
    "words_pos_anxia4 = get_words_from_kw(kw11)\n",
    "words_neg_anxia4 = get_words_from_kw(kw12)"
   ]
  },
  {
   "cell_type": "markdown",
   "id": "a8924e13",
   "metadata": {},
   "source": [
    "### Model embedding anxia "
   ]
  },
  {
   "cell_type": "code",
   "execution_count": 29,
   "id": "039dd644",
   "metadata": {},
   "outputs": [],
   "source": [
    "user_anxia_emb_matrix_pos4 = get_dictionary_matrix(words_pos_anxia4,1)\n",
    "user_anxia_emb_matrix_neg4 = get_dictionary_matrix(words_neg_anxia4,1)"
   ]
  },
  {
   "cell_type": "markdown",
   "id": "e86b6c2b",
   "metadata": {},
   "source": [
    "### Lowercase model embedding pre-trained "
   ]
  },
  {
   "cell_type": "code",
   "execution_count": 30,
   "id": "9114ea24",
   "metadata": {},
   "outputs": [],
   "source": [
    "user_anxia_emb_matrix_pos5 = get_dictionary_matrix(words_pos_anxia4,3)\n",
    "user_anxia_emb_matrix_neg5 = get_dictionary_matrix(words_neg_anxia4,3)"
   ]
  },
  {
   "cell_type": "markdown",
   "id": "78fab657",
   "metadata": {},
   "source": [
    "### Lowercase model embedding emotions"
   ]
  },
  {
   "cell_type": "code",
   "execution_count": 31,
   "id": "a0745c8a",
   "metadata": {},
   "outputs": [],
   "source": [
    "user_anxia_emb_matrix_pos6 = get_dictionary_matrix(words_pos_anxia4,4)\n",
    "user_anxia_emb_matrix_neg6 = get_dictionary_matrix(words_neg_anxia4,4)"
   ]
  },
  {
   "cell_type": "markdown",
   "id": "2b63f991",
   "metadata": {},
   "source": [
    "## Depression "
   ]
  },
  {
   "cell_type": "markdown",
   "id": "35bc04d0",
   "metadata": {},
   "source": [
    "### Uppercase "
   ]
  },
  {
   "cell_type": "code",
   "execution_count": 32,
   "id": "990d4b59",
   "metadata": {},
   "outputs": [],
   "source": [
    "kw13 = get_list_key(user_pos_dep1)\n",
    "kw14 = get_list_key(user_neg_dep1)\n",
    "words_pos_dep3 = get_words_from_kw(kw13)\n",
    "words_neg_dep3 = get_words_from_kw(kw14)"
   ]
  },
  {
   "cell_type": "markdown",
   "id": "f023b9cd",
   "metadata": {},
   "source": [
    "### Model embedding dep"
   ]
  },
  {
   "cell_type": "code",
   "execution_count": 33,
   "id": "fced155d",
   "metadata": {},
   "outputs": [],
   "source": [
    "user_dep_emb_matrix_pos1 = get_dictionary_matrix(words_pos_dep3,2)\n",
    "user_dep_emb_matrix_neg1 = get_dictionary_matrix(words_neg_dep3,2)"
   ]
  },
  {
   "cell_type": "markdown",
   "id": "a71034bf",
   "metadata": {},
   "source": [
    "### Model embedding pre_trained "
   ]
  },
  {
   "cell_type": "code",
   "execution_count": 34,
   "id": "b95c6904",
   "metadata": {},
   "outputs": [],
   "source": [
    "user_dep_emb_matrix_pos2 = get_dictionary_matrix(words_pos_dep3,3)\n",
    "user_dep_emb_matrix_neg2 = get_dictionary_matrix(words_neg_dep3,3)"
   ]
  },
  {
   "cell_type": "markdown",
   "id": "8071646a",
   "metadata": {},
   "source": [
    "### Model embedding emotions "
   ]
  },
  {
   "cell_type": "code",
   "execution_count": 35,
   "id": "3a3c296a",
   "metadata": {},
   "outputs": [],
   "source": [
    "user_dep_emb_matrix_pos3 = get_dictionary_matrix(words_pos_dep3,4)\n",
    "user_dep_emb_matrix_neg3 = get_dictionary_matrix(words_neg_dep3,4)"
   ]
  },
  {
   "cell_type": "markdown",
   "id": "4fca782e",
   "metadata": {},
   "source": [
    "### Lowercase"
   ]
  },
  {
   "cell_type": "code",
   "execution_count": 36,
   "id": "59b97456",
   "metadata": {},
   "outputs": [],
   "source": [
    "kw15 = get_list_key(user_pos_dep2)\n",
    "kw16 = get_list_key(user_neg_dep2)\n",
    "words_pos_dep4 = get_words_from_kw(kw15)\n",
    "words_neg_dep4 = get_words_from_kw(kw16)"
   ]
  },
  {
   "cell_type": "markdown",
   "id": "76078934",
   "metadata": {},
   "source": [
    "### Model embedding dep"
   ]
  },
  {
   "cell_type": "code",
   "execution_count": 37,
   "id": "1a2b5968",
   "metadata": {},
   "outputs": [],
   "source": [
    "user_dep_emb_matrix_pos4 = get_dictionary_matrix(words_pos_dep4,2)\n",
    "user_dep_emb_matrix_neg4 = get_dictionary_matrix(words_neg_dep4,2)"
   ]
  },
  {
   "cell_type": "markdown",
   "id": "669471cb",
   "metadata": {},
   "source": [
    "### Model embedding pre_trained"
   ]
  },
  {
   "cell_type": "code",
   "execution_count": 38,
   "id": "abd409f5",
   "metadata": {},
   "outputs": [],
   "source": [
    "user_dep_emb_matrix_pos5 = get_dictionary_matrix(words_pos_dep4,3)\n",
    "user_dep_emb_matrix_neg5 = get_dictionary_matrix(words_neg_dep4,3)"
   ]
  },
  {
   "cell_type": "markdown",
   "id": "bd371e58",
   "metadata": {},
   "source": [
    "### Model embedding emotions"
   ]
  },
  {
   "cell_type": "code",
   "execution_count": 39,
   "id": "0eb6cd19",
   "metadata": {},
   "outputs": [],
   "source": [
    "user_dep_emb_matrix_pos6 = get_dictionary_matrix(words_pos_dep4,4)\n",
    "user_dep_emb_matrix_neg6 = get_dictionary_matrix(words_neg_dep4,4)"
   ]
  },
  {
   "cell_type": "markdown",
   "id": "c68603ef",
   "metadata": {},
   "source": [
    "# Level concatenation"
   ]
  },
  {
   "cell_type": "markdown",
   "id": "1a5cdb40",
   "metadata": {},
   "source": [
    "## Anorexia"
   ]
  },
  {
   "cell_type": "markdown",
   "id": "475b3a24",
   "metadata": {},
   "source": [
    " ### Uppercase"
   ]
  },
  {
   "cell_type": "code",
   "execution_count": 40,
   "id": "3bc36391",
   "metadata": {},
   "outputs": [],
   "source": [
    "kw17 = get_list_key(con_pos_anxia1)\n",
    "kw18 = get_list_key(con_neg_anxia1)\n",
    "words_pos_anxia5 = get_words_from_kw(kw17)\n",
    "words_neg_anxia5 = get_words_from_kw(kw18)"
   ]
  },
  {
   "cell_type": "markdown",
   "id": "35762388",
   "metadata": {},
   "source": [
    "### Embedding model anxia "
   ]
  },
  {
   "cell_type": "code",
   "execution_count": 41,
   "id": "55802125",
   "metadata": {},
   "outputs": [],
   "source": [
    "con_anxia_emb_matrix_pos1 = get_dictionary_matrix(words_pos_anxia5,1)\n",
    "con_anxia_emb_matrix_neg1 = get_dictionary_matrix(words_neg_anxia5,1)"
   ]
  },
  {
   "cell_type": "markdown",
   "id": "de04245b",
   "metadata": {},
   "source": [
    "### Embedding pretrained"
   ]
  },
  {
   "cell_type": "code",
   "execution_count": 42,
   "id": "b3070224",
   "metadata": {},
   "outputs": [],
   "source": [
    "con_anxia_emb_matrix_pos2 = get_dictionary_matrix(words_pos_anxia5,3)\n",
    "con_anxia_emb_matrix_neg2 = get_dictionary_matrix(words_neg_anxia5,3)"
   ]
  },
  {
   "cell_type": "markdown",
   "id": "16d23747",
   "metadata": {},
   "source": [
    "### Uppercase model embedding emotions"
   ]
  },
  {
   "cell_type": "code",
   "execution_count": 43,
   "id": "354aadc1",
   "metadata": {},
   "outputs": [],
   "source": [
    "con_anxia_emb_matrix_pos3 = get_dictionary_matrix(words_pos_anxia5,4)\n",
    "con_anxia_emb_matrix_neg3 = get_dictionary_matrix(words_neg_anxia5,4)"
   ]
  },
  {
   "cell_type": "markdown",
   "id": "c1d4dc70",
   "metadata": {},
   "source": [
    "### Lowercase"
   ]
  },
  {
   "cell_type": "code",
   "execution_count": 44,
   "id": "9246b3ea",
   "metadata": {},
   "outputs": [],
   "source": [
    "kw19 = get_list_key(con_pos_anxia2)\n",
    "kw20 = get_list_key(con_neg_anxia2)"
   ]
  },
  {
   "cell_type": "code",
   "execution_count": 45,
   "id": "4108f845",
   "metadata": {},
   "outputs": [],
   "source": [
    "words_pos_anxia6 = get_words_from_kw(kw19)\n",
    "words_neg_anxia6 = get_words_from_kw(kw20)"
   ]
  },
  {
   "cell_type": "markdown",
   "id": "3b2bb8b0",
   "metadata": {},
   "source": [
    "### Model embedding anxia "
   ]
  },
  {
   "cell_type": "code",
   "execution_count": 46,
   "id": "0eb1bd99",
   "metadata": {},
   "outputs": [],
   "source": [
    "con_anxia_emb_matrix_pos4 = get_dictionary_matrix(words_pos_anxia6,1)\n",
    "con_anxia_emb_matrix_neg4 = get_dictionary_matrix(words_neg_anxia6,1)"
   ]
  },
  {
   "cell_type": "markdown",
   "id": "863db0e1",
   "metadata": {},
   "source": [
    "### Lowercase model embedding pre-trained "
   ]
  },
  {
   "cell_type": "code",
   "execution_count": 47,
   "id": "333bcc81",
   "metadata": {},
   "outputs": [],
   "source": [
    "con_anxia_emb_matrix_pos5 = get_dictionary_matrix(words_pos_anxia6,3)\n",
    "con_anxia_emb_matrix_neg5 = get_dictionary_matrix(words_neg_anxia6,3)"
   ]
  },
  {
   "cell_type": "markdown",
   "id": "a8039d8b",
   "metadata": {},
   "source": [
    "### Lowercase model embedding emotions"
   ]
  },
  {
   "cell_type": "code",
   "execution_count": 48,
   "id": "53560932",
   "metadata": {},
   "outputs": [],
   "source": [
    "con_anxia_emb_matrix_pos6 = get_dictionary_matrix(words_pos_anxia6,4)\n",
    "con_anxia_emb_matrix_neg6 = get_dictionary_matrix(words_neg_anxia6,4)"
   ]
  },
  {
   "cell_type": "markdown",
   "id": "a3114ca1",
   "metadata": {},
   "source": [
    "## Depression "
   ]
  },
  {
   "cell_type": "markdown",
   "id": "6b8a0ba5",
   "metadata": {},
   "source": [
    "### Uppercase "
   ]
  },
  {
   "cell_type": "code",
   "execution_count": 49,
   "id": "e4d04c4f",
   "metadata": {},
   "outputs": [],
   "source": [
    "kw21 = get_list_key(con_pos_dep1)\n",
    "kw22 = get_list_key(con_neg_dep1)\n",
    "words_pos_dep5 = get_words_from_kw(kw21)\n",
    "words_neg_dep5 = get_words_from_kw(kw22)"
   ]
  },
  {
   "cell_type": "markdown",
   "id": "2f0da725",
   "metadata": {},
   "source": [
    "### Model embedding dep"
   ]
  },
  {
   "cell_type": "code",
   "execution_count": 50,
   "id": "f33fa1de",
   "metadata": {},
   "outputs": [],
   "source": [
    "con_dep_emb_matrix_pos1 = get_dictionary_matrix(words_pos_dep5,2)\n",
    "con_dep_emb_matrix_neg1 = get_dictionary_matrix(words_neg_dep5,2)"
   ]
  },
  {
   "cell_type": "markdown",
   "id": "f3c5fb7d",
   "metadata": {},
   "source": [
    "### Model embedding pre_trained "
   ]
  },
  {
   "cell_type": "code",
   "execution_count": 51,
   "id": "b70d1c42",
   "metadata": {},
   "outputs": [],
   "source": [
    "con_dep_emb_matrix_pos2 = get_dictionary_matrix(words_pos_dep5,3)\n",
    "con_dep_emb_matrix_neg2 = get_dictionary_matrix(words_neg_dep5,3)"
   ]
  },
  {
   "cell_type": "markdown",
   "id": "336caea1",
   "metadata": {},
   "source": [
    "### Model embedding emotions "
   ]
  },
  {
   "cell_type": "code",
   "execution_count": 52,
   "id": "13c0f2ee",
   "metadata": {},
   "outputs": [],
   "source": [
    "con_dep_emb_matrix_pos3 = get_dictionary_matrix(words_pos_dep5,4)\n",
    "con_dep_emb_matrix_neg3 = get_dictionary_matrix(words_neg_dep5,4)"
   ]
  },
  {
   "cell_type": "markdown",
   "id": "0990f7c2",
   "metadata": {},
   "source": [
    "### Lowercase"
   ]
  },
  {
   "cell_type": "code",
   "execution_count": 53,
   "id": "da8499a1",
   "metadata": {},
   "outputs": [],
   "source": [
    "kw23 = get_list_key(con_pos_dep2)\n",
    "kw24 = get_list_key(con_neg_dep2)\n",
    "words_pos_dep6 = get_words_from_kw(kw23)\n",
    "words_neg_dep6 = get_words_from_kw(kw24)"
   ]
  },
  {
   "cell_type": "markdown",
   "id": "aa85f4da",
   "metadata": {},
   "source": [
    "### Model embedding dep"
   ]
  },
  {
   "cell_type": "code",
   "execution_count": 54,
   "id": "a8edf299",
   "metadata": {},
   "outputs": [],
   "source": [
    "con_dep_emb_matrix_pos4 = get_dictionary_matrix(words_pos_dep6,2)\n",
    "con_dep_emb_matrix_neg4 = get_dictionary_matrix(words_neg_dep6,2)"
   ]
  },
  {
   "cell_type": "markdown",
   "id": "202c1b2b",
   "metadata": {},
   "source": [
    "### Model embedding pre_trained"
   ]
  },
  {
   "cell_type": "code",
   "execution_count": 55,
   "id": "fc356d2f",
   "metadata": {},
   "outputs": [],
   "source": [
    "con_dep_emb_matrix_pos5 = get_dictionary_matrix(words_pos_dep6,3)\n",
    "con_dep_emb_matrix_neg5 = get_dictionary_matrix(words_neg_dep6,3)"
   ]
  },
  {
   "cell_type": "markdown",
   "id": "5b01d3a7",
   "metadata": {},
   "source": [
    "### Model embedding emotions"
   ]
  },
  {
   "cell_type": "code",
   "execution_count": 56,
   "id": "e55caae4",
   "metadata": {},
   "outputs": [],
   "source": [
    "con_dep_emb_matrix_pos6 = get_dictionary_matrix(words_pos_dep6,4)\n",
    "con_dep_emb_matrix_neg6 = get_dictionary_matrix(words_neg_dep6,4)"
   ]
  },
  {
   "cell_type": "markdown",
   "id": "9870c307",
   "metadata": {},
   "source": [
    "# Make clustering"
   ]
  },
  {
   "cell_type": "code",
   "execution_count": 78,
   "id": "b370284d",
   "metadata": {},
   "outputs": [],
   "source": [
    "x,y = clustering_features(post_anxia_emb_matrix_pos1, 5)"
   ]
  },
  {
   "cell_type": "code",
   "execution_count": 133,
   "id": "3ea4b994",
   "metadata": {},
   "outputs": [],
   "source": [
    "z = sklearn.metrics.pairwise.cosine_similarity(post_anxia_emb_matrix_pos1, y)"
   ]
  },
  {
   "cell_type": "code",
   "execution_count": 161,
   "id": "8ce00017",
   "metadata": {},
   "outputs": [
    {
     "data": {
      "text/plain": [
       "(17558, 5)"
      ]
     },
     "execution_count": 161,
     "metadata": {},
     "output_type": "execute_result"
    }
   ],
   "source": [
    "z.shape"
   ]
  },
  {
   "cell_type": "code",
   "execution_count": 137,
   "id": "34419c93",
   "metadata": {},
   "outputs": [
    {
     "data": {
      "text/plain": [
       "array([0.98495205, 0.99322445, 0.97469647, 0.95519785, 0.98010243])"
      ]
     },
     "execution_count": 137,
     "metadata": {},
     "output_type": "execute_result"
    }
   ],
   "source": [
    " np.amax(z, axis = 0)"
   ]
  },
  {
   "cell_type": "code",
   "execution_count": 157,
   "id": "2540c19e",
   "metadata": {},
   "outputs": [],
   "source": [
    "index, clusters = np.where( z ==  np.amax(z, axis = 0))"
   ]
  },
  {
   "cell_type": "code",
   "execution_count": 162,
   "id": "76b75d81",
   "metadata": {},
   "outputs": [
    {
     "data": {
      "text/plain": [
       "[(6014, 0), (7853, 3), (15232, 2), (15242, 1), (16832, 4)]"
      ]
     },
     "execution_count": 162,
     "metadata": {},
     "output_type": "execute_result"
    }
   ],
   "source": [
    "list(zip(index,clusters))"
   ]
  },
  {
   "cell_type": "code",
   "execution_count": 160,
   "id": "ddf0e6db",
   "metadata": {},
   "outputs": [
    {
     "data": {
      "text/plain": [
       "array([0, 3, 2, 1, 4])"
      ]
     },
     "execution_count": 160,
     "metadata": {},
     "output_type": "execute_result"
    }
   ],
   "source": [
    "clusters"
   ]
  },
  {
   "cell_type": "code",
   "execution_count": 151,
   "id": "7082b2d0",
   "metadata": {},
   "outputs": [
    {
     "data": {
      "text/plain": [
       "'Cassiun'"
      ]
     },
     "execution_count": 151,
     "metadata": {},
     "output_type": "execute_result"
    }
   ],
   "source": [
    "kw1[16832][0]"
   ]
  },
  {
   "cell_type": "code",
   "execution_count": 152,
   "id": "7ef828b9",
   "metadata": {},
   "outputs": [
    {
     "data": {
      "text/plain": [
       "'Cassiun'"
      ]
     },
     "execution_count": 152,
     "metadata": {},
     "output_type": "execute_result"
    }
   ],
   "source": [
    "words_pos_anxia1[16832]"
   ]
  },
  {
   "cell_type": "code",
   "execution_count": 57,
   "id": "4718824c",
   "metadata": {},
   "outputs": [],
   "source": [
    "def get_represententing_words(word_embedding_matrix, num_clusters, dictionary):\n",
    "    words_centroid = dict()\n",
    "    array_clusters, centroids = clustering_features(word_embedding_matrix, num_clusters)\n",
    "    #calculate the cosine similarity between the centroids and the embedings of the words\n",
    "    similarity_matrix = sklearn.metrics.pairwise.cosine_similarity(word_embedding_matrix, centroids)\n",
    "    #array with the maximum by column\n",
    "    max_similarity = np.amax(similarity_matrix, axis = 0)\n",
    "    #find the index, n_lcuster is the number of cluster corresponding to the maximum in that cluster \n",
    "    index, n_cluster = np.where( similarity_matrix == max_similarity)\n",
    "    \n",
    "    for i in range(index.shape[0]):\n",
    "        words_centroid[n_cluster[i]] = dictionary[index[i]]\n",
    "    \n",
    "    return words_centroid"
   ]
  },
  {
   "cell_type": "markdown",
   "id": "1cb3cd5c",
   "metadata": {},
   "source": [
    "# Get clusters "
   ]
  },
  {
   "cell_type": "markdown",
   "id": "de8f0e5a",
   "metadata": {},
   "source": [
    "## Level post : 5 cluster "
   ]
  },
  {
   "cell_type": "code",
   "execution_count": 58,
   "id": "53c7dae6",
   "metadata": {},
   "outputs": [],
   "source": [
    "cluster_path_5 = '/home/est_posgrado_maria.garcia/Tesis/Proyecto_tecnologico/New/Fuzzy_range/5-Cluster'"
   ]
  },
  {
   "cell_type": "code",
   "execution_count": 173,
   "id": "c6bfd497",
   "metadata": {},
   "outputs": [],
   "source": [
    "\n",
    "post_anxia1 = get_represententing_words(post_anxia_emb_matrix_pos1, 5, words_pos_anxia1)\n"
   ]
  },
  {
   "cell_type": "code",
   "execution_count": 174,
   "id": "289f5c5d",
   "metadata": {},
   "outputs": [],
   "source": [
    "with open(cluster_path_5+'/post_anxia_uppercase', \"wb\") as fp:\n",
    "    pickle.dump(post_anxia1, fp)\n",
    "    fp.close()"
   ]
  },
  {
   "cell_type": "code",
   "execution_count": 178,
   "id": "84854e3e",
   "metadata": {},
   "outputs": [],
   "source": [
    "post_anxia2 = get_represententing_words(post_anxia_emb_matrix_pos2, 5, words_pos_anxia1)\n",
    "with open(cluster_path_5+'/post_pre_uppercase', \"wb\") as fp:\n",
    "    pickle.dump(post_anxia2, fp)\n",
    "    fp.close()"
   ]
  },
  {
   "cell_type": "code",
   "execution_count": 59,
   "id": "0f25efce",
   "metadata": {},
   "outputs": [],
   "source": [
    "post_anxia3 = get_represententing_words(post_anxia_emb_matrix_pos3, 5, words_pos_anxia1)\n",
    "with open(cluster_path_5+'/post_emo_uppercase', \"wb\") as fp:\n",
    "    pickle.dump(post_anxia3, fp)\n",
    "    fp.close()"
   ]
  },
  {
   "cell_type": "code",
   "execution_count": 60,
   "id": "4bbadc61",
   "metadata": {},
   "outputs": [],
   "source": [
    "post_anxia4 = get_represententing_words(post_anxia_emb_matrix_pos4, 5, words_pos_anxia2)\n",
    "with open(cluster_path_5+'/post_anxia_lowercase', \"wb\") as fp:\n",
    "    pickle.dump(post_anxia4, fp)\n",
    "    fp.close()"
   ]
  },
  {
   "cell_type": "code",
   "execution_count": 61,
   "id": "ca972c3d",
   "metadata": {},
   "outputs": [],
   "source": [
    "post_anxia5 = get_represententing_words(post_anxia_emb_matrix_pos5, 5, words_pos_anxia2)\n",
    "with open(cluster_path_5+'/post_pre_lowercase', \"wb\") as fp:\n",
    "    pickle.dump(post_anxia5, fp)\n",
    "    fp.close()"
   ]
  },
  {
   "cell_type": "code",
   "execution_count": 62,
   "id": "48f8e008",
   "metadata": {},
   "outputs": [],
   "source": [
    "post_anxia6 = get_represententing_words(post_anxia_emb_matrix_pos6, 5, words_pos_anxia2)\n",
    "with open(cluster_path_5+'/post_emo_lowercase', \"wb\") as fp:\n",
    "    pickle.dump(post_anxia6, fp)\n",
    "    fp.close()"
   ]
  },
  {
   "cell_type": "code",
   "execution_count": 64,
   "id": "46a5dd53",
   "metadata": {},
   "outputs": [],
   "source": [
    "post_neg_anxia1 = get_represententing_words(post_anxia_emb_matrix_neg1, 5, words_neg_anxia1)\n",
    "with open(cluster_path_5+'/post_neg_anxia_uppercase', \"wb\") as fp:\n",
    "    pickle.dump(post_neg_anxia1, fp)\n",
    "    fp.close()\n",
    "\n",
    "post_anxia2 = get_represententing_words(post_anxia_emb_matrix_neg2, 5, words_neg_anxia1)\n",
    "with open(cluster_path_5+'/post_neg_pre_uppercase', \"wb\") as fp:\n",
    "    pickle.dump(post_anxia2, fp)\n",
    "    fp.close()\n",
    "\n",
    "post_anxia3 = get_represententing_words(post_anxia_emb_matrix_neg3, 5, words_neg_anxia1)\n",
    "with open(cluster_path_5+'/post_neg_emo_uppercase', \"wb\") as fp:\n",
    "    pickle.dump(post_anxia3, fp)\n",
    "    fp.close()\n",
    "\n",
    "post_anxia4 = get_represententing_words(post_anxia_emb_matrix_neg4, 5, words_neg_anxia2)\n",
    "with open(cluster_path_5+'/post_neg_anxia_lowercase', \"wb\") as fp:\n",
    "    pickle.dump(post_anxia4, fp)\n",
    "    fp.close()\n",
    "\n",
    "post_anxia5 = get_represententing_words(post_anxia_emb_matrix_neg5, 5, words_neg_anxia2)\n",
    "with open(cluster_path_5+'/post_neg_pre_lowercase', \"wb\") as fp:\n",
    "    pickle.dump(post_anxia5, fp)\n",
    "    fp.close()\n",
    "\n",
    "post_anxia6 = get_represententing_words(post_anxia_emb_matrix_pos6, 5, words_neg_anxia2)\n",
    "with open(cluster_path_5+'/post_neg_emo_lowercase', \"wb\") as fp:\n",
    "    pickle.dump(post_anxia6, fp)\n",
    "    fp.close()"
   ]
  },
  {
   "cell_type": "code",
   "execution_count": 65,
   "id": "4b88a152",
   "metadata": {},
   "outputs": [],
   "source": [
    "post_dep1 = get_represententing_words(post_dep_emb_matrix_pos1, 5, words_pos_dep1)\n",
    "with open(cluster_path_5+'/post_dep_uppercase', \"wb\") as fp:\n",
    "    pickle.dump(post_dep1, fp)\n",
    "    fp.close()\n",
    "\n",
    "post_dep2 = get_represententing_words(post_dep_emb_matrix_pos2, 5, words_pos_dep1)\n",
    "with open(cluster_path_5+'/post_dep_pre_uppercase', \"wb\") as fp:\n",
    "    pickle.dump(post_dep2, fp)\n",
    "    fp.close()\n",
    "\n",
    "post_dep3 = get_represententing_words(post_dep_emb_matrix_pos3, 5, words_pos_dep1)\n",
    "with open(cluster_path_5+'/post_dep_emo_uppercase', \"wb\") as fp:\n",
    "    pickle.dump(post_dep3, fp)\n",
    "    fp.close()\n",
    "\n",
    "post_dep4 = get_represententing_words(post_dep_emb_matrix_pos4, 5, words_pos_dep2)\n",
    "with open(cluster_path_5+'/post_dep_lowercase', \"wb\") as fp:\n",
    "    pickle.dump(post_dep4, fp)\n",
    "    fp.close()\n",
    "\n",
    "post_dep5 = get_represententing_words(post_dep_emb_matrix_pos5, 5, words_pos_dep2)\n",
    "with open(cluster_path_5+'/post_dep_pre_lowercase', \"wb\") as fp:\n",
    "    pickle.dump(post_dep5, fp)\n",
    "    fp.close()\n",
    "\n",
    "post_dep6 = get_represententing_words(post_dep_emb_matrix_pos6, 5, words_pos_dep2)\n",
    "with open(cluster_path_5+'/post_dep_emo_lowercase', \"wb\") as fp:\n",
    "    pickle.dump(post_dep6, fp)\n",
    "    fp.close()"
   ]
  },
  {
   "cell_type": "code",
   "execution_count": null,
   "id": "877fb879",
   "metadata": {},
   "outputs": [],
   "source": [
    "post_dep1 = get_represententing_words(post_dep_emb_matrix_neg1, 5, words_neg_dep1)\n",
    "with open(cluster_path_5+'/post_neg_dep_uppercase', \"wb\") as fp:\n",
    "    pickle.dump(post_dep1, fp)\n",
    "    fp.close()\n",
    "\n",
    "post_dep2 = get_represententing_words(post_dep_emb_matrix_neg2, 5, words_neg_dep1)\n",
    "with open(cluster_path_5+'/post_neg_dep_pre_uppercase', \"wb\") as fp:\n",
    "    pickle.dump(post_dep2, fp)\n",
    "    fp.close()\n",
    "\n",
    "post_dep3 = get_represententing_words(post_dep_emb_matrix_neg3, 5, words_neg_dep1)\n",
    "with open(cluster_path_5+'/post_neg_emo_uppercase', \"wb\") as fp:\n",
    "    pickle.dump(post_dep3, fp)\n",
    "    fp.close()\n",
    "\n",
    "post_dep4 = get_represententing_words(post_dep_emb_matrix_neg4, 5, words_neg_dep2)\n",
    "with open(cluster_path_5+'/post_neg_dep_lowercase', \"wb\") as fp:\n",
    "    pickle.dump(post_dep4, fp)\n",
    "    fp.close()\n",
    "\n",
    "post_dep5 = get_represententing_words(post_dep_emb_matrix_neg5, 5, words_neg_dep2)\n",
    "with open(cluster_path_5+'/post_neg_dep_pre_lowercase', \"wb\") as fp:\n",
    "    pickle.dump(post_dep5, fp)\n",
    "    fp.close()\n",
    "\n",
    "post_dep6 = get_represententing_words(post_dep_emb_matrix_neg6, 5, words_neg_dep2)\n",
    "with open(cluster_path_5+'/post_neg_dep_emo_lowercase', \"wb\") as fp:\n",
    "    pickle.dump(post_dep6, fp)\n",
    "    fp.close()"
   ]
  },
  {
   "cell_type": "markdown",
   "id": "c46b11d8",
   "metadata": {},
   "source": [
    "# Level User"
   ]
  },
  {
   "cell_type": "code",
   "execution_count": null,
   "id": "275432c4",
   "metadata": {},
   "outputs": [],
   "source": [
    "\n",
    "user_anxia1 = get_represententing_words(user_anxia_emb_matrix_pos1, 5, words_pos_anxia3)\n",
    "\n",
    "with open(cluster_path_5+'/user_anxia_uppercase', \"wb\") as fp:\n",
    "    pickle.dump(user_anxia1, fp)\n",
    "    fp.close()\n",
    "\n",
    "user_anxia2 = get_represententing_words(user_anxia_emb_matrix_pos2, 5, words_pos_anxia3)\n",
    "with open(cluster_path_5+'/user_pre_uppercase', \"wb\") as fp:\n",
    "    pickle.dump(user_anxia2, fp)\n",
    "    fp.close()\n",
    "\n",
    "user_anxia3 = get_represententing_words(user_anxia_emb_matrix_pos3, 5, words_pos_anxia3)\n",
    "with open(cluster_path_5+'/user_emo_uppercase', \"wb\") as fp:\n",
    "    pickle.dump(user_anxia3, fp)\n",
    "    fp.close()\n",
    "\n",
    "user_anxia4 = get_represententing_words(user_anxia_emb_matrix_pos4, 5, words_pos_anxia4)\n",
    "with open(cluster_path_5+'/user_anxia_lowercase', \"wb\") as fp:\n",
    "    pickle.dump(user_anxia4, fp)\n",
    "    fp.close()\n",
    "\n",
    "user_anxia5 = get_represententing_words(user_anxia_emb_matrix_pos5, 5, words_pos_anxia4)\n",
    "with open(cluster_path_5+'/user_pre_lowercase', \"wb\") as fp:\n",
    "    pickle.dump(user_anxia5, fp)\n",
    "    fp.close()\n",
    "\n",
    "user_anxia6 = get_represententing_words(user_anxia_emb_matrix_pos6, 5, words_pos_anxia4)\n",
    "with open(cluster_path_5+'/user_emo_lowercase', \"wb\") as fp:\n",
    "    pickle.dump(user_anxia6, fp)\n",
    "    fp.close()"
   ]
  },
  {
   "cell_type": "code",
   "execution_count": null,
   "id": "642b55dd",
   "metadata": {},
   "outputs": [],
   "source": [
    "\n",
    "user_anxia1 = get_represententing_words(user_anxia_emb_matrix_neg1, 5, words_neg_anxia3)\n",
    "\n",
    "with open(cluster_path_5+'/user_neg_anxia_uppercase', \"wb\") as fp:\n",
    "    pickle.dump(user_anxia1, fp)\n",
    "    fp.close()\n",
    "\n",
    "user_anxia2 = get_represententing_words(user_anxia_emb_matrix_neg2, 5, words_neg_anxia3)\n",
    "with open(cluster_path_5+'/user_neg_pre_uppercase', \"wb\") as fp:\n",
    "    pickle.dump(user_anxia2, fp)\n",
    "    fp.close()\n",
    "\n",
    "user_anxia3 = get_represententing_words(user_anxia_emb_matrix_neg3, 5, words_neg_anxia3)\n",
    "with open(cluster_path_5+'/user_neg_emo_uppercase', \"wb\") as fp:\n",
    "    pickle.dump(user_anxia3, fp)\n",
    "    fp.close()\n",
    "\n",
    "user_anxia4 = get_represententing_words(user_anxia_emb_matrix_neg4, 5, words_neg_anxia4)\n",
    "with open(cluster_path_5+'/user_neg_anxia_lowercase', \"wb\") as fp:\n",
    "    pickle.dump(user_anxia4, fp)\n",
    "    fp.close()\n",
    "\n",
    "user_anxia5 = get_represententing_words(user_anxia_emb_matrix_neg5, 5, words_neg_anxia4)\n",
    "with open(cluster_path_5+'/user_neg_pre_lowercase', \"wb\") as fp:\n",
    "    pickle.dump(user_anxia5, fp)\n",
    "    fp.close()\n",
    "\n",
    "user_anxia6 = get_represententing_words(user_anxia_emb_matrix_neg6, 5, words_neg_anxia4)\n",
    "with open(cluster_path_5+'/user_neg_emo_lowercase', \"wb\") as fp:\n",
    "    pickle.dump(user_anxia6, fp)\n",
    "    fp.close()"
   ]
  },
  {
   "cell_type": "code",
   "execution_count": null,
   "id": "376aedcf",
   "metadata": {},
   "outputs": [],
   "source": [
    "user_dep1 = get_represententing_words(user_dep_emb_matrix_pos1, 5, words_pos_dep3)\n",
    "with open(cluster_path_5+'/user_dep_uppercase', \"wb\") as fp:\n",
    "    pickle.dump(user_dep1, fp)\n",
    "    fp.close()\n",
    "\n",
    "user_dep2 = get_represententing_words(user_dep_emb_matrix_pos2, 5, words_pos_dep3)\n",
    "with open(cluster_path_5+'/user_dep_pre_uppercase', \"wb\") as fp:\n",
    "    pickle.dump(user_dep2, fp)\n",
    "    fp.close()\n",
    "\n",
    "user_dep3 = get_represententing_words(user_dep_emb_matrix_pos3, 5, words_pos_dep3)\n",
    "with open(cluster_path_5+'/user_dep_emo_uppercase', \"wb\") as fp:\n",
    "    pickle.dump(user_dep3, fp)\n",
    "    fp.close()\n",
    "\n",
    "user_dep4 = get_represententing_words(user_dep_emb_matrix_pos4, 5, words_pos_dep4)\n",
    "with open(cluster_path_5+'/user_dep_lowercase', \"wb\") as fp:\n",
    "    pickle.dump(user_dep4, fp)\n",
    "    fp.close()\n",
    "\n",
    "user_dep5 = get_represententing_words(user_dep_emb_matrix_pos5, 5, words_pos_dep4)\n",
    "with open(cluster_path_5+'/user_dep_pre_lowercase', \"wb\") as fp:\n",
    "    pickle.dump(user_dep5, fp)\n",
    "    fp.close()\n",
    "\n",
    "user_dep6 = get_represententing_words(user_dep_emb_matrix_pos6, 5, words_pos_dep4)\n",
    "with open(cluster_path_5+'/user_dep_emo_lowercase', \"wb\") as fp:\n",
    "    pickle.dump(user_dep6, fp)\n",
    "    fp.close()"
   ]
  },
  {
   "cell_type": "code",
   "execution_count": null,
   "id": "b7d7c4b9",
   "metadata": {},
   "outputs": [],
   "source": [
    "user_dep1 = get_represententing_words(user_dep_emb_matrix_neg1, 5, words_neg_dep3)\n",
    "with open(cluster_path_5+'/user_neg_dep_uppercase', \"wb\") as fp:\n",
    "    pickle.dump(user_dep1, fp)\n",
    "    fp.close()\n",
    "\n",
    "user_dep2 = get_represententing_words(user_dep_emb_matrix_neg2, 5, words_neg_dep3)\n",
    "with open(cluster_path_5+'/user_neg_dep_pre_uppercase', \"wb\") as fp:\n",
    "    pickle.dump(user_dep2, fp)\n",
    "    fp.close()\n",
    "\n",
    "user_dep3 = get_represententing_words(user_dep_emb_matrix_neg3, 5, words_neg_dep3)\n",
    "with open(cluster_path_5+'/user_neg_dep_emo_uppercase', \"wb\") as fp:\n",
    "    pickle.dump(user_dep3, fp)\n",
    "    fp.close()\n",
    "\n",
    "user_dep4 = get_represententing_words(user_dep_emb_matrix_neg4, 5, words_neg_dep4)\n",
    "with open(cluster_path_5+'/user_neg_dep_lowercase', \"wb\") as fp:\n",
    "    pickle.dump(user_dep4, fp)\n",
    "    fp.close()\n",
    "\n",
    "user_dep5 = get_represententing_words(user_dep_emb_matrix_neg5, 5, words_neg_dep4)\n",
    "with open(cluster_path_5+'/user_neg_dep_pre_lowercase', \"wb\") as fp:\n",
    "    pickle.dump(user_dep5, fp)\n",
    "    fp.close()\n",
    "\n",
    "user_dep6 = get_represententing_words(user_dep_emb_matrix_neg6, 5, words_neg_dep4)\n",
    "with open(cluster_path_5+'/user_neg_dep_emo_lowercase', \"wb\") as fp:\n",
    "    pickle.dump(user_dep6, fp)\n",
    "    fp.close()"
   ]
  },
  {
   "cell_type": "markdown",
   "id": "87c40f46",
   "metadata": {},
   "source": [
    "## Level concatenation"
   ]
  },
  {
   "cell_type": "code",
   "execution_count": null,
   "id": "7715ace1",
   "metadata": {},
   "outputs": [],
   "source": [
    "con_anxia1 = get_represententing_words(con_anxia_emb_matrix_pos1, 5, words_pos_anxia5)\n",
    "\n",
    "with open(cluster_path_5+'/con_anxia_uppercase', \"wb\") as fp:\n",
    "    pickle.dump(con_anxia1, fp)\n",
    "    fp.close()\n",
    "\n",
    "con_anxia2 = get_represententing_words(con_anxia_emb_matrix_pos2, 5, words_pos_anxia5)\n",
    "with open(cluster_path_5+'/con_pre_uppercase', \"wb\") as fp:\n",
    "    pickle.dump(con_anxia2, fp)\n",
    "    fp.close()\n",
    "\n",
    "con_anxia3 = get_represententing_words(con_anxia_emb_matrix_pos3, 5, words_pos_anxia5)\n",
    "with open(cluster_path_5+'/con_emo_uppercase', \"wb\") as fp:\n",
    "    pickle.dump(con_anxia3, fp)\n",
    "    fp.close()\n",
    "\n",
    "con_anxia4 = get_represententing_words(con_anxia_emb_matrix_pos4, 5, words_pos_anxia6)\n",
    "with open(cluster_path_5+'/con_anxia_lowercase', \"wb\") as fp:\n",
    "    pickle.dump(con_anxia4, fp)\n",
    "    fp.close()\n",
    "\n",
    "con_anxia5 = get_represententing_words(con_anxia_emb_matrix_pos5, 5, words_pos_anxia6)\n",
    "with open(cluster_path_5+'/con_pre_lowercase', \"wb\") as fp:\n",
    "    pickle.dump(user_anxia5, fp)\n",
    "    fp.close()\n",
    "\n",
    "con_anxia6 = get_represententing_words(con_anxia_emb_matrix_pos6, 5, words_pos_anxia6)\n",
    "with open(cluster_path_5+'/con_emo_lowercase', \"wb\") as fp:\n",
    "    pickle.dump(con_anxia6, fp)\n",
    "    fp.close()"
   ]
  },
  {
   "cell_type": "code",
   "execution_count": null,
   "id": "574377c3",
   "metadata": {},
   "outputs": [],
   "source": [
    "con_anxia1 = get_represententing_words(con_anxia_emb_matrix_neg1, 5, words_neg_anxia5)\n",
    "\n",
    "with open(cluster_path_5+'/con_neg_anxia_uppercase', \"wb\") as fp:\n",
    "    pickle.dump(con_anxia1, fp)\n",
    "    fp.close()\n",
    "\n",
    "con_anxia2 = get_represententing_words(con_anxia_emb_matrix_neg2, 5, words_neg_anxia5)\n",
    "with open(cluster_path_5+'/con_neg_pre_uppercase', \"wb\") as fp:\n",
    "    pickle.dump(con_anxia2, fp)\n",
    "    fp.close()\n",
    "\n",
    "con_anxia3 = get_represententing_words(con_anxia_emb_matrix_neg3, 5, words_neg_anxia5)\n",
    "with open(cluster_path_5+'/con_neg_emo_uppercase', \"wb\") as fp:\n",
    "    pickle.dump(con_anxia3, fp)\n",
    "    fp.close()\n",
    "\n",
    "con_anxia4 = get_represententing_words(con_anxia_emb_matrix_neg4, 5, words_neg_anxia6)\n",
    "with open(cluster_path_5+'/con_neg_anxia_lowercase', \"wb\") as fp:\n",
    "    pickle.dump(con_anxia4, fp)\n",
    "    fp.close()\n",
    "\n",
    "con_anxia5 = get_represententing_words(con_anxia_emb_matrix_neg5, 5, words_neg_anxia6)\n",
    "with open(cluster_path_5+'/con_neg_pre_lowercase', \"wb\") as fp:\n",
    "    pickle.dump(con_anxia5, fp)\n",
    "    fp.close()\n",
    "\n",
    "con_anxia6 = get_represententing_words(con_anxia_emb_matrix_neg6, 5, words_neg_anxia6)\n",
    "with open(cluster_path_5+'/con_neg_emo_lowercase', \"wb\") as fp:\n",
    "    pickle.dump(con_anxia6, fp)\n",
    "    fp.close()"
   ]
  },
  {
   "cell_type": "code",
   "execution_count": null,
   "id": "6db16d93",
   "metadata": {},
   "outputs": [],
   "source": [
    "con_dep1 = get_represententing_words(con_dep_emb_matrix_pos1, 5, words_pos_dep5)\n",
    "with open(cluster_path_5+'/con_dep_uppercase', \"wb\") as fp:\n",
    "    pickle.dump(con_dep1, fp)\n",
    "    fp.close()\n",
    "\n",
    "con_dep2 = get_represententing_words(con_dep_emb_matrix_pos2, 5, words_pos_dep5)\n",
    "with open(cluster_path_5+'/con_dep_pre_uppercase', \"wb\") as fp:\n",
    "    pickle.dump(con_dep2, fp)\n",
    "    fp.close()\n",
    "\n",
    "con_dep3 = get_represententing_words(con_dep_emb_matrix_pos3, 5, words_pos_dep5)\n",
    "with open(cluster_path_5+'/con_dep_emo_uppercase', \"wb\") as fp:\n",
    "    pickle.dump(con_dep3, fp)\n",
    "    fp.close()\n",
    "\n",
    "con_dep4 = get_represententing_words(con_dep_emb_matrix_pos4, 5, words_pos_dep6)\n",
    "with open(cluster_path_5+'/con_dep_lowercase', \"wb\") as fp:\n",
    "    pickle.dump(con_dep4, fp)\n",
    "    fp.close()\n",
    "    \n",
    "con_dep5 = get_represententing_words(con_dep_emb_matrix_pos5, 5, words_pos_dep6)\n",
    "with open(cluster_path_5+'/con_dep_pre_lowercase', \"wb\") as fp:\n",
    "    pickle.dump(con_dep5, fp)\n",
    "    fp.close()\n",
    "\n",
    "con_dep6 = get_represententing_words(con_dep_emb_matrix_pos6, 5, words_pos_dep6)\n",
    "with open(cluster_path_5+'/con_dep_emo_lowercase', \"wb\") as fp:\n",
    "    pickle.dump(con_dep6, fp)\n",
    "    fp.close()"
   ]
  },
  {
   "cell_type": "code",
   "execution_count": null,
   "id": "15487e6e",
   "metadata": {},
   "outputs": [],
   "source": [
    "con_dep1 = get_represententing_words(con_dep_emb_matrix_neg1, 5, words_neg_dep5)\n",
    "with open(cluster_path_5+'/con_neg_dep_uppercase', \"wb\") as fp:\n",
    "    pickle.dump(con_dep1, fp)\n",
    "    fp.close()\n",
    "\n",
    "con_dep2 = get_represententing_words(con_dep_emb_matrix_neg2, 5, words_neg_dep5)\n",
    "with open(cluster_path_5+'/con_neg_dep_pre_uppercase', \"wb\") as fp:\n",
    "    pickle.dump(con_dep2, fp)\n",
    "    fp.close()\n",
    "\n",
    "con_dep3 = get_represententing_words(con_dep_emb_matrix_neg3, 5, words_neg_dep5)\n",
    "with open(cluster_path_5+'/con_neg_dep_emo_uppercase', \"wb\") as fp:\n",
    "    pickle.dump(con_dep3, fp)\n",
    "    fp.close()\n",
    "\n",
    "con_dep4 = get_represententing_words(con_dep_emb_matrix_neg4, 5, words_neg_dep6)\n",
    "with open(cluster_path_5+'/con_neg_dep_lowercase', \"wb\") as fp:\n",
    "    pickle.dump(con_dep4, fp)\n",
    "    fp.close()\n",
    "\n",
    "con_dep5 = get_represententing_words(user_dep_emb_matrix_neg5, 5, words_neg_dep6)\n",
    "with open(cluster_path_5+'/con_neg_dep_pre_lowercase', \"wb\") as fp:\n",
    "    pickle.dump(con_dep5, fp)\n",
    "    fp.close()\n",
    "\n",
    "con_dep6 = get_represententing_words(con_dep_emb_matrix_neg6, 5, words_neg_dep6)\n",
    "with open(cluster_path_5+'/con_neg_dep_emo_lowercase', \"wb\") as fp:\n",
    "    pickle.dump(con_dep6, fp)\n",
    "    fp.close()"
   ]
  },
  {
   "cell_type": "code",
   "execution_count": null,
   "id": "e1c29403",
   "metadata": {},
   "outputs": [],
   "source": []
  }
 ],
 "metadata": {
  "kernelspec": {
   "display_name": "Python 3 (ipykernel)",
   "language": "python",
   "name": "python3"
  },
  "language_info": {
   "codemirror_mode": {
    "name": "ipython",
    "version": 3
   },
   "file_extension": ".py",
   "mimetype": "text/x-python",
   "name": "python",
   "nbconvert_exporter": "python",
   "pygments_lexer": "ipython3",
   "version": "3.10.4"
  }
 },
 "nbformat": 4,
 "nbformat_minor": 5
}
