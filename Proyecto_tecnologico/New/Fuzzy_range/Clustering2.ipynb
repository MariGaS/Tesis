{
 "cells": [
  {
   "cell_type": "code",
   "execution_count": 1,
   "metadata": {},
   "outputs": [],
   "source": [
    "import numpy as np \n",
    "from nltk.cluster import KMeansClusterer\n",
    "import nltk\n",
    "from sklearn.metrics import pairwise_distances"
   ]
  },
  {
   "cell_type": "code",
   "execution_count": 2,
   "metadata": {},
   "outputs": [
    {
     "ename": "ModuleNotFoundError",
     "evalue": "No module named 'gensim'",
     "output_type": "error",
     "traceback": [
      "\u001b[0;31m---------------------------------------------------------------------------\u001b[0m",
      "\u001b[0;31mModuleNotFoundError\u001b[0m                       Traceback (most recent call last)",
      "\u001b[0;32m<ipython-input-2-4e6fe9271ab2>\u001b[0m in \u001b[0;36m<module>\u001b[0;34m\u001b[0m\n\u001b[0;32m----> 1\u001b[0;31m \u001b[0;32mfrom\u001b[0m \u001b[0mvec_function\u001b[0m \u001b[0;32mimport\u001b[0m \u001b[0;34m*\u001b[0m\u001b[0;34m\u001b[0m\u001b[0;34m\u001b[0m\u001b[0m\n\u001b[0m",
      "\u001b[0;32m~/Tesis/Proyecto_tecnologico/New/Fuzzy_range/vec_function.py\u001b[0m in \u001b[0;36m<module>\u001b[0;34m\u001b[0m\n\u001b[1;32m      1\u001b[0m \u001b[0;32mfrom\u001b[0m \u001b[0mgrp\u001b[0m \u001b[0;32mimport\u001b[0m \u001b[0mstruct_group\u001b[0m\u001b[0;34m\u001b[0m\u001b[0;34m\u001b[0m\u001b[0m\n\u001b[1;32m      2\u001b[0m \u001b[0;32mfrom\u001b[0m \u001b[0mturtle\u001b[0m \u001b[0;32mimport\u001b[0m \u001b[0mpos\u001b[0m\u001b[0;34m\u001b[0m\u001b[0;34m\u001b[0m\u001b[0m\n\u001b[0;32m----> 3\u001b[0;31m \u001b[0;32mfrom\u001b[0m \u001b[0mgensim\u001b[0m\u001b[0;34m.\u001b[0m\u001b[0mparsing\u001b[0m\u001b[0;34m.\u001b[0m\u001b[0mpreprocessing\u001b[0m \u001b[0;32mimport\u001b[0m \u001b[0mremove_stopwords\u001b[0m\u001b[0;34m\u001b[0m\u001b[0;34m\u001b[0m\u001b[0m\n\u001b[0m\u001b[1;32m      4\u001b[0m \u001b[0;32mfrom\u001b[0m \u001b[0mnltk\u001b[0m \u001b[0;32mimport\u001b[0m \u001b[0mTweetTokenizer\u001b[0m\u001b[0;34m\u001b[0m\u001b[0;34m\u001b[0m\u001b[0m\n\u001b[1;32m      5\u001b[0m \u001b[0;32mimport\u001b[0m \u001b[0mnltk\u001b[0m\u001b[0;34m\u001b[0m\u001b[0;34m\u001b[0m\u001b[0m\n",
      "\u001b[0;31mModuleNotFoundError\u001b[0m: No module named 'gensim'"
     ]
    }
   ],
   "source": [
    "from vec_function import *"
   ]
  },
  {
   "cell_type": "markdown",
   "metadata": {},
   "source": [
    "# Dictionaries "
   ]
  },
  {
   "cell_type": "code",
   "execution_count": null,
   "metadata": {},
   "outputs": [],
   "source": [
    "#POST LEVEL DICTIONARIES \n",
    "#---------------------------ANOREXIA-------------------#\n",
    "#version 1\n",
    "post_pos_anxia1 = '/home/est_posgrado_maria.garcia/Tesis/Proyecto_tecnologico/New/Post_dictionary/post_level/anxia_pos_ver1key30'\n",
    "post_neg_anxia1 = '/home/est_posgrado_maria.garcia/Tesis/Proyecto_tecnologico/New/Post_dictionary/post_level/anxia_neg_ver1key30'\n",
    "#version 2\n",
    "post_pos_anxia2 = '/home/est_posgrado_maria.garcia/Tesis/Proyecto_tecnologico/New/Post_dictionary/post_level/anxia_pos_ver2key30'\n",
    "post_neg_anxia2 = '/home/est_posgrado_maria.garcia/Tesis/Proyecto_tecnologico/New/Post_dictionary/post_level/anxia_neg_ver2key30'\n",
    "\n",
    "#-------------------------DEPRESSION--------------------#\n",
    "#version 1 \n",
    "post_pos_dep1  =  '/home/est_posgrado_maria.garcia/Tesis/Proyecto_tecnologico/New/Post_dictionary/post_level/dep_pos_ver1key30'\n",
    "post_neg_dep1  =  '/home/est_posgrado_maria.garcia/Tesis/Proyecto_tecnologico/New/Post_dictionary/post_level/dep_neg_ver1key30'\n",
    "#version 2\n",
    "post_pos_dep2  =  '/home/est_posgrado_maria.garcia/Tesis/Proyecto_tecnologico/New/Post_dictionary/post_level/dep_pos_ver2key30'\n",
    "post_neg_dep2  =  '/home/est_posgrado_maria.garcia/Tesis/Proyecto_tecnologico/New/Post_dictionary/post_level/dep_neg_ver1key30'\n",
    "\n",
    "##                                         USER VERSION OF THE DICTIONARIES OF THE USERS                        #\n",
    "#---------------------------ANOREXIA-------------------#\n",
    "#version 1\n",
    "user_pos_anxia1 = '/home/est_posgrado_maria.garcia/Tesis/Proyecto_tecnologico/New/User_dictionary/anxia_pos_ver3'\n",
    "user_neg_anxia1 = '/home/est_posgrado_maria.garcia/Tesis/Proyecto_tecnologico/New/User_dictionary/anxia_neg_ver3'\n",
    "#version 2\n",
    "user_pos_anxia2 = '/home/est_posgrado_maria.garcia/Tesis/Proyecto_tecnologico/New/User_dictionary/anxia_pos_ver4'\n",
    "user_neg_anxia2 = '/home/est_posgrado_maria.garcia/Tesis/Proyecto_tecnologico/New/User_dictionary/anxia_neg_ver4'\n",
    "\n",
    "user_pos_anxia3 = '/home/est_posgrado_maria.garcia/Tesis/Proyecto_tecnologico/New/User_dictionary/anxia_pos_ver5'\n",
    "user_neg_anxia3 = '/home/est_posgrado_maria.garcia/Tesis/Proyecto_tecnologico/New/User_dictionary/anxia_neg_ver5'\n",
    "#version 2\n",
    "user_pos_anxia4 = '/home/est_posgrado_maria.garcia/Tesis/Proyecto_tecnologico/New/User_dictionary/anxia_pos_ver6'\n",
    "user_neg_anxia4 = '/home/est_posgrado_maria.garcia/Tesis/Proyecto_tecnologico/New/User_dictionary/anxia_neg_ver6'\n",
    "\n",
    "#---------------------------DEPRESSION-----------------#\n",
    "#version 1\n",
    "user_pos_dep1 = '/home/est_posgrado_maria.garcia/Tesis/Proyecto_tecnologico/New/User_dictionary/dep_pos_ver3'\n",
    "user_neg_dep1 = '/home/est_posgrado_maria.garcia/Tesis/Proyecto_tecnologico/New/User_dictionary/dep_neg_ver3'\n",
    "#version 2\n",
    "user_pos_dep2 = '/home/est_posgrado_maria.garcia/Tesis/Proyecto_tecnologico/New/User_dictionary/dep_pos_ver4'\n",
    "user_neg_dep2 = '/home/est_posgrado_maria.garcia/Tesis/Proyecto_tecnologico/New/User_dictionary/dep_neg_ver4'\n",
    "\n",
    "user_pos_dep3 = '/home/est_posgrado_maria.garcia/Tesis/Proyecto_tecnologico/New/User_dictionary/dep_pos_ver5'\n",
    "user_neg_dep3 = '/home/est_posgrado_maria.garcia/Tesis/Proyecto_tecnologico/New/User_dictionary/dep_neg_ver5'\n",
    "#version 2\n",
    "user_pos_dep4 = '/home/est_posgrado_maria.garcia/Tesis/Proyecto_tecnologico/New/User_dictionary/dep_pos_ver6'\n",
    "user_neg_dep4 = '/home/est_posgrado_maria.garcia/Tesis/Proyecto_tecnologico/New/User_dictionary/dep_neg_ver6'\n",
    "\n",
    "##                                                   CONCATANTE ALL THE TEXT \n",
    "#version 1\n",
    "con_pos_anxia1 = '/home/est_posgrado_maria.garcia/Tesis/Proyecto_tecnologico/New/Con_dictionary/anxia_pos_ver3'\n",
    "con_neg_anxia1 = '/home/est_posgrado_maria.garcia/Tesis/Proyecto_tecnologico/New/Con_dictionary/anxia_neg_ver3'\n",
    "#version 2\n",
    "con_pos_anxia2 = '/home/est_posgrado_maria.garcia/Tesis/Proyecto_tecnologico/New/Con_dictionary/anxia_pos_ver4'\n",
    "con_neg_anxia2 = '/home/est_posgrado_maria.garcia/Tesis/Proyecto_tecnologico/New/Con_dictionary/anxia_neg_ver4'\n",
    "\n",
    "con_pos_anxia3 = '/home/est_posgrado_maria.garcia/Tesis/Proyecto_tecnologico/New/Con_dictionary/anxia_pos_ver5'\n",
    "con_neg_anxia3 = '/home/est_posgrado_maria.garcia/Tesis/Proyecto_tecnologico/New/Con_dictionary/anxia_neg_ver5'\n",
    "#version 2\n",
    "con_pos_anxia4 = '/home/est_posgrado_maria.garcia/Tesis/Proyecto_tecnologico/New/Con_dictionary/anxia_pos_ver6'\n",
    "con_neg_anxia4 = '/home/est_posgrado_maria.garcia/Tesis/Proyecto_tecnologico/New/Con_dictionary/anxia_neg_ver6'\n",
    "\n",
    "#---------------------------DEPRESSION-----------------#\n",
    "#version 1\n",
    "con_pos_dep1 = '/home/est_posgrado_maria.garcia/Tesis/Proyecto_tecnologico/New/Con_dictionary/dep_pos_ver3'\n",
    "con_neg_dep1 = '/home/est_posgrado_maria.garcia/Tesis/Proyecto_tecnologico/New/Con_dictionary/dep_neg_ver3'\n",
    "#version 2\n",
    "con_pos_dep2 = '/home/est_posgrado_maria.garcia/Tesis/Proyecto_tecnologico/New/Con_dictionary/dep_pos_ver4'\n",
    "con_neg_dep2 = '/home/est_posgrado_maria.garcia/Tesis/Proyecto_tecnologico/New/Con_dictionary/dep_neg_ver4'\n",
    "\n",
    "con_pos_dep3 = '/home/est_posgrado_maria.garcia/Tesis/Proyecto_tecnologico/New/Con_dictionary/dep_pos_ver5'\n",
    "con_neg_dep3= '/home/est_posgrado_maria.garcia/Tesis/Proyecto_tecnologico/New/Con_dictionary/dep_neg_ver5'\n",
    "#version 2\n",
    "con_pos_dep4 = '/home/est_posgrado_maria.garcia/Tesis/Proyecto_tecnologico/New/Con_dictionary/dep_pos_ver6'\n",
    "con_neg_dep4 = '/home/est_posgrado_maria.garcia/Tesis/Proyecto_tecnologico/New/Con_dictionary/dep_neg_ver6'\n",
    "\n"
   ]
  },
  {
   "cell_type": "markdown",
   "metadata": {},
   "source": [
    "# Functions "
   ]
  },
  {
   "cell_type": "code",
   "execution_count": null,
   "metadata": {},
   "outputs": [],
   "source": [
    "def clustering_features(matrix_emb, num_cluster):\n",
    "    #convert the matrix_emb to a list of vectors\n",
    "    list_vectors = list(matrix_emb)\n",
    "\n",
    "    k_cluster = KMeansClusterer(num_cluster,\n",
    "                distance = nltk.cluster.util.cosine_distance,\n",
    "                repeats = 25,\n",
    "                avoid_empty_clusters = True)\n",
    "    #return a list with the cluster assign to each vector \n",
    "    assigned_clusters = k_cluster.cluster(list_vectors, assign_clusters = True)\n",
    "    centroids = k_cluster.means()\n",
    "\n",
    "    return np.array(assigned_clusters), np.array(centroids)"
   ]
  },
  {
   "cell_type": "markdown",
   "metadata": {},
   "source": [
    "# Level post"
   ]
  },
  {
   "cell_type": "markdown",
   "metadata": {},
   "source": [
    "## Anorexia"
   ]
  },
  {
   "cell_type": "markdown",
   "metadata": {},
   "source": [
    "### Uppercase model embedding anxia"
   ]
  },
  {
   "cell_type": "code",
   "execution_count": null,
   "metadata": {},
   "outputs": [],
   "source": [
    "kw1 = get_list_key(post_pos_anxia1)\n",
    "kw2 = get_list_key(post_neg_anxia1)\n"
   ]
  },
  {
   "cell_type": "code",
   "execution_count": null,
   "metadata": {},
   "outputs": [],
   "source": [
    "words_pos_anxia1 = get_words_from_kw(kw1)\n",
    "words_neg_anxia1 = get_words_from_kw(kw2)"
   ]
  },
  {
   "cell_type": "code",
   "execution_count": null,
   "metadata": {},
   "outputs": [],
   "source": [
    "post_anxia_emb_matrix_pos1 = get_dictionary_matrix(words_pos_anxia1,1)\n",
    "post_anxia_emb_matrix_neg1 = get_dictionary_matrix(words_neg_anxia1,1)"
   ]
  },
  {
   "cell_type": "markdown",
   "metadata": {},
   "source": [
    "### Uppercase model embedding pretrained"
   ]
  },
  {
   "cell_type": "code",
   "execution_count": null,
   "metadata": {},
   "outputs": [],
   "source": [
    "post_anxia_emb_matrix_pos2 = get_dictionary_matrix(words_pos_anxia1,3)\n",
    "post_anxia_emb_matrix_neg2 = get_dictionary_matrix(words_neg_anxia1,3)"
   ]
  },
  {
   "cell_type": "markdown",
   "metadata": {},
   "source": [
    "### Uppercase model embedding emotions"
   ]
  },
  {
   "cell_type": "code",
   "execution_count": null,
   "metadata": {},
   "outputs": [],
   "source": [
    "post_anxia_emb_matrix_pos3 = get_dictionary_matrix(words_pos_anxia1,4)\n",
    "post_anxia_emb_matrix_neg3 = get_dictionary_matrix(words_neg_anxia1,4)"
   ]
  },
  {
   "cell_type": "markdown",
   "metadata": {},
   "source": [
    "### Lowercase model embedding anxia "
   ]
  },
  {
   "cell_type": "code",
   "execution_count": null,
   "metadata": {},
   "outputs": [],
   "source": [
    "kw3 = get_list_key(post_pos_anxia2)\n",
    "kw4 = get_list_key(post_neg_anxia2)\n"
   ]
  },
  {
   "cell_type": "code",
   "execution_count": null,
   "metadata": {},
   "outputs": [],
   "source": [
    "words_pos_anxia2 = get_words_from_kw(kw3)\n",
    "words_neg_anxia2 = get_words_from_kw(kw4)"
   ]
  },
  {
   "cell_type": "code",
   "execution_count": null,
   "metadata": {},
   "outputs": [],
   "source": [
    "post_anxia_emb_matrix_pos4 = get_dictionary_matrix(words_pos_anxia2,1)\n",
    "post_anxia_emb_matrix_neg4 = get_dictionary_matrix(words_neg_anxia2,1)"
   ]
  },
  {
   "cell_type": "markdown",
   "metadata": {},
   "source": [
    "### Lowercase model embedding pre-trained "
   ]
  },
  {
   "cell_type": "code",
   "execution_count": null,
   "metadata": {},
   "outputs": [],
   "source": [
    "post_anxia_emb_matrix_pos5 = get_dictionary_matrix(words_pos_anxia2,3)\n",
    "post_anxia_emb_matrix_neg5 = get_dictionary_matrix(words_neg_anxia2,3)"
   ]
  },
  {
   "cell_type": "markdown",
   "metadata": {},
   "source": [
    "### Lowercase model embedding emotions"
   ]
  },
  {
   "cell_type": "code",
   "execution_count": null,
   "metadata": {},
   "outputs": [],
   "source": [
    "post_anxia_emb_matrix_pos6 = get_dictionary_matrix(words_pos_anxia2,4)\n",
    "post_anxia_emb_matrix_neg6 = get_dictionary_matrix(words_neg_anxia2,4)"
   ]
  },
  {
   "cell_type": "markdown",
   "metadata": {},
   "source": [
    "## Depression "
   ]
  },
  {
   "cell_type": "markdown",
   "metadata": {},
   "source": [
    "### Uppercase "
   ]
  },
  {
   "cell_type": "code",
   "execution_count": null,
   "metadata": {},
   "outputs": [],
   "source": [
    "kw5 = get_list_key(post_pos_dep1)\n",
    "kw6 = get_list_key(post_neg_dep1)\n",
    "words_pos_dep1 = get_words_from_kw(kw5)\n",
    "words_neg_dep1 = get_words_from_kw(kw6)"
   ]
  },
  {
   "cell_type": "markdown",
   "metadata": {},
   "source": [
    "### Model embedding dep"
   ]
  },
  {
   "cell_type": "code",
   "execution_count": null,
   "metadata": {},
   "outputs": [],
   "source": [
    "post_dep_emb_matrix_pos1 = get_dictionary_matrix(words_pos_dep1,2)\n",
    "post_dep_emb_matrix_neg1 = get_dictionary_matrix(words_neg_dep1,2)"
   ]
  },
  {
   "cell_type": "markdown",
   "metadata": {},
   "source": [
    "### Model embedding pre_trained "
   ]
  },
  {
   "cell_type": "code",
   "execution_count": null,
   "metadata": {},
   "outputs": [],
   "source": [
    "post_dep_emb_matrix_pos2 = get_dictionary_matrix(words_pos_dep1,3)\n",
    "post_dep_emb_matrix_neg2 = get_dictionary_matrix(words_neg_dep1,3)"
   ]
  },
  {
   "cell_type": "markdown",
   "metadata": {},
   "source": [
    "### Model embedding emotions "
   ]
  },
  {
   "cell_type": "code",
   "execution_count": null,
   "metadata": {},
   "outputs": [],
   "source": [
    "post_dep_emb_matrix_pos3 = get_dictionary_matrix(words_pos_dep1,4)\n",
    "post_dep_emb_matrix_neg3 = get_dictionary_matrix(words_neg_dep1,4)"
   ]
  },
  {
   "cell_type": "markdown",
   "metadata": {},
   "source": [
    "### Lowercase"
   ]
  },
  {
   "cell_type": "code",
   "execution_count": null,
   "metadata": {},
   "outputs": [],
   "source": [
    "kw7 = get_list_key(post_pos_dep2)\n",
    "kw8 = get_list_key(post_neg_dep2)\n",
    "words_pos_dep2 = get_words_from_kw(kw7)\n",
    "words_neg_dep2 = get_words_from_kw(kw8)"
   ]
  },
  {
   "cell_type": "markdown",
   "metadata": {},
   "source": [
    "### Model embedding dep"
   ]
  },
  {
   "cell_type": "code",
   "execution_count": null,
   "metadata": {},
   "outputs": [],
   "source": [
    "post_dep_emb_matrix_pos4 = get_dictionary_matrix(words_pos_dep2,2)\n",
    "post_dep_emb_matrix_neg4 = get_dictionary_matrix(words_neg_dep2,2)"
   ]
  },
  {
   "cell_type": "markdown",
   "metadata": {},
   "source": [
    "### Model embedding pre_trained"
   ]
  },
  {
   "cell_type": "code",
   "execution_count": null,
   "metadata": {},
   "outputs": [],
   "source": [
    "post_dep_emb_matrix_pos5 = get_dictionary_matrix(words_pos_dep2,3)\n",
    "post_dep_emb_matrix_neg5 = get_dictionary_matrix(words_neg_dep2,3)"
   ]
  },
  {
   "cell_type": "markdown",
   "metadata": {},
   "source": [
    "### Model embedding emotions"
   ]
  },
  {
   "cell_type": "code",
   "execution_count": null,
   "metadata": {},
   "outputs": [],
   "source": [
    "post_dep_emb_matrix_pos6 = get_dictionary_matrix(words_pos_dep2,4)\n",
    "post_dep_emb_matrix_neg6 = get_dictionary_matrix(words_neg_dep2,4)"
   ]
  },
  {
   "cell_type": "markdown",
   "metadata": {},
   "source": [
    "# Level user"
   ]
  },
  {
   "cell_type": "markdown",
   "metadata": {},
   "source": [
    "## Anorexia"
   ]
  },
  {
   "cell_type": "markdown",
   "metadata": {},
   "source": [
    " ### Uppercase"
   ]
  },
  {
   "cell_type": "code",
   "execution_count": null,
   "metadata": {},
   "outputs": [],
   "source": [
    "kw9 = get_list_key(user_pos_anxia1)\n",
    "kw10 = get_list_key(user_neg_anxia1)\n",
    "words_pos_anxia3 = get_words_from_kw(kw9)\n",
    "words_neg_anxia3 = get_words_from_kw(kw10)"
   ]
  },
  {
   "cell_type": "markdown",
   "metadata": {},
   "source": [
    "### Embedding model anxia \n"
   ]
  },
  {
   "cell_type": "code",
   "execution_count": null,
   "metadata": {},
   "outputs": [],
   "source": [
    "user_anxia_emb_matrix_pos1 = get_dictionary_matrix(words_pos_anxia3,1)\n",
    "user_anxia_emb_matrix_neg1 = get_dictionary_matrix(words_neg_anxia3,1)"
   ]
  },
  {
   "cell_type": "markdown",
   "metadata": {},
   "source": [
    "### Embedding pretrained"
   ]
  },
  {
   "cell_type": "code",
   "execution_count": null,
   "metadata": {},
   "outputs": [],
   "source": [
    "user_anxia_emb_matrix_pos2 = get_dictionary_matrix(words_pos_anxia3,3)\n",
    "user_anxia_emb_matrix_neg2 = get_dictionary_matrix(words_neg_anxia3,3)"
   ]
  },
  {
   "cell_type": "markdown",
   "metadata": {},
   "source": [
    "### Uppercase model embedding emotions"
   ]
  },
  {
   "cell_type": "code",
   "execution_count": null,
   "metadata": {},
   "outputs": [],
   "source": [
    "user_anxia_emb_matrix_pos3 = get_dictionary_matrix(words_pos_anxia3,4)\n",
    "user_anxia_emb_matrix_neg3 = get_dictionary_matrix(words_neg_anxia3,4)"
   ]
  },
  {
   "cell_type": "markdown",
   "metadata": {},
   "source": [
    "### Lowercase"
   ]
  },
  {
   "cell_type": "code",
   "execution_count": null,
   "metadata": {},
   "outputs": [],
   "source": [
    "kw11 = get_list_key(user_pos_anxia2)\n",
    "kw12 = get_list_key(user_neg_anxia2)"
   ]
  },
  {
   "cell_type": "code",
   "execution_count": null,
   "metadata": {},
   "outputs": [],
   "source": [
    "words_pos_anxia4 = get_words_from_kw(kw11)\n",
    "words_neg_anxia4 = get_words_from_kw(kw12)"
   ]
  },
  {
   "cell_type": "markdown",
   "metadata": {},
   "source": [
    "### Model embedding anxia "
   ]
  },
  {
   "cell_type": "code",
   "execution_count": null,
   "metadata": {},
   "outputs": [],
   "source": [
    "user_anxia_emb_matrix_pos4 = get_dictionary_matrix(words_pos_anxia4,1)\n",
    "user_anxia_emb_matrix_neg4 = get_dictionary_matrix(words_neg_anxia4,1)"
   ]
  },
  {
   "cell_type": "markdown",
   "metadata": {},
   "source": [
    "### Lowercase model embedding pre-trained "
   ]
  },
  {
   "cell_type": "code",
   "execution_count": null,
   "metadata": {},
   "outputs": [],
   "source": [
    "user_anxia_emb_matrix_pos5 = get_dictionary_matrix(words_pos_anxia4,3)\n",
    "user_anxia_emb_matrix_neg5 = get_dictionary_matrix(words_neg_anxia4,3)"
   ]
  },
  {
   "cell_type": "markdown",
   "metadata": {},
   "source": [
    "### Lowercase model embedding emotions"
   ]
  },
  {
   "cell_type": "code",
   "execution_count": null,
   "metadata": {},
   "outputs": [],
   "source": [
    "user_anxia_emb_matrix_pos6 = get_dictionary_matrix(words_pos_anxia4,4)\n",
    "user_anxia_emb_matrix_neg6 = get_dictionary_matrix(words_neg_anxia4,4)"
   ]
  },
  {
   "cell_type": "markdown",
   "metadata": {},
   "source": [
    "## Depression "
   ]
  },
  {
   "cell_type": "markdown",
   "metadata": {},
   "source": [
    "### Uppercase "
   ]
  },
  {
   "cell_type": "code",
   "execution_count": null,
   "metadata": {},
   "outputs": [],
   "source": [
    "kw13 = get_list_key(user_pos_dep1)\n",
    "kw14 = get_list_key(user_neg_dep1)\n",
    "words_pos_dep3 = get_words_from_kw(kw13)\n",
    "words_neg_dep3 = get_words_from_kw(kw14)"
   ]
  },
  {
   "cell_type": "markdown",
   "metadata": {},
   "source": [
    "### Model embedding dep"
   ]
  },
  {
   "cell_type": "code",
   "execution_count": null,
   "metadata": {},
   "outputs": [],
   "source": [
    "user_dep_emb_matrix_pos1 = get_dictionary_matrix(words_pos_dep3,2)\n",
    "user_dep_emb_matrix_neg1 = get_dictionary_matrix(words_neg_dep3,2)"
   ]
  },
  {
   "cell_type": "markdown",
   "metadata": {},
   "source": [
    "### Model embedding pre_trained "
   ]
  },
  {
   "cell_type": "code",
   "execution_count": null,
   "metadata": {},
   "outputs": [],
   "source": [
    "user_dep_emb_matrix_pos2 = get_dictionary_matrix(words_pos_dep3,3)\n",
    "user_dep_emb_matrix_neg2 = get_dictionary_matrix(words_neg_dep3,3)"
   ]
  },
  {
   "cell_type": "markdown",
   "metadata": {},
   "source": [
    "### Model embedding emotions "
   ]
  },
  {
   "cell_type": "code",
   "execution_count": null,
   "metadata": {},
   "outputs": [],
   "source": [
    "user_dep_emb_matrix_pos3 = get_dictionary_matrix(words_pos_dep3,4)\n",
    "user_dep_emb_matrix_neg3 = get_dictionary_matrix(words_neg_dep3,4)"
   ]
  },
  {
   "cell_type": "markdown",
   "metadata": {},
   "source": [
    "### Lowercase"
   ]
  },
  {
   "cell_type": "code",
   "execution_count": null,
   "metadata": {},
   "outputs": [],
   "source": [
    "kw15 = get_list_key(user_pos_dep2)\n",
    "kw16 = get_list_key(user_neg_dep2)\n",
    "words_pos_dep4 = get_words_from_kw(kw15)\n",
    "words_neg_dep4 = get_words_from_kw(kw16)"
   ]
  },
  {
   "cell_type": "markdown",
   "metadata": {},
   "source": [
    "### Model embedding dep"
   ]
  },
  {
   "cell_type": "code",
   "execution_count": null,
   "metadata": {},
   "outputs": [],
   "source": [
    "user_dep_emb_matrix_pos4 = get_dictionary_matrix(words_pos_dep4,2)\n",
    "user_dep_emb_matrix_neg4 = get_dictionary_matrix(words_neg_dep4,2)"
   ]
  },
  {
   "cell_type": "markdown",
   "metadata": {},
   "source": [
    "### Model embedding pre_trained"
   ]
  },
  {
   "cell_type": "code",
   "execution_count": null,
   "metadata": {},
   "outputs": [],
   "source": [
    "user_dep_emb_matrix_pos5 = get_dictionary_matrix(words_pos_dep4,3)\n",
    "user_dep_emb_matrix_neg5 = get_dictionary_matrix(words_neg_dep4,3)"
   ]
  },
  {
   "cell_type": "markdown",
   "metadata": {},
   "source": [
    "### Model embedding emotions"
   ]
  },
  {
   "cell_type": "code",
   "execution_count": null,
   "metadata": {},
   "outputs": [],
   "source": [
    "user_dep_emb_matrix_pos6 = get_dictionary_matrix(words_pos_dep4,4)\n",
    "user_dep_emb_matrix_neg6 = get_dictionary_matrix(words_neg_dep4,4)"
   ]
  },
  {
   "cell_type": "markdown",
   "metadata": {},
   "source": [
    "# Level concatenation"
   ]
  },
  {
   "cell_type": "markdown",
   "metadata": {},
   "source": [
    "## Anorexia"
   ]
  },
  {
   "cell_type": "markdown",
   "metadata": {},
   "source": [
    " ### Uppercase"
   ]
  },
  {
   "cell_type": "code",
   "execution_count": null,
   "metadata": {},
   "outputs": [],
   "source": [
    "kw17 = get_list_key(con_pos_anxia1)\n",
    "kw18 = get_list_key(con_neg_anxia1)\n",
    "words_pos_anxia5 = get_words_from_kw(kw17)\n",
    "words_neg_anxia5 = get_words_from_kw(kw18)"
   ]
  },
  {
   "cell_type": "markdown",
   "metadata": {},
   "source": [
    "### Embedding model anxia "
   ]
  },
  {
   "cell_type": "code",
   "execution_count": null,
   "metadata": {},
   "outputs": [],
   "source": [
    "con_anxia_emb_matrix_pos1 = get_dictionary_matrix(words_pos_anxia5,1)\n",
    "con_anxia_emb_matrix_neg1 = get_dictionary_matrix(words_neg_anxia5,1)"
   ]
  },
  {
   "cell_type": "markdown",
   "metadata": {},
   "source": [
    "### Embedding pretrained"
   ]
  },
  {
   "cell_type": "code",
   "execution_count": null,
   "metadata": {},
   "outputs": [],
   "source": [
    "con_anxia_emb_matrix_pos2 = get_dictionary_matrix(words_pos_anxia5,3)\n",
    "con_anxia_emb_matrix_neg2 = get_dictionary_matrix(words_neg_anxia5,3)"
   ]
  },
  {
   "cell_type": "markdown",
   "metadata": {},
   "source": [
    "### Uppercase model embedding emotions"
   ]
  },
  {
   "cell_type": "code",
   "execution_count": null,
   "metadata": {},
   "outputs": [],
   "source": [
    "con_anxia_emb_matrix_pos3 = get_dictionary_matrix(words_pos_anxia5,4)\n",
    "con_anxia_emb_matrix_neg3 = get_dictionary_matrix(words_neg_anxia5,4)"
   ]
  },
  {
   "cell_type": "markdown",
   "metadata": {},
   "source": [
    "### Lowercase"
   ]
  },
  {
   "cell_type": "code",
   "execution_count": null,
   "metadata": {},
   "outputs": [],
   "source": [
    "kw19 = get_list_key(con_pos_anxia2)\n",
    "kw20 = get_list_key(con_neg_anxia2)"
   ]
  },
  {
   "cell_type": "code",
   "execution_count": null,
   "metadata": {},
   "outputs": [],
   "source": [
    "words_pos_anxia6 = get_words_from_kw(kw19)\n",
    "words_neg_anxia6 = get_words_from_kw(kw20)"
   ]
  },
  {
   "cell_type": "markdown",
   "metadata": {},
   "source": [
    "### Model embedding anxia "
   ]
  },
  {
   "cell_type": "code",
   "execution_count": null,
   "metadata": {},
   "outputs": [],
   "source": [
    "con_anxia_emb_matrix_pos4 = get_dictionary_matrix(words_pos_anxia6,1)\n",
    "con_anxia_emb_matrix_neg4 = get_dictionary_matrix(words_neg_anxia6,1)"
   ]
  },
  {
   "cell_type": "markdown",
   "metadata": {},
   "source": [
    "### Lowercase model embedding pre-trained "
   ]
  },
  {
   "cell_type": "code",
   "execution_count": null,
   "metadata": {},
   "outputs": [],
   "source": [
    "con_anxia_emb_matrix_pos5 = get_dictionary_matrix(words_pos_anxia6,3)\n",
    "con_anxia_emb_matrix_neg5 = get_dictionary_matrix(words_neg_anxia6,3)"
   ]
  },
  {
   "cell_type": "markdown",
   "metadata": {},
   "source": [
    "### Lowercase model embedding emotions"
   ]
  },
  {
   "cell_type": "code",
   "execution_count": null,
   "metadata": {},
   "outputs": [],
   "source": [
    "con_anxia_emb_matrix_pos6 = get_dictionary_matrix(words_pos_anxia6,4)\n",
    "con_anxia_emb_matrix_neg6 = get_dictionary_matrix(words_neg_anxia6,4)"
   ]
  },
  {
   "cell_type": "markdown",
   "metadata": {},
   "source": [
    "## Depression "
   ]
  },
  {
   "cell_type": "markdown",
   "metadata": {},
   "source": [
    "### Uppercase "
   ]
  },
  {
   "cell_type": "code",
   "execution_count": null,
   "metadata": {},
   "outputs": [],
   "source": [
    "kw21 = get_list_key(con_pos_dep1)\n",
    "kw22 = get_list_key(con_neg_dep1)\n",
    "words_pos_dep5 = get_words_from_kw(kw21)\n",
    "words_neg_dep5 = get_words_from_kw(kw22)"
   ]
  },
  {
   "cell_type": "markdown",
   "metadata": {},
   "source": [
    "### Model embedding dep"
   ]
  },
  {
   "cell_type": "code",
   "execution_count": null,
   "metadata": {},
   "outputs": [],
   "source": [
    "con_dep_emb_matrix_pos1 = get_dictionary_matrix(words_pos_dep5,2)\n",
    "con_dep_emb_matrix_neg1 = get_dictionary_matrix(words_neg_dep5,2)"
   ]
  },
  {
   "cell_type": "markdown",
   "metadata": {},
   "source": [
    "### Model embedding pre_trained "
   ]
  },
  {
   "cell_type": "code",
   "execution_count": null,
   "metadata": {},
   "outputs": [],
   "source": [
    "con_dep_emb_matrix_pos2 = get_dictionary_matrix(words_pos_dep5,3)\n",
    "con_dep_emb_matrix_neg2 = get_dictionary_matrix(words_neg_dep5,3)"
   ]
  },
  {
   "cell_type": "markdown",
   "metadata": {},
   "source": [
    "### Model embedding emotions "
   ]
  },
  {
   "cell_type": "code",
   "execution_count": null,
   "metadata": {},
   "outputs": [],
   "source": [
    "con_dep_emb_matrix_pos3 = get_dictionary_matrix(words_pos_dep5,4)\n",
    "con_dep_emb_matrix_neg3 = get_dictionary_matrix(words_neg_dep5,4)"
   ]
  },
  {
   "cell_type": "markdown",
   "metadata": {},
   "source": [
    "### Lowercase"
   ]
  },
  {
   "cell_type": "code",
   "execution_count": null,
   "metadata": {},
   "outputs": [],
   "source": [
    "kw23 = get_list_key(con_pos_dep2)\n",
    "kw24 = get_list_key(con_neg_dep2)\n",
    "words_pos_dep6 = get_words_from_kw(kw23)\n",
    "words_neg_dep6 = get_words_from_kw(kw24)"
   ]
  },
  {
   "cell_type": "markdown",
   "metadata": {},
   "source": [
    "### Model embedding dep"
   ]
  },
  {
   "cell_type": "code",
   "execution_count": null,
   "metadata": {},
   "outputs": [],
   "source": [
    "con_dep_emb_matrix_pos4 = get_dictionary_matrix(words_pos_dep6,2)\n",
    "con_dep_emb_matrix_neg4 = get_dictionary_matrix(words_neg_dep6,2)"
   ]
  },
  {
   "cell_type": "markdown",
   "metadata": {},
   "source": [
    "### Model embedding pre_trained"
   ]
  },
  {
   "cell_type": "code",
   "execution_count": null,
   "metadata": {},
   "outputs": [],
   "source": [
    "con_dep_emb_matrix_pos5 = get_dictionary_matrix(words_pos_dep6,3)\n",
    "con_dep_emb_matrix_neg5 = get_dictionary_matrix(words_neg_dep6,3)"
   ]
  },
  {
   "cell_type": "markdown",
   "metadata": {},
   "source": [
    "### Model embedding emotions"
   ]
  },
  {
   "cell_type": "code",
   "execution_count": null,
   "metadata": {},
   "outputs": [],
   "source": [
    "con_dep_emb_matrix_pos6 = get_dictionary_matrix(words_pos_dep6,4)\n",
    "con_dep_emb_matrix_neg6 = get_dictionary_matrix(words_neg_dep6,4)"
   ]
  },
  {
   "cell_type": "markdown",
   "metadata": {},
   "source": [
    "# Make clustering"
   ]
  },
  {
   "cell_type": "code",
   "execution_count": null,
   "metadata": {},
   "outputs": [],
   "source": [
    "def get_represententing_words(word_embedding_matrix, num_clusters, dictionary):\n",
    "    words_centroid = dict()\n",
    "    array_clusters, centroids = clustering_features(word_embedding_matrix, num_clusters)\n",
    "    #calculate the cosine similarity between the centroids and the embedings of the words\n",
    "    similarity_matrix = sklearn.metrics.pairwise.cosine_similarity(word_embedding_matrix, centroids)\n",
    "    #array with the maximum by column\n",
    "    max_similarity = np.amax(similarity_matrix, axis = 0)\n",
    "    #find the index, n_lcuster is the number of cluster corresponding to the maximum in that cluster \n",
    "    index, n_cluster = np.where( similarity_matrix == max_similarity)\n",
    "    \n",
    "    for i in range(index.shape[0]):\n",
    "        words_centroid[n_cluster[i]] = dictionary[index[i]]\n",
    "    \n",
    "    return words_centroid"
   ]
  },
  {
   "cell_type": "markdown",
   "metadata": {},
   "source": [
    "# Get clusters "
   ]
  },
  {
   "cell_type": "markdown",
   "metadata": {},
   "source": [
    "## Level post : 5 cluster "
   ]
  },
  {
   "cell_type": "code",
   "execution_count": null,
   "metadata": {},
   "outputs": [],
   "source": [
    "cluster_path_5 = '/home/est_posgrado_maria.garcia/Tesis/Proyecto_tecnologico/New/Fuzzy_range/10-Cluster'"
   ]
  },
  {
   "cell_type": "code",
   "execution_count": null,
   "metadata": {},
   "outputs": [],
   "source": [
    "\n",
    "# post_anxia1 = get_represententing_words(post_anxia_emb_matrix_pos1, 10, words_pos_anxia1)\n",
    "\n",
    "\n",
    "# with open(cluster_path_5+'/post_anxia_uppercase', \"wb\") as fp:\n",
    "#     pickle.dump(post_anxia1, fp)\n",
    "#     fp.close()\n",
    "\n",
    "# post_anxia2 = get_represententing_words(post_anxia_emb_matrix_pos2, 10, words_pos_anxia1)\n",
    "# with open(cluster_path_5+'/post_pre_uppercase', \"wb\") as fp:\n",
    "#     pickle.dump(post_anxia2, fp)\n",
    "#     fp.close()\n",
    "\n",
    "# post_anxia3 = get_represententing_words(post_anxia_emb_matrix_pos3, 10, words_pos_anxia1)\n",
    "# with open(cluster_path_5+'/post_emo_uppercase', \"wb\") as fp:\n",
    "#     pickle.dump(post_anxia3, fp)\n",
    "#     fp.close()\n",
    "\n",
    "# post_anxia4 = get_represententing_words(post_anxia_emb_matrix_pos4, 10, words_pos_anxia2)\n",
    "# with open(cluster_path_5+'/post_anxia_lowercase', \"wb\") as fp:\n",
    "#     pickle.dump(post_anxia4, fp)\n",
    "#     fp.close()\n",
    "\n",
    "# post_anxia5 = get_represententing_words(post_anxia_emb_matrix_pos5, 10, words_pos_anxia2)\n",
    "# with open(cluster_path_5+'/post_pre_lowercase', \"wb\") as fp:\n",
    "#     pickle.dump(post_anxia5, fp)\n",
    "#     fp.close()\n",
    "\n",
    "# post_anxia6 = get_represententing_words(post_anxia_emb_matrix_pos6, 10, words_pos_anxia2)\n",
    "# with open(cluster_path_5+'/post_emo_lowercase', \"wb\") as fp:\n",
    "#     pickle.dump(post_anxia6, fp)\n",
    "#     fp.close()"
   ]
  },
  {
   "cell_type": "code",
   "execution_count": null,
   "metadata": {},
   "outputs": [],
   "source": [
    "# post_neg_anxia1 = get_represententing_words(post_anxia_emb_matrix_neg1, 10, words_neg_anxia1)\n",
    "# with open(cluster_path_5+'/post_neg_anxia_uppercase', \"wb\") as fp:\n",
    "#     pickle.dump(post_neg_anxia1, fp)\n",
    "#     fp.close()\n",
    "\n",
    "# post_anxia2 = get_represententing_words(post_anxia_emb_matrix_neg2, 10, words_neg_anxia1)\n",
    "# with open(cluster_path_5+'/post_neg_pre_uppercase', \"wb\") as fp:\n",
    "#     pickle.dump(post_anxia2, fp)\n",
    "#     fp.close()\n",
    "\n",
    "# post_anxia3 = get_represententing_words(post_anxia_emb_matrix_neg3, 10, words_neg_anxia1)\n",
    "# with open(cluster_path_5+'/post_neg_emo_uppercase', \"wb\") as fp:\n",
    "#     pickle.dump(post_anxia3, fp)\n",
    "#     fp.close()\n",
    "\n",
    "# post_anxia4 = get_represententing_words(post_anxia_emb_matrix_neg4, 10, words_neg_anxia2)\n",
    "# with open(cluster_path_5+'/post_neg_anxia_lowercase', \"wb\") as fp:\n",
    "#     pickle.dump(post_anxia4, fp)\n",
    "#     fp.close()\n",
    "\n",
    "# post_anxia5 = get_represententing_words(post_anxia_emb_matrix_neg5, 10, words_neg_anxia2)\n",
    "# with open(cluster_path_5+'/post_neg_pre_lowercase', \"wb\") as fp:\n",
    "#     pickle.dump(post_anxia5, fp)\n",
    "#     fp.close()\n",
    "\n",
    "post_anxia6 = get_represententing_words(post_anxia_emb_matrix_neg6, 10, words_neg_anxia2)\n",
    "with open(cluster_path_5+'/post_neg_emo_lowercase', \"wb\") as fp:\n",
    "    pickle.dump(post_anxia6, fp)\n",
    "    fp.close()"
   ]
  },
  {
   "cell_type": "code",
   "execution_count": null,
   "metadata": {},
   "outputs": [],
   "source": [
    "# post_dep1 = get_represententing_words(post_dep_emb_matrix_pos1, 10, words_pos_dep1)\n",
    "# with open(cluster_path_5+'/post_dep_uppercase', \"wb\") as fp:\n",
    "#     pickle.dump(post_dep1, fp)\n",
    "#     fp.close()\n",
    "\n",
    "# post_dep2 = get_represententing_words(post_dep_emb_matrix_pos2, 10, words_pos_dep1)\n",
    "# with open(cluster_path_5+'/post_dep_pre_uppercase', \"wb\") as fp:\n",
    "#     pickle.dump(post_dep2, fp)\n",
    "#     fp.close()\n",
    "\n",
    "# post_dep3 = get_represententing_words(post_dep_emb_matrix_pos3, 10, words_pos_dep1)\n",
    "# with open(cluster_path_5+'/post_dep_emo_uppercase', \"wb\") as fp:\n",
    "#     pickle.dump(post_dep3, fp)\n",
    "#     fp.close()\n",
    "\n",
    "# post_dep4 = get_represententing_words(post_dep_emb_matrix_pos4, 10, words_pos_dep2)\n",
    "# with open(cluster_path_5+'/post_dep_lowercase', \"wb\") as fp:\n",
    "#     pickle.dump(post_dep4, fp)\n",
    "#     fp.close()\n",
    "\n",
    "post_dep5 = get_represententing_words(post_dep_emb_matrix_pos5, 10, words_pos_dep2)\n",
    "with open(cluster_path_5+'/post_dep_pre_lowercase', \"wb\") as fp:\n",
    "    pickle.dump(post_dep5, fp)\n",
    "    fp.close()\n",
    "\n",
    "post_dep6 = get_represententing_words(post_dep_emb_matrix_pos6, 10, words_pos_dep2)\n",
    "with open(cluster_path_5+'/post_dep_emo_lowercase', \"wb\") as fp:\n",
    "    pickle.dump(post_dep6, fp)\n",
    "    fp.close()"
   ]
  },
  {
   "cell_type": "code",
   "execution_count": null,
   "metadata": {},
   "outputs": [],
   "source": []
  },
  {
   "cell_type": "code",
   "execution_count": null,
   "metadata": {},
   "outputs": [],
   "source": []
  }
 ],
 "metadata": {
  "kernelspec": {
   "display_name": "Python 3",
   "language": "python",
   "name": "python3"
  },
  "language_info": {
   "codemirror_mode": {
    "name": "ipython",
    "version": 3
   },
   "file_extension": ".py",
   "mimetype": "text/x-python",
   "name": "python",
   "nbconvert_exporter": "python",
   "pygments_lexer": "ipython3",
   "version": "3.7.6"
  }
 },
 "nbformat": 4,
 "nbformat_minor": 5
}
