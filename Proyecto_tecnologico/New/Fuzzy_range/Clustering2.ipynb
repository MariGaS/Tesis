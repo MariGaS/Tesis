{
 "cells": [
  {
   "cell_type": "code",
   "execution_count": 1,
   "id": "3d94ac80",
   "metadata": {},
   "outputs": [],
   "source": [
    "import numpy as np \n",
    "from nltk.cluster import KMeansClusterer\n",
    "import nltk\n",
    "from sklearn.metrics import pairwise_distances"
   ]
  },
  {
   "cell_type": "code",
   "execution_count": 2,
   "id": "92f9e45b",
   "metadata": {},
   "outputs": [
    {
     "name": "stdout",
     "output_type": "stream",
     "text": [
      "Load_anorexia\n",
      "Load depression\n",
      "Load emotions\n",
      "Load pretrained\n"
     ]
    },
    {
     "name": "stderr",
     "output_type": "stream",
     "text": [
      "Warning : `load_model` does not return WordVectorModel or SupervisedModel any more, but a `FastText` object which is very similar.\n"
     ]
    }
   ],
   "source": [
    "from vec_function import *"
   ]
  },
  {
   "cell_type": "markdown",
   "id": "95570f80",
   "metadata": {},
   "source": [
    "# Dictionaries "
   ]
  },
  {
   "cell_type": "code",
   "execution_count": 3,
   "id": "63217869",
   "metadata": {},
   "outputs": [],
   "source": [
    "#POST LEVEL DICTIONARIES \n",
    "#---------------------------ANOREXIA-------------------#\n",
    "#version 1\n",
    "post_pos_anxia1 = '/home/est_posgrado_maria.garcia/Tesis/Proyecto_tecnologico/New/Post_dictionary/post_level/anxia_pos_ver1key30'\n",
    "post_neg_anxia1 = '/home/est_posgrado_maria.garcia/Tesis/Proyecto_tecnologico/New/Post_dictionary/post_level/anxia_neg_ver1key30'\n",
    "#version 2\n",
    "post_pos_anxia2 = '/home/est_posgrado_maria.garcia/Tesis/Proyecto_tecnologico/New/Post_dictionary/post_level/anxia_pos_ver2key30'\n",
    "post_neg_anxia2 = '/home/est_posgrado_maria.garcia/Tesis/Proyecto_tecnologico/New/Post_dictionary/post_level/anxia_neg_ver2key30'\n",
    "\n",
    "#-------------------------DEPRESSION--------------------#\n",
    "#version 1 \n",
    "post_pos_dep1  =  '/home/est_posgrado_maria.garcia/Tesis/Proyecto_tecnologico/New/Post_dictionary/post_level/dep_pos_ver1key30'\n",
    "post_neg_dep1  =  '/home/est_posgrado_maria.garcia/Tesis/Proyecto_tecnologico/New/Post_dictionary/post_level/dep_neg_ver1key30'\n",
    "#version 2\n",
    "post_pos_dep2  =  '/home/est_posgrado_maria.garcia/Tesis/Proyecto_tecnologico/New/Post_dictionary/post_level/dep_pos_ver2key30'\n",
    "post_neg_dep2  =  '/home/est_posgrado_maria.garcia/Tesis/Proyecto_tecnologico/New/Post_dictionary/post_level/dep_neg_ver1key30'\n",
    "\n",
    "##                                         USER VERSION OF THE DICTIONARIES OF THE USERS                        #\n",
    "#---------------------------ANOREXIA-------------------#\n",
    "#version 1\n",
    "user_pos_anxia1 = '/home/est_posgrado_maria.garcia/Tesis/Proyecto_tecnologico/New/User_dictionary/anxia_pos_ver3'\n",
    "user_neg_anxia1 = '/home/est_posgrado_maria.garcia/Tesis/Proyecto_tecnologico/New/User_dictionary/anxia_neg_ver3'\n",
    "#version 2\n",
    "user_pos_anxia2 = '/home/est_posgrado_maria.garcia/Tesis/Proyecto_tecnologico/New/User_dictionary/anxia_pos_ver4'\n",
    "user_neg_anxia2 = '/home/est_posgrado_maria.garcia/Tesis/Proyecto_tecnologico/New/User_dictionary/anxia_neg_ver4'\n",
    "\n",
    "user_pos_anxia3 = '/home/est_posgrado_maria.garcia/Tesis/Proyecto_tecnologico/New/User_dictionary/anxia_pos_ver5'\n",
    "user_neg_anxia3 = '/home/est_posgrado_maria.garcia/Tesis/Proyecto_tecnologico/New/User_dictionary/anxia_neg_ver5'\n",
    "#version 2\n",
    "user_pos_anxia4 = '/home/est_posgrado_maria.garcia/Tesis/Proyecto_tecnologico/New/User_dictionary/anxia_pos_ver6'\n",
    "user_neg_anxia4 = '/home/est_posgrado_maria.garcia/Tesis/Proyecto_tecnologico/New/User_dictionary/anxia_neg_ver6'\n",
    "\n",
    "#---------------------------DEPRESSION-----------------#\n",
    "#version 1\n",
    "user_pos_dep1 = '/home/est_posgrado_maria.garcia/Tesis/Proyecto_tecnologico/New/User_dictionary/dep_pos_ver3'\n",
    "user_neg_dep1 = '/home/est_posgrado_maria.garcia/Tesis/Proyecto_tecnologico/New/User_dictionary/dep_neg_ver3'\n",
    "#version 2\n",
    "user_pos_dep2 = '/home/est_posgrado_maria.garcia/Tesis/Proyecto_tecnologico/New/User_dictionary/dep_pos_ver4'\n",
    "user_neg_dep2 = '/home/est_posgrado_maria.garcia/Tesis/Proyecto_tecnologico/New/User_dictionary/dep_neg_ver4'\n",
    "\n",
    "user_pos_dep3 = '/home/est_posgrado_maria.garcia/Tesis/Proyecto_tecnologico/New/User_dictionary/dep_pos_ver5'\n",
    "user_neg_dep3 = '/home/est_posgrado_maria.garcia/Tesis/Proyecto_tecnologico/New/User_dictionary/dep_neg_ver5'\n",
    "#version 2\n",
    "user_pos_dep4 = '/home/est_posgrado_maria.garcia/Tesis/Proyecto_tecnologico/New/User_dictionary/dep_pos_ver6'\n",
    "user_neg_dep4 = '/home/est_posgrado_maria.garcia/Tesis/Proyecto_tecnologico/New/User_dictionary/dep_neg_ver6'\n",
    "\n",
    "##                                                   CONCATANTE ALL THE TEXT \n",
    "#version 1\n",
    "con_pos_anxia1 = '/home/est_posgrado_maria.garcia/Tesis/Proyecto_tecnologico/New/Con_dictionary/anxia_pos_ver3'\n",
    "con_neg_anxia1 = '/home/est_posgrado_maria.garcia/Tesis/Proyecto_tecnologico/New/Con_dictionary/anxia_neg_ver3'\n",
    "#version 2\n",
    "con_pos_anxia2 = '/home/est_posgrado_maria.garcia/Tesis/Proyecto_tecnologico/New/Con_dictionary/anxia_pos_ver4'\n",
    "con_neg_anxia2 = '/home/est_posgrado_maria.garcia/Tesis/Proyecto_tecnologico/New/Con_dictionary/anxia_neg_ver4'\n",
    "\n",
    "con_pos_anxia3 = '/home/est_posgrado_maria.garcia/Tesis/Proyecto_tecnologico/New/Con_dictionary/anxia_pos_ver5'\n",
    "con_neg_anxia3 = '/home/est_posgrado_maria.garcia/Tesis/Proyecto_tecnologico/New/Con_dictionary/anxia_neg_ver5'\n",
    "#version 2\n",
    "con_pos_anxia4 = '/home/est_posgrado_maria.garcia/Tesis/Proyecto_tecnologico/New/Con_dictionary/anxia_pos_ver6'\n",
    "con_neg_anxia4 = '/home/est_posgrado_maria.garcia/Tesis/Proyecto_tecnologico/New/Con_dictionary/anxia_neg_ver6'\n",
    "\n",
    "#---------------------------DEPRESSION-----------------#\n",
    "#version 1\n",
    "con_pos_dep1 = '/home/est_posgrado_maria.garcia/Tesis/Proyecto_tecnologico/New/Con_dictionary/dep_pos_ver3'\n",
    "con_neg_dep1 = '/home/est_posgrado_maria.garcia/Tesis/Proyecto_tecnologico/New/Con_dictionary/dep_neg_ver3'\n",
    "#version 2\n",
    "con_pos_dep2 = '/home/est_posgrado_maria.garcia/Tesis/Proyecto_tecnologico/New/Con_dictionary/dep_pos_ver4'\n",
    "con_neg_dep2 = '/home/est_posgrado_maria.garcia/Tesis/Proyecto_tecnologico/New/Con_dictionary/dep_neg_ver4'\n",
    "\n",
    "con_pos_dep3 = '/home/est_posgrado_maria.garcia/Tesis/Proyecto_tecnologico/New/Con_dictionary/dep_pos_ver5'\n",
    "con_neg_dep3= '/home/est_posgrado_maria.garcia/Tesis/Proyecto_tecnologico/New/Con_dictionary/dep_neg_ver5'\n",
    "#version 2\n",
    "con_pos_dep4 = '/home/est_posgrado_maria.garcia/Tesis/Proyecto_tecnologico/New/Con_dictionary/dep_pos_ver6'\n",
    "con_neg_dep4 = '/home/est_posgrado_maria.garcia/Tesis/Proyecto_tecnologico/New/Con_dictionary/dep_neg_ver6'\n",
    "\n"
   ]
  },
  {
   "cell_type": "markdown",
   "id": "73110bbf",
   "metadata": {},
   "source": [
    "# Functions "
   ]
  },
  {
   "cell_type": "code",
   "execution_count": 4,
   "id": "90837143",
   "metadata": {},
   "outputs": [],
   "source": [
    "def clustering_features(matrix_emb, num_cluster):\n",
    "    #convert the matrix_emb to a list of vectors\n",
    "    list_vectors = list(matrix_emb)\n",
    "\n",
    "    k_cluster = KMeansClusterer(num_cluster,\n",
    "                distance = nltk.cluster.util.cosine_distance,\n",
    "                repeats = 25,\n",
    "                avoid_empty_clusters = True)\n",
    "    #return a list with the cluster assign to each vector \n",
    "    assigned_clusters = k_cluster.cluster(list_vectors, assign_clusters = True)\n",
    "    centroids = k_cluster.means()\n",
    "\n",
    "    return np.array(assigned_clusters), np.array(centroids)"
   ]
  },
  {
   "cell_type": "markdown",
   "id": "b31a7007",
   "metadata": {},
   "source": [
    "# Level post"
   ]
  },
  {
   "cell_type": "markdown",
   "id": "66907f86",
   "metadata": {},
   "source": [
    "## Anorexia"
   ]
  },
  {
   "cell_type": "markdown",
   "id": "855ae608",
   "metadata": {},
   "source": [
    "### Uppercase model embedding anxia"
   ]
  },
  {
   "cell_type": "code",
   "execution_count": 5,
   "id": "0d88c57d",
   "metadata": {},
   "outputs": [],
   "source": [
    "kw1 = get_list_key(post_pos_anxia1)\n",
    "kw2 = get_list_key(post_neg_anxia1)\n"
   ]
  },
  {
   "cell_type": "code",
   "execution_count": 6,
   "id": "515c3f63",
   "metadata": {},
   "outputs": [],
   "source": [
    "words_pos_anxia1 = get_words_from_kw(kw1)\n",
    "words_neg_anxia1 = get_words_from_kw(kw2)"
   ]
  },
  {
   "cell_type": "code",
   "execution_count": 7,
   "id": "50932f88",
   "metadata": {},
   "outputs": [],
   "source": [
    "post_anxia_emb_matrix_pos1 = get_dictionary_matrix(words_pos_anxia1,1)\n",
    "post_anxia_emb_matrix_neg1 = get_dictionary_matrix(words_neg_anxia1,1)"
   ]
  },
  {
   "cell_type": "markdown",
   "id": "eb4e3d29",
   "metadata": {},
   "source": [
    "### Uppercase model embedding pretrained"
   ]
  },
  {
   "cell_type": "code",
   "execution_count": 8,
   "id": "e5ac8ecb",
   "metadata": {},
   "outputs": [],
   "source": [
    "post_anxia_emb_matrix_pos2 = get_dictionary_matrix(words_pos_anxia1,3)\n",
    "post_anxia_emb_matrix_neg2 = get_dictionary_matrix(words_neg_anxia1,3)"
   ]
  },
  {
   "cell_type": "markdown",
   "id": "723387b6",
   "metadata": {},
   "source": [
    "### Uppercase model embedding emotions"
   ]
  },
  {
   "cell_type": "code",
   "execution_count": 9,
   "id": "07785df3",
   "metadata": {},
   "outputs": [],
   "source": [
    "post_anxia_emb_matrix_pos3 = get_dictionary_matrix(words_pos_anxia1,4)\n",
    "post_anxia_emb_matrix_neg3 = get_dictionary_matrix(words_neg_anxia1,4)"
   ]
  },
  {
   "cell_type": "markdown",
   "id": "56232ac9",
   "metadata": {},
   "source": [
    "### Lowercase model embedding anxia "
   ]
  },
  {
   "cell_type": "code",
   "execution_count": 10,
   "id": "ffa7ede0",
   "metadata": {},
   "outputs": [],
   "source": [
    "kw3 = get_list_key(post_pos_anxia2)\n",
    "kw4 = get_list_key(post_neg_anxia2)\n"
   ]
  },
  {
   "cell_type": "code",
   "execution_count": 11,
   "id": "9fb722cb",
   "metadata": {},
   "outputs": [],
   "source": [
    "words_pos_anxia2 = get_words_from_kw(kw3)\n",
    "words_neg_anxia2 = get_words_from_kw(kw4)"
   ]
  },
  {
   "cell_type": "code",
   "execution_count": 12,
   "id": "4f069f6f",
   "metadata": {},
   "outputs": [],
   "source": [
    "post_anxia_emb_matrix_pos4 = get_dictionary_matrix(words_pos_anxia2,1)\n",
    "post_anxia_emb_matrix_neg4 = get_dictionary_matrix(words_neg_anxia2,1)"
   ]
  },
  {
   "cell_type": "markdown",
   "id": "136ef9ab",
   "metadata": {},
   "source": [
    "### Lowercase model embedding pre-trained "
   ]
  },
  {
   "cell_type": "code",
   "execution_count": 13,
   "id": "4180261f",
   "metadata": {},
   "outputs": [],
   "source": [
    "post_anxia_emb_matrix_pos5 = get_dictionary_matrix(words_pos_anxia2,3)\n",
    "post_anxia_emb_matrix_neg5 = get_dictionary_matrix(words_neg_anxia2,3)"
   ]
  },
  {
   "cell_type": "markdown",
   "id": "6b566898",
   "metadata": {},
   "source": [
    "### Lowercase model embedding emotions"
   ]
  },
  {
   "cell_type": "code",
   "execution_count": 14,
   "id": "e0a93781",
   "metadata": {},
   "outputs": [],
   "source": [
    "post_anxia_emb_matrix_pos6 = get_dictionary_matrix(words_pos_anxia2,4)\n",
    "post_anxia_emb_matrix_neg6 = get_dictionary_matrix(words_neg_anxia2,4)"
   ]
  },
  {
   "cell_type": "markdown",
   "id": "1ef8b5fe",
   "metadata": {},
   "source": [
    "## Depression "
   ]
  },
  {
   "cell_type": "markdown",
   "id": "87991b11",
   "metadata": {},
   "source": [
    "### Uppercase "
   ]
  },
  {
   "cell_type": "code",
   "execution_count": 15,
   "id": "9827766c",
   "metadata": {},
   "outputs": [],
   "source": [
    "kw5 = get_list_key(post_pos_dep1)\n",
    "kw6 = get_list_key(post_neg_dep1)\n",
    "words_pos_dep1 = get_words_from_kw(kw5)\n",
    "words_neg_dep1 = get_words_from_kw(kw6)"
   ]
  },
  {
   "cell_type": "markdown",
   "id": "d58e659b",
   "metadata": {},
   "source": [
    "### Model embedding dep"
   ]
  },
  {
   "cell_type": "code",
   "execution_count": 16,
   "id": "55d94b5f",
   "metadata": {},
   "outputs": [],
   "source": [
    "post_dep_emb_matrix_pos1 = get_dictionary_matrix(words_pos_dep1,2)\n",
    "post_dep_emb_matrix_neg1 = get_dictionary_matrix(words_neg_dep1,2)"
   ]
  },
  {
   "cell_type": "markdown",
   "id": "eb0d0c22",
   "metadata": {},
   "source": [
    "### Model embedding pre_trained "
   ]
  },
  {
   "cell_type": "code",
   "execution_count": 17,
   "id": "007a30bf",
   "metadata": {},
   "outputs": [],
   "source": [
    "post_dep_emb_matrix_pos2 = get_dictionary_matrix(words_pos_dep1,3)\n",
    "post_dep_emb_matrix_neg2 = get_dictionary_matrix(words_neg_dep1,3)"
   ]
  },
  {
   "cell_type": "markdown",
   "id": "271d533a",
   "metadata": {},
   "source": [
    "### Model embedding emotions "
   ]
  },
  {
   "cell_type": "code",
   "execution_count": 18,
   "id": "56a20d08",
   "metadata": {},
   "outputs": [],
   "source": [
    "post_dep_emb_matrix_pos3 = get_dictionary_matrix(words_pos_dep1,4)\n",
    "post_dep_emb_matrix_neg3 = get_dictionary_matrix(words_neg_dep1,4)"
   ]
  },
  {
   "cell_type": "markdown",
   "id": "1f4b8bcf",
   "metadata": {},
   "source": [
    "### Lowercase"
   ]
  },
  {
   "cell_type": "code",
   "execution_count": 19,
   "id": "d0043cac",
   "metadata": {},
   "outputs": [],
   "source": [
    "kw7 = get_list_key(post_pos_dep2)\n",
    "kw8 = get_list_key(post_neg_dep2)\n",
    "words_pos_dep2 = get_words_from_kw(kw7)\n",
    "words_neg_dep2 = get_words_from_kw(kw8)"
   ]
  },
  {
   "cell_type": "markdown",
   "id": "f9fc1c60",
   "metadata": {},
   "source": [
    "### Model embedding dep"
   ]
  },
  {
   "cell_type": "code",
   "execution_count": 20,
   "id": "57b9a984",
   "metadata": {},
   "outputs": [],
   "source": [
    "post_dep_emb_matrix_pos4 = get_dictionary_matrix(words_pos_dep2,2)\n",
    "post_dep_emb_matrix_neg4 = get_dictionary_matrix(words_neg_dep2,2)"
   ]
  },
  {
   "cell_type": "markdown",
   "id": "963dfcef",
   "metadata": {},
   "source": [
    "### Model embedding pre_trained"
   ]
  },
  {
   "cell_type": "code",
   "execution_count": 21,
   "id": "ebe85a31",
   "metadata": {},
   "outputs": [],
   "source": [
    "post_dep_emb_matrix_pos5 = get_dictionary_matrix(words_pos_dep2,3)\n",
    "post_dep_emb_matrix_neg5 = get_dictionary_matrix(words_neg_dep2,3)"
   ]
  },
  {
   "cell_type": "markdown",
   "id": "37c012a9",
   "metadata": {},
   "source": [
    "### Model embedding emotions"
   ]
  },
  {
   "cell_type": "code",
   "execution_count": 22,
   "id": "c76f9a4a",
   "metadata": {},
   "outputs": [],
   "source": [
    "post_dep_emb_matrix_pos6 = get_dictionary_matrix(words_pos_dep2,4)\n",
    "post_dep_emb_matrix_neg6 = get_dictionary_matrix(words_neg_dep2,4)"
   ]
  },
  {
   "cell_type": "markdown",
   "id": "e93f90f0",
   "metadata": {},
   "source": [
    "# Level user"
   ]
  },
  {
   "cell_type": "markdown",
   "id": "43067492",
   "metadata": {},
   "source": [
    "## Anorexia"
   ]
  },
  {
   "cell_type": "markdown",
   "id": "ebdf9f11",
   "metadata": {},
   "source": [
    " ### Uppercase"
   ]
  },
  {
   "cell_type": "code",
   "execution_count": 23,
   "id": "ee421b50",
   "metadata": {},
   "outputs": [],
   "source": [
    "kw9 = get_list_key(user_pos_anxia1)\n",
    "kw10 = get_list_key(user_neg_anxia1)\n",
    "words_pos_anxia3 = get_words_from_kw(kw9)\n",
    "words_neg_anxia3 = get_words_from_kw(kw10)"
   ]
  },
  {
   "cell_type": "markdown",
   "id": "1614e4bd",
   "metadata": {},
   "source": [
    "### Embedding model anxia \n"
   ]
  },
  {
   "cell_type": "code",
   "execution_count": 24,
   "id": "0162da99",
   "metadata": {},
   "outputs": [],
   "source": [
    "user_anxia_emb_matrix_pos1 = get_dictionary_matrix(words_pos_anxia3,1)\n",
    "user_anxia_emb_matrix_neg1 = get_dictionary_matrix(words_neg_anxia3,1)"
   ]
  },
  {
   "cell_type": "markdown",
   "id": "11ac84c4",
   "metadata": {},
   "source": [
    "### Embedding pretrained"
   ]
  },
  {
   "cell_type": "code",
   "execution_count": 25,
   "id": "047d9a9e",
   "metadata": {},
   "outputs": [],
   "source": [
    "user_anxia_emb_matrix_pos2 = get_dictionary_matrix(words_pos_anxia3,3)\n",
    "user_anxia_emb_matrix_neg2 = get_dictionary_matrix(words_neg_anxia3,3)"
   ]
  },
  {
   "cell_type": "markdown",
   "id": "44b3ddf3",
   "metadata": {},
   "source": [
    "### Uppercase model embedding emotions"
   ]
  },
  {
   "cell_type": "code",
   "execution_count": 26,
   "id": "f4b0e2c5",
   "metadata": {},
   "outputs": [],
   "source": [
    "user_anxia_emb_matrix_pos3 = get_dictionary_matrix(words_pos_anxia3,4)\n",
    "user_anxia_emb_matrix_neg3 = get_dictionary_matrix(words_neg_anxia3,4)"
   ]
  },
  {
   "cell_type": "markdown",
   "id": "17cac847",
   "metadata": {},
   "source": [
    "### Lowercase"
   ]
  },
  {
   "cell_type": "code",
   "execution_count": 27,
   "id": "69b3888d",
   "metadata": {},
   "outputs": [],
   "source": [
    "kw11 = get_list_key(user_pos_anxia2)\n",
    "kw12 = get_list_key(user_neg_anxia2)"
   ]
  },
  {
   "cell_type": "code",
   "execution_count": 28,
   "id": "2f31f988",
   "metadata": {},
   "outputs": [],
   "source": [
    "words_pos_anxia4 = get_words_from_kw(kw11)\n",
    "words_neg_anxia4 = get_words_from_kw(kw12)"
   ]
  },
  {
   "cell_type": "markdown",
   "id": "4b844da2",
   "metadata": {},
   "source": [
    "### Model embedding anxia "
   ]
  },
  {
   "cell_type": "code",
   "execution_count": 29,
   "id": "c3929630",
   "metadata": {},
   "outputs": [],
   "source": [
    "user_anxia_emb_matrix_pos4 = get_dictionary_matrix(words_pos_anxia4,1)\n",
    "user_anxia_emb_matrix_neg4 = get_dictionary_matrix(words_neg_anxia4,1)"
   ]
  },
  {
   "cell_type": "markdown",
   "id": "398c8891",
   "metadata": {},
   "source": [
    "### Lowercase model embedding pre-trained "
   ]
  },
  {
   "cell_type": "code",
   "execution_count": 30,
   "id": "8671a9d8",
   "metadata": {},
   "outputs": [],
   "source": [
    "user_anxia_emb_matrix_pos5 = get_dictionary_matrix(words_pos_anxia4,3)\n",
    "user_anxia_emb_matrix_neg5 = get_dictionary_matrix(words_neg_anxia4,3)"
   ]
  },
  {
   "cell_type": "markdown",
   "id": "81466dbf",
   "metadata": {},
   "source": [
    "### Lowercase model embedding emotions"
   ]
  },
  {
   "cell_type": "code",
   "execution_count": 31,
   "id": "fa31cdc2",
   "metadata": {},
   "outputs": [],
   "source": [
    "user_anxia_emb_matrix_pos6 = get_dictionary_matrix(words_pos_anxia4,4)\n",
    "user_anxia_emb_matrix_neg6 = get_dictionary_matrix(words_neg_anxia4,4)"
   ]
  },
  {
   "cell_type": "markdown",
   "id": "75eb16ef",
   "metadata": {},
   "source": [
    "## Depression "
   ]
  },
  {
   "cell_type": "markdown",
   "id": "c6680552",
   "metadata": {},
   "source": [
    "### Uppercase "
   ]
  },
  {
   "cell_type": "code",
   "execution_count": 32,
   "id": "16533b52",
   "metadata": {},
   "outputs": [],
   "source": [
    "kw13 = get_list_key(user_pos_dep1)\n",
    "kw14 = get_list_key(user_neg_dep1)\n",
    "words_pos_dep3 = get_words_from_kw(kw13)\n",
    "words_neg_dep3 = get_words_from_kw(kw14)"
   ]
  },
  {
   "cell_type": "markdown",
   "id": "e85e1e91",
   "metadata": {},
   "source": [
    "### Model embedding dep"
   ]
  },
  {
   "cell_type": "code",
   "execution_count": 33,
   "id": "92aeac8c",
   "metadata": {},
   "outputs": [],
   "source": [
    "user_dep_emb_matrix_pos1 = get_dictionary_matrix(words_pos_dep3,2)\n",
    "user_dep_emb_matrix_neg1 = get_dictionary_matrix(words_neg_dep3,2)"
   ]
  },
  {
   "cell_type": "markdown",
   "id": "b1711c00",
   "metadata": {},
   "source": [
    "### Model embedding pre_trained "
   ]
  },
  {
   "cell_type": "code",
   "execution_count": 34,
   "id": "c5aaf9fc",
   "metadata": {},
   "outputs": [],
   "source": [
    "user_dep_emb_matrix_pos2 = get_dictionary_matrix(words_pos_dep3,3)\n",
    "user_dep_emb_matrix_neg2 = get_dictionary_matrix(words_neg_dep3,3)"
   ]
  },
  {
   "cell_type": "markdown",
   "id": "f9e152b1",
   "metadata": {},
   "source": [
    "### Model embedding emotions "
   ]
  },
  {
   "cell_type": "code",
   "execution_count": 35,
   "id": "f597a757",
   "metadata": {},
   "outputs": [],
   "source": [
    "user_dep_emb_matrix_pos3 = get_dictionary_matrix(words_pos_dep3,4)\n",
    "user_dep_emb_matrix_neg3 = get_dictionary_matrix(words_neg_dep3,4)"
   ]
  },
  {
   "cell_type": "markdown",
   "id": "763b006d",
   "metadata": {},
   "source": [
    "### Lowercase"
   ]
  },
  {
   "cell_type": "code",
   "execution_count": 36,
   "id": "d1bf10ee",
   "metadata": {},
   "outputs": [],
   "source": [
    "kw15 = get_list_key(user_pos_dep2)\n",
    "kw16 = get_list_key(user_neg_dep2)\n",
    "words_pos_dep4 = get_words_from_kw(kw15)\n",
    "words_neg_dep4 = get_words_from_kw(kw16)"
   ]
  },
  {
   "cell_type": "markdown",
   "id": "56f4594e",
   "metadata": {},
   "source": [
    "### Model embedding dep"
   ]
  },
  {
   "cell_type": "code",
   "execution_count": 37,
   "id": "1d5fcd6c",
   "metadata": {},
   "outputs": [],
   "source": [
    "user_dep_emb_matrix_pos4 = get_dictionary_matrix(words_pos_dep4,2)\n",
    "user_dep_emb_matrix_neg4 = get_dictionary_matrix(words_neg_dep4,2)"
   ]
  },
  {
   "cell_type": "markdown",
   "id": "93c50f0e",
   "metadata": {},
   "source": [
    "### Model embedding pre_trained"
   ]
  },
  {
   "cell_type": "code",
   "execution_count": 38,
   "id": "061f0a64",
   "metadata": {},
   "outputs": [],
   "source": [
    "user_dep_emb_matrix_pos5 = get_dictionary_matrix(words_pos_dep4,3)\n",
    "user_dep_emb_matrix_neg5 = get_dictionary_matrix(words_neg_dep4,3)"
   ]
  },
  {
   "cell_type": "markdown",
   "id": "9e7509b1",
   "metadata": {},
   "source": [
    "### Model embedding emotions"
   ]
  },
  {
   "cell_type": "code",
   "execution_count": 39,
   "id": "563ba375",
   "metadata": {},
   "outputs": [],
   "source": [
    "user_dep_emb_matrix_pos6 = get_dictionary_matrix(words_pos_dep4,4)\n",
    "user_dep_emb_matrix_neg6 = get_dictionary_matrix(words_neg_dep4,4)"
   ]
  },
  {
   "cell_type": "markdown",
   "id": "1c059992",
   "metadata": {},
   "source": [
    "# Level concatenation"
   ]
  },
  {
   "cell_type": "markdown",
   "id": "90b7d938",
   "metadata": {},
   "source": [
    "## Anorexia"
   ]
  },
  {
   "cell_type": "markdown",
   "id": "eb837b80",
   "metadata": {},
   "source": [
    " ### Uppercase"
   ]
  },
  {
   "cell_type": "code",
   "execution_count": 40,
   "id": "5788ff44",
   "metadata": {},
   "outputs": [],
   "source": [
    "kw17 = get_list_key(con_pos_anxia1)\n",
    "kw18 = get_list_key(con_neg_anxia1)\n",
    "words_pos_anxia5 = get_words_from_kw(kw17)\n",
    "words_neg_anxia5 = get_words_from_kw(kw18)"
   ]
  },
  {
   "cell_type": "markdown",
   "id": "b378dcce",
   "metadata": {},
   "source": [
    "### Embedding model anxia "
   ]
  },
  {
   "cell_type": "code",
   "execution_count": 41,
   "id": "771e0f1c",
   "metadata": {},
   "outputs": [],
   "source": [
    "con_anxia_emb_matrix_pos1 = get_dictionary_matrix(words_pos_anxia5,1)\n",
    "con_anxia_emb_matrix_neg1 = get_dictionary_matrix(words_neg_anxia5,1)"
   ]
  },
  {
   "cell_type": "markdown",
   "id": "3a7412e9",
   "metadata": {},
   "source": [
    "### Embedding pretrained"
   ]
  },
  {
   "cell_type": "code",
   "execution_count": 42,
   "id": "fec5a8f0",
   "metadata": {},
   "outputs": [],
   "source": [
    "con_anxia_emb_matrix_pos2 = get_dictionary_matrix(words_pos_anxia5,3)\n",
    "con_anxia_emb_matrix_neg2 = get_dictionary_matrix(words_neg_anxia5,3)"
   ]
  },
  {
   "cell_type": "markdown",
   "id": "2f052173",
   "metadata": {},
   "source": [
    "### Uppercase model embedding emotions"
   ]
  },
  {
   "cell_type": "code",
   "execution_count": 43,
   "id": "44aebbac",
   "metadata": {},
   "outputs": [],
   "source": [
    "con_anxia_emb_matrix_pos3 = get_dictionary_matrix(words_pos_anxia5,4)\n",
    "con_anxia_emb_matrix_neg3 = get_dictionary_matrix(words_neg_anxia5,4)"
   ]
  },
  {
   "cell_type": "markdown",
   "id": "70a39c6e",
   "metadata": {},
   "source": [
    "### Lowercase"
   ]
  },
  {
   "cell_type": "code",
   "execution_count": 44,
   "id": "54b82fc9",
   "metadata": {},
   "outputs": [],
   "source": [
    "kw19 = get_list_key(con_pos_anxia2)\n",
    "kw20 = get_list_key(con_neg_anxia2)"
   ]
  },
  {
   "cell_type": "code",
   "execution_count": 45,
   "id": "804f540f",
   "metadata": {},
   "outputs": [],
   "source": [
    "words_pos_anxia6 = get_words_from_kw(kw19)\n",
    "words_neg_anxia6 = get_words_from_kw(kw20)"
   ]
  },
  {
   "cell_type": "markdown",
   "id": "638f30cb",
   "metadata": {},
   "source": [
    "### Model embedding anxia "
   ]
  },
  {
   "cell_type": "code",
   "execution_count": 46,
   "id": "d83169ad",
   "metadata": {},
   "outputs": [],
   "source": [
    "con_anxia_emb_matrix_pos4 = get_dictionary_matrix(words_pos_anxia6,1)\n",
    "con_anxia_emb_matrix_neg4 = get_dictionary_matrix(words_neg_anxia6,1)"
   ]
  },
  {
   "cell_type": "markdown",
   "id": "4e50d09c",
   "metadata": {},
   "source": [
    "### Lowercase model embedding pre-trained "
   ]
  },
  {
   "cell_type": "code",
   "execution_count": 47,
   "id": "6bf1457f",
   "metadata": {},
   "outputs": [],
   "source": [
    "con_anxia_emb_matrix_pos5 = get_dictionary_matrix(words_pos_anxia6,3)\n",
    "con_anxia_emb_matrix_neg5 = get_dictionary_matrix(words_neg_anxia6,3)"
   ]
  },
  {
   "cell_type": "markdown",
   "id": "7b7a7e09",
   "metadata": {},
   "source": [
    "### Lowercase model embedding emotions"
   ]
  },
  {
   "cell_type": "code",
   "execution_count": 48,
   "id": "2866ce62",
   "metadata": {},
   "outputs": [],
   "source": [
    "con_anxia_emb_matrix_pos6 = get_dictionary_matrix(words_pos_anxia6,4)\n",
    "con_anxia_emb_matrix_neg6 = get_dictionary_matrix(words_neg_anxia6,4)"
   ]
  },
  {
   "cell_type": "markdown",
   "id": "7db1cb71",
   "metadata": {},
   "source": [
    "## Depression "
   ]
  },
  {
   "cell_type": "markdown",
   "id": "a36850b4",
   "metadata": {},
   "source": [
    "### Uppercase "
   ]
  },
  {
   "cell_type": "code",
   "execution_count": 49,
   "id": "55532b09",
   "metadata": {},
   "outputs": [],
   "source": [
    "kw21 = get_list_key(con_pos_dep1)\n",
    "kw22 = get_list_key(con_neg_dep1)\n",
    "words_pos_dep5 = get_words_from_kw(kw21)\n",
    "words_neg_dep5 = get_words_from_kw(kw22)"
   ]
  },
  {
   "cell_type": "markdown",
   "id": "ae811054",
   "metadata": {},
   "source": [
    "### Model embedding dep"
   ]
  },
  {
   "cell_type": "code",
   "execution_count": 50,
   "id": "e3fe428e",
   "metadata": {},
   "outputs": [],
   "source": [
    "con_dep_emb_matrix_pos1 = get_dictionary_matrix(words_pos_dep5,2)\n",
    "con_dep_emb_matrix_neg1 = get_dictionary_matrix(words_neg_dep5,2)"
   ]
  },
  {
   "cell_type": "markdown",
   "id": "c8131bdf",
   "metadata": {},
   "source": [
    "### Model embedding pre_trained "
   ]
  },
  {
   "cell_type": "code",
   "execution_count": 51,
   "id": "6023041b",
   "metadata": {},
   "outputs": [],
   "source": [
    "con_dep_emb_matrix_pos2 = get_dictionary_matrix(words_pos_dep5,3)\n",
    "con_dep_emb_matrix_neg2 = get_dictionary_matrix(words_neg_dep5,3)"
   ]
  },
  {
   "cell_type": "markdown",
   "id": "ee23911f",
   "metadata": {},
   "source": [
    "### Model embedding emotions "
   ]
  },
  {
   "cell_type": "code",
   "execution_count": 52,
   "id": "b642780e",
   "metadata": {},
   "outputs": [],
   "source": [
    "con_dep_emb_matrix_pos3 = get_dictionary_matrix(words_pos_dep5,4)\n",
    "con_dep_emb_matrix_neg3 = get_dictionary_matrix(words_neg_dep5,4)"
   ]
  },
  {
   "cell_type": "markdown",
   "id": "e643e137",
   "metadata": {},
   "source": [
    "### Lowercase"
   ]
  },
  {
   "cell_type": "code",
   "execution_count": 53,
   "id": "c5736e4b",
   "metadata": {},
   "outputs": [],
   "source": [
    "kw23 = get_list_key(con_pos_dep2)\n",
    "kw24 = get_list_key(con_neg_dep2)\n",
    "words_pos_dep6 = get_words_from_kw(kw23)\n",
    "words_neg_dep6 = get_words_from_kw(kw24)"
   ]
  },
  {
   "cell_type": "markdown",
   "id": "3a66e57a",
   "metadata": {},
   "source": [
    "### Model embedding dep"
   ]
  },
  {
   "cell_type": "code",
   "execution_count": 54,
   "id": "11670976",
   "metadata": {},
   "outputs": [],
   "source": [
    "con_dep_emb_matrix_pos4 = get_dictionary_matrix(words_pos_dep6,2)\n",
    "con_dep_emb_matrix_neg4 = get_dictionary_matrix(words_neg_dep6,2)"
   ]
  },
  {
   "cell_type": "markdown",
   "id": "e17b3fb6",
   "metadata": {},
   "source": [
    "### Model embedding pre_trained"
   ]
  },
  {
   "cell_type": "code",
   "execution_count": 55,
   "id": "14d2c1e5",
   "metadata": {},
   "outputs": [],
   "source": [
    "con_dep_emb_matrix_pos5 = get_dictionary_matrix(words_pos_dep6,3)\n",
    "con_dep_emb_matrix_neg5 = get_dictionary_matrix(words_neg_dep6,3)"
   ]
  },
  {
   "cell_type": "markdown",
   "id": "154e1581",
   "metadata": {},
   "source": [
    "### Model embedding emotions"
   ]
  },
  {
   "cell_type": "code",
   "execution_count": 56,
   "id": "66b68dc0",
   "metadata": {},
   "outputs": [],
   "source": [
    "con_dep_emb_matrix_pos6 = get_dictionary_matrix(words_pos_dep6,4)\n",
    "con_dep_emb_matrix_neg6 = get_dictionary_matrix(words_neg_dep6,4)"
   ]
  },
  {
   "cell_type": "markdown",
   "id": "68818330",
   "metadata": {},
   "source": [
    "# Make clustering"
   ]
  },
  {
   "cell_type": "code",
   "execution_count": 57,
   "id": "3197be64",
   "metadata": {},
   "outputs": [],
   "source": [
    "def get_represententing_words(word_embedding_matrix, num_clusters, dictionary):\n",
    "    words_centroid = dict()\n",
    "    array_clusters, centroids = clustering_features(word_embedding_matrix, num_clusters)\n",
    "    #calculate the cosine similarity between the centroids and the embedings of the words\n",
    "    similarity_matrix = sklearn.metrics.pairwise.cosine_similarity(word_embedding_matrix, centroids)\n",
    "    #array with the maximum by column\n",
    "    max_similarity = np.amax(similarity_matrix, axis = 0)\n",
    "    #find the index, n_lcuster is the number of cluster corresponding to the maximum in that cluster \n",
    "    index, n_cluster = np.where( similarity_matrix == max_similarity)\n",
    "    \n",
    "    for i in range(index.shape[0]):\n",
    "        words_centroid[n_cluster[i]] = dictionary[index[i]]\n",
    "    \n",
    "    return words_centroid"
   ]
  },
  {
   "cell_type": "markdown",
   "id": "06dafb99",
   "metadata": {},
   "source": [
    "# Get clusters "
   ]
  },
  {
   "cell_type": "markdown",
   "id": "da329c59",
   "metadata": {},
   "source": [
    "## Level post : 5 cluster "
   ]
  },
  {
   "cell_type": "code",
   "execution_count": 58,
   "id": "c8f40ac8",
   "metadata": {},
   "outputs": [],
   "source": [
    "cluster_path_5 = '/home/est_posgrado_maria.garcia/Tesis/Proyecto_tecnologico/New/Fuzzy_range/10-Cluster'"
   ]
  },
  {
   "cell_type": "code",
   "execution_count": 59,
   "id": "0064d403",
   "metadata": {},
   "outputs": [],
   "source": [
    "\n",
    "# post_anxia1 = get_represententing_words(post_anxia_emb_matrix_pos1, 10, words_pos_anxia1)\n",
    "\n",
    "\n",
    "# with open(cluster_path_5+'/post_anxia_uppercase', \"wb\") as fp:\n",
    "#     pickle.dump(post_anxia1, fp)\n",
    "#     fp.close()\n",
    "\n",
    "# post_anxia2 = get_represententing_words(post_anxia_emb_matrix_pos2, 10, words_pos_anxia1)\n",
    "# with open(cluster_path_5+'/post_pre_uppercase', \"wb\") as fp:\n",
    "#     pickle.dump(post_anxia2, fp)\n",
    "#     fp.close()\n",
    "\n",
    "# post_anxia3 = get_represententing_words(post_anxia_emb_matrix_pos3, 10, words_pos_anxia1)\n",
    "# with open(cluster_path_5+'/post_emo_uppercase', \"wb\") as fp:\n",
    "#     pickle.dump(post_anxia3, fp)\n",
    "#     fp.close()\n",
    "\n",
    "# post_anxia4 = get_represententing_words(post_anxia_emb_matrix_pos4, 10, words_pos_anxia2)\n",
    "# with open(cluster_path_5+'/post_anxia_lowercase', \"wb\") as fp:\n",
    "#     pickle.dump(post_anxia4, fp)\n",
    "#     fp.close()\n",
    "\n",
    "# post_anxia5 = get_represententing_words(post_anxia_emb_matrix_pos5, 10, words_pos_anxia2)\n",
    "# with open(cluster_path_5+'/post_pre_lowercase', \"wb\") as fp:\n",
    "#     pickle.dump(post_anxia5, fp)\n",
    "#     fp.close()\n",
    "\n",
    "# post_anxia6 = get_represententing_words(post_anxia_emb_matrix_pos6, 10, words_pos_anxia2)\n",
    "# with open(cluster_path_5+'/post_emo_lowercase', \"wb\") as fp:\n",
    "#     pickle.dump(post_anxia6, fp)\n",
    "#     fp.close()"
   ]
  },
  {
   "cell_type": "code",
   "execution_count": null,
   "id": "286ca009",
   "metadata": {},
   "outputs": [],
   "source": [
    "# post_neg_anxia1 = get_represententing_words(post_anxia_emb_matrix_neg1, 10, words_neg_anxia1)\n",
    "# with open(cluster_path_5+'/post_neg_anxia_uppercase', \"wb\") as fp:\n",
    "#     pickle.dump(post_neg_anxia1, fp)\n",
    "#     fp.close()\n",
    "\n",
    "# post_anxia2 = get_represententing_words(post_anxia_emb_matrix_neg2, 10, words_neg_anxia1)\n",
    "# with open(cluster_path_5+'/post_neg_pre_uppercase', \"wb\") as fp:\n",
    "#     pickle.dump(post_anxia2, fp)\n",
    "#     fp.close()\n",
    "\n",
    "# post_anxia3 = get_represententing_words(post_anxia_emb_matrix_neg3, 10, words_neg_anxia1)\n",
    "# with open(cluster_path_5+'/post_neg_emo_uppercase', \"wb\") as fp:\n",
    "#     pickle.dump(post_anxia3, fp)\n",
    "#     fp.close()\n",
    "\n",
    "# post_anxia4 = get_represententing_words(post_anxia_emb_matrix_neg4, 10, words_neg_anxia2)\n",
    "# with open(cluster_path_5+'/post_neg_anxia_lowercase', \"wb\") as fp:\n",
    "#     pickle.dump(post_anxia4, fp)\n",
    "#     fp.close()\n",
    "\n",
    "# post_anxia5 = get_represententing_words(post_anxia_emb_matrix_neg5, 10, words_neg_anxia2)\n",
    "# with open(cluster_path_5+'/post_neg_pre_lowercase', \"wb\") as fp:\n",
    "#     pickle.dump(post_anxia5, fp)\n",
    "#     fp.close()\n",
    "\n",
    "post_anxia6 = get_represententing_words(post_anxia_emb_matrix_neg6, 10, words_neg_anxia2)\n",
    "with open(cluster_path_5+'/post_neg_emo_lowercase', \"wb\") as fp:\n",
    "    pickle.dump(post_anxia6, fp)\n",
    "    fp.close()"
   ]
  },
  {
   "cell_type": "code",
   "execution_count": null,
   "id": "bed656a6",
   "metadata": {},
   "outputs": [],
   "source": [
    "# post_dep1 = get_represententing_words(post_dep_emb_matrix_pos1, 10, words_pos_dep1)\n",
    "# with open(cluster_path_5+'/post_dep_uppercase', \"wb\") as fp:\n",
    "#     pickle.dump(post_dep1, fp)\n",
    "#     fp.close()\n",
    "\n",
    "# post_dep2 = get_represententing_words(post_dep_emb_matrix_pos2, 10, words_pos_dep1)\n",
    "# with open(cluster_path_5+'/post_dep_pre_uppercase', \"wb\") as fp:\n",
    "#     pickle.dump(post_dep2, fp)\n",
    "#     fp.close()\n",
    "\n",
    "# post_dep3 = get_represententing_words(post_dep_emb_matrix_pos3, 10, words_pos_dep1)\n",
    "# with open(cluster_path_5+'/post_dep_emo_uppercase', \"wb\") as fp:\n",
    "#     pickle.dump(post_dep3, fp)\n",
    "#     fp.close()\n",
    "\n",
    "# post_dep4 = get_represententing_words(post_dep_emb_matrix_pos4, 10, words_pos_dep2)\n",
    "# with open(cluster_path_5+'/post_dep_lowercase', \"wb\") as fp:\n",
    "#     pickle.dump(post_dep4, fp)\n",
    "#     fp.close()\n",
    "\n",
    "post_dep5 = get_represententing_words(post_dep_emb_matrix_pos5, 10, words_pos_dep2)\n",
    "with open(cluster_path_5+'/post_dep_pre_lowercase', \"wb\") as fp:\n",
    "    pickle.dump(post_dep5, fp)\n",
    "    fp.close()\n",
    "\n",
    "post_dep6 = get_represententing_words(post_dep_emb_matrix_pos6, 10, words_pos_dep2)\n",
    "with open(cluster_path_5+'/post_dep_emo_lowercase', \"wb\") as fp:\n",
    "    pickle.dump(post_dep6, fp)\n",
    "    fp.close()"
   ]
  },
  {
   "cell_type": "code",
   "execution_count": null,
   "id": "70c408db",
   "metadata": {},
   "outputs": [],
   "source": []
  },
  {
   "cell_type": "code",
   "execution_count": null,
   "id": "b75f4df8",
   "metadata": {},
   "outputs": [],
   "source": []
  }
 ],
 "metadata": {
  "kernelspec": {
   "display_name": "Python 3 (ipykernel)",
   "language": "python",
   "name": "python3"
  },
  "language_info": {
   "codemirror_mode": {
    "name": "ipython",
    "version": 3
   },
   "file_extension": ".py",
   "mimetype": "text/x-python",
   "name": "python",
   "nbconvert_exporter": "python",
   "pygments_lexer": "ipython3",
   "version": "3.10.4"
  }
 },
 "nbformat": 4,
 "nbformat_minor": 5
}
